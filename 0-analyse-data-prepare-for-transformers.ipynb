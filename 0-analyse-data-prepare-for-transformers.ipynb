{
 "cells": [
  {
   "cell_type": "code",
   "execution_count": 1,
   "metadata": {},
   "outputs": [],
   "source": [
    "# Import necessary libraries\n",
    "import pandas as pd\n",
    "import parse"
   ]
  },
  {
   "cell_type": "code",
   "execution_count": 30,
   "metadata": {},
   "outputs": [],
   "source": [
    "# Define paths to data\n",
    "train = \"data/sled_categorization_TRAINSMALL_PREPROCESSED.txt\"\n",
    "\n",
    "test = \"data/sled_categorization_TEST_PREPROCESSED.txt\"\n",
    "\n",
    "dev = \"data/sled_categorization_DEV_PREPROCESSED.txt\""
   ]
  },
  {
   "cell_type": "markdown",
   "metadata": {},
   "source": [
    "## Analyse data"
   ]
  },
  {
   "cell_type": "code",
   "execution_count": 31,
   "metadata": {},
   "outputs": [],
   "source": [
    "# Parse the file to create a dataframe from them\n",
    "def parse_file(path: str):\n",
    "    \"\"\"Reads fasttext formatted file and returns labels, texts.\"\"\"\n",
    "    with open(path, \"r\") as f:\n",
    "        content = f.readlines()\n",
    "    pattern = \"__label__{label} {text}\\n\"\n",
    "    p = parse.compile(pattern)\n",
    "\n",
    "    labels, texts = list(), list()\n",
    "    for line in content:\n",
    "        rez = p.parse(line)\n",
    "        if rez is not None:\n",
    "            labels.append(rez[\"label\"])\n",
    "            texts.append(rez[\"text\"])\n",
    "        else:\n",
    "            print(\"error parsing line \", line)\n",
    "    dataframe = pd.DataFrame({\"label\": labels, \"text\": texts})\n",
    "    return dataframe"
   ]
  },
  {
   "cell_type": "code",
   "execution_count": 32,
   "metadata": {},
   "outputs": [
    {
     "data": {
      "text/html": [
       "<div>\n",
       "<style scoped>\n",
       "    .dataframe tbody tr th:only-of-type {\n",
       "        vertical-align: middle;\n",
       "    }\n",
       "\n",
       "    .dataframe tbody tr th {\n",
       "        vertical-align: top;\n",
       "    }\n",
       "\n",
       "    .dataframe thead th {\n",
       "        text-align: right;\n",
       "    }\n",
       "</style>\n",
       "<table border=\"1\" class=\"dataframe\">\n",
       "  <thead>\n",
       "    <tr style=\"text-align: right;\">\n",
       "      <th></th>\n",
       "      <th>label</th>\n",
       "      <th>text</th>\n",
       "    </tr>\n",
       "  </thead>\n",
       "  <tbody>\n",
       "    <tr>\n",
       "      <th>0</th>\n",
       "      <td>crnakronika</td>\n",
       "      <td>na tolminskem se je dopoldne zgodila prometna ...</td>\n",
       "    </tr>\n",
       "    <tr>\n",
       "      <th>1</th>\n",
       "      <td>crnakronika</td>\n",
       "      <td>na cesti zadlaz-žabče se je zgodila prometna n...</td>\n",
       "    </tr>\n",
       "    <tr>\n",
       "      <th>2</th>\n",
       "      <td>crnakronika</td>\n",
       "      <td>v sredo ob 1321 je bila novogoriška policija o...</td>\n",
       "    </tr>\n",
       "    <tr>\n",
       "      <th>3</th>\n",
       "      <td>crnakronika</td>\n",
       "      <td>malo po 16 uri je v svetem duhu na ostrem vrhu...</td>\n",
       "    </tr>\n",
       "    <tr>\n",
       "      <th>4</th>\n",
       "      <td>crnakronika</td>\n",
       "      <td>v eksploziji pirotehnike je bil v soboto popol...</td>\n",
       "    </tr>\n",
       "    <tr>\n",
       "      <th>...</th>\n",
       "      <td>...</td>\n",
       "      <td>...</td>\n",
       "    </tr>\n",
       "    <tr>\n",
       "      <th>9998</th>\n",
       "      <td>znanost</td>\n",
       "      <td>12 julij na ta dan bodo vesoljske agencije obj...</td>\n",
       "    </tr>\n",
       "    <tr>\n",
       "      <th>9999</th>\n",
       "      <td>znanost</td>\n",
       "      <td>kitajska je do zdaj izvedla pet uspešnih odpra...</td>\n",
       "    </tr>\n",
       "    <tr>\n",
       "      <th>10000</th>\n",
       "      <td>znanost</td>\n",
       "      <td>da sta mikro- in nanoplastika povsod okoli nas...</td>\n",
       "    </tr>\n",
       "    <tr>\n",
       "      <th>10001</th>\n",
       "      <td>znanost</td>\n",
       "      <td>znanstveni dosežek je podprla tudi whitney cas...</td>\n",
       "    </tr>\n",
       "    <tr>\n",
       "      <th>10002</th>\n",
       "      <td>znanost</td>\n",
       "      <td>vsi smo zadovoljni da je bil zakon po več leti...</td>\n",
       "    </tr>\n",
       "  </tbody>\n",
       "</table>\n",
       "<p>10003 rows × 2 columns</p>\n",
       "</div>"
      ],
      "text/plain": [
       "             label                                               text\n",
       "0      crnakronika  na tolminskem se je dopoldne zgodila prometna ...\n",
       "1      crnakronika  na cesti zadlaz-žabče se je zgodila prometna n...\n",
       "2      crnakronika  v sredo ob 1321 je bila novogoriška policija o...\n",
       "3      crnakronika  malo po 16 uri je v svetem duhu na ostrem vrhu...\n",
       "4      crnakronika  v eksploziji pirotehnike je bil v soboto popol...\n",
       "...            ...                                                ...\n",
       "9998       znanost  12 julij na ta dan bodo vesoljske agencije obj...\n",
       "9999       znanost  kitajska je do zdaj izvedla pet uspešnih odpra...\n",
       "10000      znanost  da sta mikro- in nanoplastika povsod okoli nas...\n",
       "10001      znanost  znanstveni dosežek je podprla tudi whitney cas...\n",
       "10002      znanost  vsi smo zadovoljni da je bil zakon po več leti...\n",
       "\n",
       "[10003 rows x 2 columns]"
      ]
     },
     "execution_count": 32,
     "metadata": {},
     "output_type": "execute_result"
    }
   ],
   "source": [
    "train_df = parse_file(train)\n",
    "train_df"
   ]
  },
  {
   "cell_type": "code",
   "execution_count": 33,
   "metadata": {},
   "outputs": [
    {
     "data": {
      "text/html": [
       "<div>\n",
       "<style scoped>\n",
       "    .dataframe tbody tr th:only-of-type {\n",
       "        vertical-align: middle;\n",
       "    }\n",
       "\n",
       "    .dataframe tbody tr th {\n",
       "        vertical-align: top;\n",
       "    }\n",
       "\n",
       "    .dataframe thead th {\n",
       "        text-align: right;\n",
       "    }\n",
       "</style>\n",
       "<table border=\"1\" class=\"dataframe\">\n",
       "  <thead>\n",
       "    <tr style=\"text-align: right;\">\n",
       "      <th></th>\n",
       "      <th>label</th>\n",
       "      <th>text</th>\n",
       "      <th>split</th>\n",
       "    </tr>\n",
       "  </thead>\n",
       "  <tbody>\n",
       "    <tr>\n",
       "      <th>0</th>\n",
       "      <td>crnakronika</td>\n",
       "      <td>na tolminskem se je dopoldne zgodila prometna ...</td>\n",
       "      <td>train</td>\n",
       "    </tr>\n",
       "    <tr>\n",
       "      <th>1</th>\n",
       "      <td>crnakronika</td>\n",
       "      <td>na cesti zadlaz-žabče se je zgodila prometna n...</td>\n",
       "      <td>train</td>\n",
       "    </tr>\n",
       "    <tr>\n",
       "      <th>2</th>\n",
       "      <td>crnakronika</td>\n",
       "      <td>v sredo ob 1321 je bila novogoriška policija o...</td>\n",
       "      <td>train</td>\n",
       "    </tr>\n",
       "    <tr>\n",
       "      <th>3</th>\n",
       "      <td>crnakronika</td>\n",
       "      <td>malo po 16 uri je v svetem duhu na ostrem vrhu...</td>\n",
       "      <td>train</td>\n",
       "    </tr>\n",
       "    <tr>\n",
       "      <th>4</th>\n",
       "      <td>crnakronika</td>\n",
       "      <td>v eksploziji pirotehnike je bil v soboto popol...</td>\n",
       "      <td>train</td>\n",
       "    </tr>\n",
       "  </tbody>\n",
       "</table>\n",
       "</div>"
      ],
      "text/plain": [
       "         label                                               text  split\n",
       "0  crnakronika  na tolminskem se je dopoldne zgodila prometna ...  train\n",
       "1  crnakronika  na cesti zadlaz-žabče se je zgodila prometna n...  train\n",
       "2  crnakronika  v sredo ob 1321 je bila novogoriška policija o...  train\n",
       "3  crnakronika  malo po 16 uri je v svetem duhu na ostrem vrhu...  train\n",
       "4  crnakronika  v eksploziji pirotehnike je bil v soboto popol...  train"
      ]
     },
     "execution_count": 33,
     "metadata": {},
     "output_type": "execute_result"
    }
   ],
   "source": [
    "train_df[\"split\"] = \"train\"\n",
    "\n",
    "train_df.head()"
   ]
  },
  {
   "cell_type": "code",
   "execution_count": 34,
   "metadata": {},
   "outputs": [],
   "source": [
    "test_df = parse_file(test)\n",
    "test_df[\"split\"] = \"test\"\n",
    "dev_df = parse_file(dev)\n",
    "dev_df[\"split\"] = \"dev\""
   ]
  },
  {
   "cell_type": "code",
   "execution_count": 35,
   "metadata": {},
   "outputs": [
    {
     "data": {
      "text/plain": [
       "(1300, 3)"
      ]
     },
     "execution_count": 35,
     "metadata": {},
     "output_type": "execute_result"
    }
   ],
   "source": [
    "test_df.shape"
   ]
  },
  {
   "cell_type": "code",
   "execution_count": 36,
   "metadata": {},
   "outputs": [
    {
     "data": {
      "text/plain": [
       "(11303, 3)"
      ]
     },
     "execution_count": 36,
     "metadata": {},
     "output_type": "execute_result"
    }
   ],
   "source": [
    "# Merge the dataframes\n",
    "temp = pd.concat((train_df, test_df))\n",
    "temp.shape"
   ]
  },
  {
   "cell_type": "code",
   "execution_count": 37,
   "metadata": {},
   "outputs": [
    {
     "data": {
      "text/plain": [
       "(12603, 3)"
      ]
     },
     "execution_count": 37,
     "metadata": {},
     "output_type": "execute_result"
    }
   ],
   "source": [
    "df = pd.concat((temp, dev_df))\n",
    "df.shape"
   ]
  },
  {
   "cell_type": "code",
   "execution_count": 38,
   "metadata": {},
   "outputs": [
    {
     "data": {
      "text/html": [
       "<div>\n",
       "<style scoped>\n",
       "    .dataframe tbody tr th:only-of-type {\n",
       "        vertical-align: middle;\n",
       "    }\n",
       "\n",
       "    .dataframe tbody tr th {\n",
       "        vertical-align: top;\n",
       "    }\n",
       "\n",
       "    .dataframe thead th {\n",
       "        text-align: right;\n",
       "    }\n",
       "</style>\n",
       "<table border=\"1\" class=\"dataframe\">\n",
       "  <thead>\n",
       "    <tr style=\"text-align: right;\">\n",
       "      <th></th>\n",
       "      <th>label</th>\n",
       "      <th>text</th>\n",
       "      <th>split</th>\n",
       "    </tr>\n",
       "  </thead>\n",
       "  <tbody>\n",
       "    <tr>\n",
       "      <th>count</th>\n",
       "      <td>12603</td>\n",
       "      <td>12603</td>\n",
       "      <td>12603</td>\n",
       "    </tr>\n",
       "    <tr>\n",
       "      <th>unique</th>\n",
       "      <td>13</td>\n",
       "      <td>12585</td>\n",
       "      <td>3</td>\n",
       "    </tr>\n",
       "    <tr>\n",
       "      <th>top</th>\n",
       "      <td>crnakronika</td>\n",
       "      <td>v silovitem neurju ki je v soboto prizadelo fr...</td>\n",
       "      <td>train</td>\n",
       "    </tr>\n",
       "    <tr>\n",
       "      <th>freq</th>\n",
       "      <td>1000</td>\n",
       "      <td>2</td>\n",
       "      <td>10003</td>\n",
       "    </tr>\n",
       "  </tbody>\n",
       "</table>\n",
       "</div>"
      ],
      "text/plain": [
       "              label                                               text  split\n",
       "count         12603                                              12603  12603\n",
       "unique           13                                              12585      3\n",
       "top     crnakronika  v silovitem neurju ki je v soboto prizadelo fr...  train\n",
       "freq           1000                                                  2  10003"
      ]
     },
     "execution_count": 38,
     "metadata": {},
     "output_type": "execute_result"
    }
   ],
   "source": [
    "df.describe(include=\"all\")"
   ]
  },
  {
   "cell_type": "code",
   "execution_count": 39,
   "metadata": {},
   "outputs": [
    {
     "data": {
      "text/html": [
       "<div>\n",
       "<style scoped>\n",
       "    .dataframe tbody tr th:only-of-type {\n",
       "        vertical-align: middle;\n",
       "    }\n",
       "\n",
       "    .dataframe tbody tr th {\n",
       "        vertical-align: top;\n",
       "    }\n",
       "\n",
       "    .dataframe thead th {\n",
       "        text-align: right;\n",
       "    }\n",
       "</style>\n",
       "<table border=\"1\" class=\"dataframe\">\n",
       "  <thead>\n",
       "    <tr style=\"text-align: right;\">\n",
       "      <th></th>\n",
       "      <th>label</th>\n",
       "      <th>text</th>\n",
       "      <th>split</th>\n",
       "    </tr>\n",
       "  </thead>\n",
       "  <tbody>\n",
       "    <tr>\n",
       "      <th>5590</th>\n",
       "      <td>prosticas</td>\n",
       "      <td>berem da je prizemljil letalo da so ga ponekod...</td>\n",
       "      <td>train</td>\n",
       "    </tr>\n",
       "    <tr>\n",
       "      <th>5592</th>\n",
       "      <td>prosticas</td>\n",
       "      <td>berem da je prizemljil letalo da so ga ponekod...</td>\n",
       "      <td>train</td>\n",
       "    </tr>\n",
       "    <tr>\n",
       "      <th>5716</th>\n",
       "      <td>prosticas</td>\n",
       "      <td>glavna novost prenovljenega arteona je karavan...</td>\n",
       "      <td>train</td>\n",
       "    </tr>\n",
       "    <tr>\n",
       "      <th>5713</th>\n",
       "      <td>prosticas</td>\n",
       "      <td>glavna novost prenovljenega arteona je karavan...</td>\n",
       "      <td>train</td>\n",
       "    </tr>\n",
       "    <tr>\n",
       "      <th>8986</th>\n",
       "      <td>zdravje</td>\n",
       "      <td>lani je v slovenskih porodnišnicah rodilo okol...</td>\n",
       "      <td>train</td>\n",
       "    </tr>\n",
       "    <tr>\n",
       "      <th>8985</th>\n",
       "      <td>zdravje</td>\n",
       "      <td>lani je v slovenskih porodnišnicah rodilo okol...</td>\n",
       "      <td>train</td>\n",
       "    </tr>\n",
       "    <tr>\n",
       "      <th>9933</th>\n",
       "      <td>znanost</td>\n",
       "      <td>minister mark boris andrijanič je obisk začel ...</td>\n",
       "      <td>train</td>\n",
       "    </tr>\n",
       "    <tr>\n",
       "      <th>9932</th>\n",
       "      <td>znanost</td>\n",
       "      <td>minister mark boris andrijanič je obisk začel ...</td>\n",
       "      <td>train</td>\n",
       "    </tr>\n",
       "    <tr>\n",
       "      <th>5593</th>\n",
       "      <td>prosticas</td>\n",
       "      <td>na dan ko je vlada odločila da naj bodo vsi do...</td>\n",
       "      <td>train</td>\n",
       "    </tr>\n",
       "    <tr>\n",
       "      <th>5586</th>\n",
       "      <td>prosticas</td>\n",
       "      <td>na dan ko je vlada odločila da naj bodo vsi do...</td>\n",
       "      <td>train</td>\n",
       "    </tr>\n",
       "    <tr>\n",
       "      <th>4241</th>\n",
       "      <td>okolje</td>\n",
       "      <td>nekaj več kot sto mladih se je danes zbralo na...</td>\n",
       "      <td>train</td>\n",
       "    </tr>\n",
       "    <tr>\n",
       "      <th>4229</th>\n",
       "      <td>okolje</td>\n",
       "      <td>nekaj več kot sto mladih se je danes zbralo na...</td>\n",
       "      <td>train</td>\n",
       "    </tr>\n",
       "    <tr>\n",
       "      <th>5585</th>\n",
       "      <td>prosticas</td>\n",
       "      <td>nekateri se lažje držijo uravnotežene prehrane...</td>\n",
       "      <td>train</td>\n",
       "    </tr>\n",
       "    <tr>\n",
       "      <th>5596</th>\n",
       "      <td>prosticas</td>\n",
       "      <td>nekateri se lažje držijo uravnotežene prehrane...</td>\n",
       "      <td>train</td>\n",
       "    </tr>\n",
       "    <tr>\n",
       "      <th>500</th>\n",
       "      <td>okolje</td>\n",
       "      <td>nevihta je ob kopno udarila v jutranjih urah p...</td>\n",
       "      <td>dev</td>\n",
       "    </tr>\n",
       "    <tr>\n",
       "      <th>3898</th>\n",
       "      <td>okolje</td>\n",
       "      <td>nevihta je ob kopno udarila v jutranjih urah p...</td>\n",
       "      <td>train</td>\n",
       "    </tr>\n",
       "    <tr>\n",
       "      <th>4192</th>\n",
       "      <td>okolje</td>\n",
       "      <td>obilne padavine so povzročile prometni kolaps ...</td>\n",
       "      <td>train</td>\n",
       "    </tr>\n",
       "    <tr>\n",
       "      <th>4191</th>\n",
       "      <td>okolje</td>\n",
       "      <td>obilne padavine so povzročile prometni kolaps ...</td>\n",
       "      <td>train</td>\n",
       "    </tr>\n",
       "    <tr>\n",
       "      <th>4233</th>\n",
       "      <td>okolje</td>\n",
       "      <td>rastline in glive so lahko zdravila goriva in ...</td>\n",
       "      <td>train</td>\n",
       "    </tr>\n",
       "    <tr>\n",
       "      <th>4234</th>\n",
       "      <td>okolje</td>\n",
       "      <td>rastline in glive so lahko zdravila goriva in ...</td>\n",
       "      <td>train</td>\n",
       "    </tr>\n",
       "    <tr>\n",
       "      <th>5744</th>\n",
       "      <td>prosticas</td>\n",
       "      <td>raziskava je pokazala da spolni odnos v popreč...</td>\n",
       "      <td>train</td>\n",
       "    </tr>\n",
       "    <tr>\n",
       "      <th>5743</th>\n",
       "      <td>prosticas</td>\n",
       "      <td>raziskava je pokazala da spolni odnos v popreč...</td>\n",
       "      <td>train</td>\n",
       "    </tr>\n",
       "    <tr>\n",
       "      <th>3117</th>\n",
       "      <td>kultura</td>\n",
       "      <td>umrl je dušan makavejev ki je v 60 in 70 letih...</td>\n",
       "      <td>train</td>\n",
       "    </tr>\n",
       "    <tr>\n",
       "      <th>3116</th>\n",
       "      <td>kultura</td>\n",
       "      <td>umrl je dušan makavejev ki je v 60 in 70 letih...</td>\n",
       "      <td>train</td>\n",
       "    </tr>\n",
       "    <tr>\n",
       "      <th>500</th>\n",
       "      <td>okolje</td>\n",
       "      <td>upravno sodišče je zadržalo izvajanje odloka o...</td>\n",
       "      <td>test</td>\n",
       "    </tr>\n",
       "    <tr>\n",
       "      <th>3897</th>\n",
       "      <td>okolje</td>\n",
       "      <td>upravno sodišče je zadržalo izvajanje odloka o...</td>\n",
       "      <td>train</td>\n",
       "    </tr>\n",
       "    <tr>\n",
       "      <th>403</th>\n",
       "      <td>kultura</td>\n",
       "      <td>v mestni galeriji nova gorica ob 19 uri odpira...</td>\n",
       "      <td>dev</td>\n",
       "    </tr>\n",
       "    <tr>\n",
       "      <th>3105</th>\n",
       "      <td>kultura</td>\n",
       "      <td>v mestni galeriji nova gorica ob 19 uri odpira...</td>\n",
       "      <td>train</td>\n",
       "    </tr>\n",
       "    <tr>\n",
       "      <th>4180</th>\n",
       "      <td>okolje</td>\n",
       "      <td>v novi gorici in na obali so se pred dobrim me...</td>\n",
       "      <td>train</td>\n",
       "    </tr>\n",
       "    <tr>\n",
       "      <th>4179</th>\n",
       "      <td>okolje</td>\n",
       "      <td>v novi gorici in na obali so se pred dobrim me...</td>\n",
       "      <td>train</td>\n",
       "    </tr>\n",
       "    <tr>\n",
       "      <th>599</th>\n",
       "      <td>okolje</td>\n",
       "      <td>v silovitem neurju ki je v soboto prizadelo fr...</td>\n",
       "      <td>dev</td>\n",
       "    </tr>\n",
       "    <tr>\n",
       "      <th>4596</th>\n",
       "      <td>okolje</td>\n",
       "      <td>v silovitem neurju ki je v soboto prizadelo fr...</td>\n",
       "      <td>train</td>\n",
       "    </tr>\n",
       "    <tr>\n",
       "      <th>5568</th>\n",
       "      <td>prosticas</td>\n",
       "      <td>šport je dinamičen atraktiven zabaven in ponuj...</td>\n",
       "      <td>train</td>\n",
       "    </tr>\n",
       "    <tr>\n",
       "      <th>5594</th>\n",
       "      <td>prosticas</td>\n",
       "      <td>šport je dinamičen atraktiven zabaven in ponuj...</td>\n",
       "      <td>train</td>\n",
       "    </tr>\n",
       "    <tr>\n",
       "      <th>9411</th>\n",
       "      <td>znanost</td>\n",
       "      <td>že v filmu forest gump smo videli kako se tom ...</td>\n",
       "      <td>train</td>\n",
       "    </tr>\n",
       "    <tr>\n",
       "      <th>1235</th>\n",
       "      <td>znanost</td>\n",
       "      <td>že v filmu forest gump smo videli kako se tom ...</td>\n",
       "      <td>dev</td>\n",
       "    </tr>\n",
       "  </tbody>\n",
       "</table>\n",
       "</div>"
      ],
      "text/plain": [
       "          label                                               text  split\n",
       "5590  prosticas  berem da je prizemljil letalo da so ga ponekod...  train\n",
       "5592  prosticas  berem da je prizemljil letalo da so ga ponekod...  train\n",
       "5716  prosticas  glavna novost prenovljenega arteona je karavan...  train\n",
       "5713  prosticas  glavna novost prenovljenega arteona je karavan...  train\n",
       "8986    zdravje  lani je v slovenskih porodnišnicah rodilo okol...  train\n",
       "8985    zdravje  lani je v slovenskih porodnišnicah rodilo okol...  train\n",
       "9933    znanost  minister mark boris andrijanič je obisk začel ...  train\n",
       "9932    znanost  minister mark boris andrijanič je obisk začel ...  train\n",
       "5593  prosticas  na dan ko je vlada odločila da naj bodo vsi do...  train\n",
       "5586  prosticas  na dan ko je vlada odločila da naj bodo vsi do...  train\n",
       "4241     okolje  nekaj več kot sto mladih se je danes zbralo na...  train\n",
       "4229     okolje  nekaj več kot sto mladih se je danes zbralo na...  train\n",
       "5585  prosticas  nekateri se lažje držijo uravnotežene prehrane...  train\n",
       "5596  prosticas  nekateri se lažje držijo uravnotežene prehrane...  train\n",
       "500      okolje  nevihta je ob kopno udarila v jutranjih urah p...    dev\n",
       "3898     okolje  nevihta je ob kopno udarila v jutranjih urah p...  train\n",
       "4192     okolje  obilne padavine so povzročile prometni kolaps ...  train\n",
       "4191     okolje  obilne padavine so povzročile prometni kolaps ...  train\n",
       "4233     okolje  rastline in glive so lahko zdravila goriva in ...  train\n",
       "4234     okolje  rastline in glive so lahko zdravila goriva in ...  train\n",
       "5744  prosticas  raziskava je pokazala da spolni odnos v popreč...  train\n",
       "5743  prosticas  raziskava je pokazala da spolni odnos v popreč...  train\n",
       "3117    kultura  umrl je dušan makavejev ki je v 60 in 70 letih...  train\n",
       "3116    kultura  umrl je dušan makavejev ki je v 60 in 70 letih...  train\n",
       "500      okolje  upravno sodišče je zadržalo izvajanje odloka o...   test\n",
       "3897     okolje  upravno sodišče je zadržalo izvajanje odloka o...  train\n",
       "403     kultura  v mestni galeriji nova gorica ob 19 uri odpira...    dev\n",
       "3105    kultura  v mestni galeriji nova gorica ob 19 uri odpira...  train\n",
       "4180     okolje  v novi gorici in na obali so se pred dobrim me...  train\n",
       "4179     okolje  v novi gorici in na obali so se pred dobrim me...  train\n",
       "599      okolje  v silovitem neurju ki je v soboto prizadelo fr...    dev\n",
       "4596     okolje  v silovitem neurju ki je v soboto prizadelo fr...  train\n",
       "5568  prosticas  šport je dinamičen atraktiven zabaven in ponuj...  train\n",
       "5594  prosticas  šport je dinamičen atraktiven zabaven in ponuj...  train\n",
       "9411    znanost  že v filmu forest gump smo videli kako se tom ...  train\n",
       "1235    znanost  že v filmu forest gump smo videli kako se tom ...    dev"
      ]
     },
     "execution_count": 39,
     "metadata": {},
     "output_type": "execute_result"
    }
   ],
   "source": [
    "# Check whether there are any duplicates\n",
    "df[df.text.duplicated(keep=False)].sort_values(\"text\")"
   ]
  },
  {
   "cell_type": "code",
   "execution_count": 40,
   "metadata": {},
   "outputs": [
    {
     "data": {
      "text/html": [
       "<div>\n",
       "<style scoped>\n",
       "    .dataframe tbody tr th:only-of-type {\n",
       "        vertical-align: middle;\n",
       "    }\n",
       "\n",
       "    .dataframe tbody tr th {\n",
       "        vertical-align: top;\n",
       "    }\n",
       "\n",
       "    .dataframe thead th {\n",
       "        text-align: right;\n",
       "    }\n",
       "</style>\n",
       "<table border=\"1\" class=\"dataframe\">\n",
       "  <thead>\n",
       "    <tr style=\"text-align: right;\">\n",
       "      <th></th>\n",
       "      <th>label</th>\n",
       "      <th>text</th>\n",
       "      <th>split</th>\n",
       "    </tr>\n",
       "  </thead>\n",
       "  <tbody>\n",
       "    <tr>\n",
       "      <th>count</th>\n",
       "      <td>12585</td>\n",
       "      <td>12585</td>\n",
       "      <td>12585</td>\n",
       "    </tr>\n",
       "    <tr>\n",
       "      <th>unique</th>\n",
       "      <td>13</td>\n",
       "      <td>12585</td>\n",
       "      <td>3</td>\n",
       "    </tr>\n",
       "    <tr>\n",
       "      <th>top</th>\n",
       "      <td>crnakronika</td>\n",
       "      <td>na tolminskem se je dopoldne zgodila prometna ...</td>\n",
       "      <td>train</td>\n",
       "    </tr>\n",
       "    <tr>\n",
       "      <th>freq</th>\n",
       "      <td>1000</td>\n",
       "      <td>1</td>\n",
       "      <td>9990</td>\n",
       "    </tr>\n",
       "  </tbody>\n",
       "</table>\n",
       "</div>"
      ],
      "text/plain": [
       "              label                                               text  split\n",
       "count         12585                                              12585  12585\n",
       "unique           13                                              12585      3\n",
       "top     crnakronika  na tolminskem se je dopoldne zgodila prometna ...  train\n",
       "freq           1000                                                  1   9990"
      ]
     },
     "execution_count": 40,
     "metadata": {},
     "output_type": "execute_result"
    }
   ],
   "source": [
    "# Drop duplicates\n",
    "df.drop_duplicates(\"text\",inplace=True)\n",
    "df.describe()"
   ]
  },
  {
   "cell_type": "code",
   "execution_count": 42,
   "metadata": {},
   "outputs": [
    {
     "name": "stdout",
     "output_type": "stream",
     "text": [
      "|       |   split |\n",
      "|:------|--------:|\n",
      "| train |    9990 |\n",
      "| test  |    1299 |\n",
      "| dev   |    1296 |\n"
     ]
    }
   ],
   "source": [
    "# Analyze no. of texts in each split\n",
    "print(df.split.value_counts().to_markdown())"
   ]
  },
  {
   "cell_type": "code",
   "execution_count": 18,
   "metadata": {},
   "outputs": [
    {
     "name": "stdout",
     "output_type": "stream",
     "text": [
      "['crnakronika', 'druzba', 'gospodarstvo', 'izobrazevanje', 'kultura', 'okolje', 'politika', 'prosticas', 'sport', 'vreme', 'zabava', 'zdravje', 'znanost']\n"
     ]
    }
   ],
   "source": [
    "print(list(df.label.unique()))"
   ]
  },
  {
   "cell_type": "code",
   "execution_count": 43,
   "metadata": {},
   "outputs": [
    {
     "name": "stdout",
     "output_type": "stream",
     "text": [
      "|               |   label |\n",
      "|:--------------|--------:|\n",
      "| crnakronika   |    1000 |\n",
      "| druzba        |    1000 |\n",
      "| gospodarstvo  |    1000 |\n",
      "| politika      |    1000 |\n",
      "| sport         |    1000 |\n",
      "| zabava        |    1000 |\n",
      "| zdravje       |     999 |\n",
      "| kultura       |     998 |\n",
      "| znanost       |     951 |\n",
      "| vreme         |     926 |\n",
      "| prosticas     |     912 |\n",
      "| okolje        |     904 |\n",
      "| izobrazevanje |     895 |\n"
     ]
    }
   ],
   "source": [
    "# Analyze label distribution\n",
    "print(df.label.value_counts().to_markdown())"
   ]
  },
  {
   "cell_type": "code",
   "execution_count": 45,
   "metadata": {},
   "outputs": [
    {
     "data": {
      "text/plain": [
       "crnakronika      0.079460\n",
       "druzba           0.079460\n",
       "gospodarstvo     0.079460\n",
       "politika         0.079460\n",
       "sport            0.079460\n",
       "zabava           0.079460\n",
       "zdravje          0.079380\n",
       "kultura          0.079301\n",
       "znanost          0.075566\n",
       "vreme            0.073580\n",
       "prosticas        0.072467\n",
       "okolje           0.071832\n",
       "izobrazevanje    0.071116\n",
       "Name: label, dtype: float64"
      ]
     },
     "execution_count": 45,
     "metadata": {},
     "output_type": "execute_result"
    }
   ],
   "source": [
    "df.label.value_counts(normalize=\"True\")"
   ]
  },
  {
   "cell_type": "code",
   "execution_count": 44,
   "metadata": {},
   "outputs": [
    {
     "data": {
      "text/html": [
       "<div>\n",
       "<style scoped>\n",
       "    .dataframe tbody tr th:only-of-type {\n",
       "        vertical-align: middle;\n",
       "    }\n",
       "\n",
       "    .dataframe tbody tr th {\n",
       "        vertical-align: top;\n",
       "    }\n",
       "\n",
       "    .dataframe thead th {\n",
       "        text-align: right;\n",
       "    }\n",
       "</style>\n",
       "<table border=\"1\" class=\"dataframe\">\n",
       "  <thead>\n",
       "    <tr style=\"text-align: right;\">\n",
       "      <th></th>\n",
       "      <th>label</th>\n",
       "      <th>text</th>\n",
       "      <th>split</th>\n",
       "      <th>length</th>\n",
       "    </tr>\n",
       "  </thead>\n",
       "  <tbody>\n",
       "    <tr>\n",
       "      <th>0</th>\n",
       "      <td>crnakronika</td>\n",
       "      <td>na tolminskem se je dopoldne zgodila prometna ...</td>\n",
       "      <td>train</td>\n",
       "      <td>152</td>\n",
       "    </tr>\n",
       "    <tr>\n",
       "      <th>1</th>\n",
       "      <td>crnakronika</td>\n",
       "      <td>na cesti zadlaz-žabče se je zgodila prometna n...</td>\n",
       "      <td>train</td>\n",
       "      <td>175</td>\n",
       "    </tr>\n",
       "    <tr>\n",
       "      <th>2</th>\n",
       "      <td>crnakronika</td>\n",
       "      <td>v sredo ob 1321 je bila novogoriška policija o...</td>\n",
       "      <td>train</td>\n",
       "      <td>127</td>\n",
       "    </tr>\n",
       "  </tbody>\n",
       "</table>\n",
       "</div>"
      ],
      "text/plain": [
       "         label                                               text  split  \\\n",
       "0  crnakronika  na tolminskem se je dopoldne zgodila prometna ...  train   \n",
       "1  crnakronika  na cesti zadlaz-žabče se je zgodila prometna n...  train   \n",
       "2  crnakronika  v sredo ob 1321 je bila novogoriška policija o...  train   \n",
       "\n",
       "   length  \n",
       "0     152  \n",
       "1     175  \n",
       "2     127  "
      ]
     },
     "execution_count": 44,
     "metadata": {},
     "output_type": "execute_result"
    }
   ],
   "source": [
    "# Let's analyze the text length\n",
    "\n",
    "# Calculate text length\n",
    "df[\"length\"] = df[\"text\"].str.split().str.len()\n",
    "\n",
    "df.head(3)"
   ]
  },
  {
   "cell_type": "code",
   "execution_count": 46,
   "metadata": {},
   "outputs": [
    {
     "name": "stdout",
     "output_type": "stream",
     "text": [
      "|       |    length |\n",
      "|:------|----------:|\n",
      "| count | 12585     |\n",
      "| mean  |   242.994 |\n",
      "| std   |   109.83  |\n",
      "| min   |    97     |\n",
      "| 25%   |   143     |\n",
      "| 50%   |   217     |\n",
      "| 75%   |   313     |\n",
      "| max   |  1382     |\n"
     ]
    }
   ],
   "source": [
    "# Analyze text length\n",
    "print(df.length.describe().to_markdown())"
   ]
  },
  {
   "cell_type": "markdown",
   "metadata": {},
   "source": [
    "## Prepare the data for Transformers"
   ]
  },
  {
   "cell_type": "code",
   "execution_count": 47,
   "metadata": {},
   "outputs": [
    {
     "data": {
      "text/html": [
       "<div>\n",
       "<style scoped>\n",
       "    .dataframe tbody tr th:only-of-type {\n",
       "        vertical-align: middle;\n",
       "    }\n",
       "\n",
       "    .dataframe tbody tr th {\n",
       "        vertical-align: top;\n",
       "    }\n",
       "\n",
       "    .dataframe thead th {\n",
       "        text-align: right;\n",
       "    }\n",
       "</style>\n",
       "<table border=\"1\" class=\"dataframe\">\n",
       "  <thead>\n",
       "    <tr style=\"text-align: right;\">\n",
       "      <th></th>\n",
       "      <th>label</th>\n",
       "      <th>text</th>\n",
       "      <th>split</th>\n",
       "      <th>length</th>\n",
       "    </tr>\n",
       "  </thead>\n",
       "  <tbody>\n",
       "    <tr>\n",
       "      <th>0</th>\n",
       "      <td>crnakronika</td>\n",
       "      <td>na tolminskem se je dopoldne zgodila prometna ...</td>\n",
       "      <td>train</td>\n",
       "      <td>152</td>\n",
       "    </tr>\n",
       "    <tr>\n",
       "      <th>1</th>\n",
       "      <td>crnakronika</td>\n",
       "      <td>na cesti zadlaz-žabče se je zgodila prometna n...</td>\n",
       "      <td>train</td>\n",
       "      <td>175</td>\n",
       "    </tr>\n",
       "    <tr>\n",
       "      <th>2</th>\n",
       "      <td>crnakronika</td>\n",
       "      <td>v sredo ob 1321 je bila novogoriška policija o...</td>\n",
       "      <td>train</td>\n",
       "      <td>127</td>\n",
       "    </tr>\n",
       "    <tr>\n",
       "      <th>3</th>\n",
       "      <td>crnakronika</td>\n",
       "      <td>malo po 16 uri je v svetem duhu na ostrem vrhu...</td>\n",
       "      <td>train</td>\n",
       "      <td>127</td>\n",
       "    </tr>\n",
       "    <tr>\n",
       "      <th>4</th>\n",
       "      <td>crnakronika</td>\n",
       "      <td>v eksploziji pirotehnike je bil v soboto popol...</td>\n",
       "      <td>train</td>\n",
       "      <td>116</td>\n",
       "    </tr>\n",
       "  </tbody>\n",
       "</table>\n",
       "</div>"
      ],
      "text/plain": [
       "         label                                               text  split  \\\n",
       "0  crnakronika  na tolminskem se je dopoldne zgodila prometna ...  train   \n",
       "1  crnakronika  na cesti zadlaz-žabče se je zgodila prometna n...  train   \n",
       "2  crnakronika  v sredo ob 1321 je bila novogoriška policija o...  train   \n",
       "3  crnakronika  malo po 16 uri je v svetem duhu na ostrem vrhu...  train   \n",
       "4  crnakronika  v eksploziji pirotehnike je bil v soboto popol...  train   \n",
       "\n",
       "   length  \n",
       "0     152  \n",
       "1     175  \n",
       "2     127  \n",
       "3     127  \n",
       "4     116  "
      ]
     },
     "execution_count": 47,
     "metadata": {},
     "output_type": "execute_result"
    }
   ],
   "source": [
    "df.head()"
   ]
  },
  {
   "cell_type": "code",
   "execution_count": 49,
   "metadata": {},
   "outputs": [],
   "source": [
    "# Create a df for the simple transformers - the first column should be \"text\" and the second \"labels\"\n",
    "def prepare_data(dataframe, split):\n",
    "    \"\"\" Creates a DataFrame for Simple Transformers and saves it. \n",
    "        Args:\n",
    "        - dataframe: the initial dataframe\n",
    "        - split: \"train\", \"dev\", or \"test\"    \n",
    "    \"\"\"\n",
    "    prepared_df = dataframe[dataframe[\"split\"] == split]\n",
    "    final_df = pd.DataFrame({\"text\": prepared_df[\"text\"],\"labels\":prepared_df[\"label\"]})\n",
    "\n",
    "    # Save the df\n",
    "    final_df.to_csv(f\"SLED-for-Transformers-{split}.csv\", sep=\"\\t\")\n",
    "\n",
    "    # Print information about the dataframe\n",
    "    print(final_df.shape)\n",
    "\n",
    "    return final_df"
   ]
  },
  {
   "cell_type": "code",
   "execution_count": 50,
   "metadata": {},
   "outputs": [
    {
     "name": "stdout",
     "output_type": "stream",
     "text": [
      "(9990, 2)\n"
     ]
    }
   ],
   "source": [
    "prepared_train = prepare_data(df, \"train\")"
   ]
  },
  {
   "cell_type": "code",
   "execution_count": 51,
   "metadata": {},
   "outputs": [
    {
     "data": {
      "text/html": [
       "<div>\n",
       "<style scoped>\n",
       "    .dataframe tbody tr th:only-of-type {\n",
       "        vertical-align: middle;\n",
       "    }\n",
       "\n",
       "    .dataframe tbody tr th {\n",
       "        vertical-align: top;\n",
       "    }\n",
       "\n",
       "    .dataframe thead th {\n",
       "        text-align: right;\n",
       "    }\n",
       "</style>\n",
       "<table border=\"1\" class=\"dataframe\">\n",
       "  <thead>\n",
       "    <tr style=\"text-align: right;\">\n",
       "      <th></th>\n",
       "      <th>text</th>\n",
       "      <th>labels</th>\n",
       "    </tr>\n",
       "  </thead>\n",
       "  <tbody>\n",
       "    <tr>\n",
       "      <th>0</th>\n",
       "      <td>na tolminskem se je dopoldne zgodila prometna ...</td>\n",
       "      <td>crnakronika</td>\n",
       "    </tr>\n",
       "    <tr>\n",
       "      <th>1</th>\n",
       "      <td>na cesti zadlaz-žabče se je zgodila prometna n...</td>\n",
       "      <td>crnakronika</td>\n",
       "    </tr>\n",
       "    <tr>\n",
       "      <th>2</th>\n",
       "      <td>v sredo ob 1321 je bila novogoriška policija o...</td>\n",
       "      <td>crnakronika</td>\n",
       "    </tr>\n",
       "  </tbody>\n",
       "</table>\n",
       "</div>"
      ],
      "text/plain": [
       "                                                text       labels\n",
       "0  na tolminskem se je dopoldne zgodila prometna ...  crnakronika\n",
       "1  na cesti zadlaz-žabče se je zgodila prometna n...  crnakronika\n",
       "2  v sredo ob 1321 je bila novogoriška policija o...  crnakronika"
      ]
     },
     "execution_count": 51,
     "metadata": {},
     "output_type": "execute_result"
    }
   ],
   "source": [
    "prepared_train.head(3)"
   ]
  },
  {
   "cell_type": "code",
   "execution_count": 52,
   "metadata": {},
   "outputs": [
    {
     "name": "stdout",
     "output_type": "stream",
     "text": [
      "(1299, 2)\n"
     ]
    },
    {
     "data": {
      "text/html": [
       "<div>\n",
       "<style scoped>\n",
       "    .dataframe tbody tr th:only-of-type {\n",
       "        vertical-align: middle;\n",
       "    }\n",
       "\n",
       "    .dataframe tbody tr th {\n",
       "        vertical-align: top;\n",
       "    }\n",
       "\n",
       "    .dataframe thead th {\n",
       "        text-align: right;\n",
       "    }\n",
       "</style>\n",
       "<table border=\"1\" class=\"dataframe\">\n",
       "  <thead>\n",
       "    <tr style=\"text-align: right;\">\n",
       "      <th></th>\n",
       "      <th>text</th>\n",
       "      <th>labels</th>\n",
       "    </tr>\n",
       "  </thead>\n",
       "  <tbody>\n",
       "    <tr>\n",
       "      <th>0</th>\n",
       "      <td>v občini komen se je ponoči zgodila huda prome...</td>\n",
       "      <td>crnakronika</td>\n",
       "    </tr>\n",
       "    <tr>\n",
       "      <th>1</th>\n",
       "      <td>pobudnik spornega početja naj bi bil 20-letni ...</td>\n",
       "      <td>crnakronika</td>\n",
       "    </tr>\n",
       "    <tr>\n",
       "      <th>2</th>\n",
       "      <td>v bližini italijanske gorice le streljaj od ne...</td>\n",
       "      <td>crnakronika</td>\n",
       "    </tr>\n",
       "    <tr>\n",
       "      <th>3</th>\n",
       "      <td>56-letni voznik tovornega vozila je v novi gor...</td>\n",
       "      <td>crnakronika</td>\n",
       "    </tr>\n",
       "    <tr>\n",
       "      <th>4</th>\n",
       "      <td>na zatožno klop so sedli nekdanji dekan ekonom...</td>\n",
       "      <td>crnakronika</td>\n",
       "    </tr>\n",
       "  </tbody>\n",
       "</table>\n",
       "</div>"
      ],
      "text/plain": [
       "                                                text       labels\n",
       "0  v občini komen se je ponoči zgodila huda prome...  crnakronika\n",
       "1  pobudnik spornega početja naj bi bil 20-letni ...  crnakronika\n",
       "2  v bližini italijanske gorice le streljaj od ne...  crnakronika\n",
       "3  56-letni voznik tovornega vozila je v novi gor...  crnakronika\n",
       "4  na zatožno klop so sedli nekdanji dekan ekonom...  crnakronika"
      ]
     },
     "execution_count": 52,
     "metadata": {},
     "output_type": "execute_result"
    }
   ],
   "source": [
    "prepared_test = prepare_data(df, \"test\")\n",
    "\n",
    "prepared_test.head()"
   ]
  },
  {
   "cell_type": "code",
   "execution_count": 53,
   "metadata": {},
   "outputs": [
    {
     "name": "stdout",
     "output_type": "stream",
     "text": [
      "(1296, 2)\n"
     ]
    },
    {
     "data": {
      "text/html": [
       "<div>\n",
       "<style scoped>\n",
       "    .dataframe tbody tr th:only-of-type {\n",
       "        vertical-align: middle;\n",
       "    }\n",
       "\n",
       "    .dataframe tbody tr th {\n",
       "        vertical-align: top;\n",
       "    }\n",
       "\n",
       "    .dataframe thead th {\n",
       "        text-align: right;\n",
       "    }\n",
       "</style>\n",
       "<table border=\"1\" class=\"dataframe\">\n",
       "  <thead>\n",
       "    <tr style=\"text-align: right;\">\n",
       "      <th></th>\n",
       "      <th>text</th>\n",
       "      <th>labels</th>\n",
       "    </tr>\n",
       "  </thead>\n",
       "  <tbody>\n",
       "    <tr>\n",
       "      <th>0</th>\n",
       "      <td>novomeški policisti so med kontrolo prometa na...</td>\n",
       "      <td>crnakronika</td>\n",
       "    </tr>\n",
       "    <tr>\n",
       "      <th>1</th>\n",
       "      <td>41-letni mariborčan je v ponedeljek okoli 22 u...</td>\n",
       "      <td>crnakronika</td>\n",
       "    </tr>\n",
       "    <tr>\n",
       "      <th>2</th>\n",
       "      <td>na slovenskih cestah sta se zgodili dve hudi p...</td>\n",
       "      <td>crnakronika</td>\n",
       "    </tr>\n",
       "    <tr>\n",
       "      <th>3</th>\n",
       "      <td>kriminalisti so na podlagi prijave dopps-a na ...</td>\n",
       "      <td>crnakronika</td>\n",
       "    </tr>\n",
       "    <tr>\n",
       "      <th>4</th>\n",
       "      <td>zoper šest osumljencev ki jim očitajo zlorabo ...</td>\n",
       "      <td>crnakronika</td>\n",
       "    </tr>\n",
       "  </tbody>\n",
       "</table>\n",
       "</div>"
      ],
      "text/plain": [
       "                                                text       labels\n",
       "0  novomeški policisti so med kontrolo prometa na...  crnakronika\n",
       "1  41-letni mariborčan je v ponedeljek okoli 22 u...  crnakronika\n",
       "2  na slovenskih cestah sta se zgodili dve hudi p...  crnakronika\n",
       "3  kriminalisti so na podlagi prijave dopps-a na ...  crnakronika\n",
       "4  zoper šest osumljencev ki jim očitajo zlorabo ...  crnakronika"
      ]
     },
     "execution_count": 53,
     "metadata": {},
     "output_type": "execute_result"
    }
   ],
   "source": [
    "prepared_dev = prepare_data(df, \"dev\")\n",
    "\n",
    "prepared_dev.head()"
   ]
  }
 ],
 "metadata": {
  "kernelspec": {
   "display_name": "Python 3.10.2 64-bit",
   "language": "python",
   "name": "python3"
  },
  "language_info": {
   "codemirror_mode": {
    "name": "ipython",
    "version": 3
   },
   "file_extension": ".py",
   "mimetype": "text/x-python",
   "name": "python",
   "nbconvert_exporter": "python",
   "pygments_lexer": "ipython3",
   "version": "3.10.2"
  },
  "orig_nbformat": 4,
  "vscode": {
   "interpreter": {
    "hash": "4054637ba3b142bc5aa565ef637e29d85952330aa10ad5bd25955ba00ae91bfa"
   }
  }
 },
 "nbformat": 4,
 "nbformat_minor": 2
}
