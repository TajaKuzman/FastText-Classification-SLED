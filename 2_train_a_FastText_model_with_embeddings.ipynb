{
  "cells": [
    {
      "cell_type": "markdown",
      "metadata": {
        "id": "xrp9OubIz-8i"
      },
      "source": [
        "# Train a FastText model with Slovene embeddings on the SLED categorization dataset"
      ]
    },
    {
      "cell_type": "code",
      "execution_count": 1,
      "metadata": {
        "colab": {
          "base_uri": "https://localhost:8080/"
        },
        "id": "dkNIJuHBz-8r",
        "outputId": "9e71e87f-39e7-4ef8-952e-8d88876fbefd"
      },
      "outputs": [
        {
          "output_type": "stream",
          "name": "stdout",
          "text": [
            "--2022-08-31 05:34:35--  https://github.com/facebookresearch/fastText/archive/v0.9.2.zip\n",
            "Resolving github.com (github.com)... 140.82.113.3\n",
            "Connecting to github.com (github.com)|140.82.113.3|:443... connected.\n",
            "HTTP request sent, awaiting response... 302 Found\n",
            "Location: https://codeload.github.com/facebookresearch/fastText/zip/refs/tags/v0.9.2 [following]\n",
            "--2022-08-31 05:34:35--  https://codeload.github.com/facebookresearch/fastText/zip/refs/tags/v0.9.2\n",
            "Resolving codeload.github.com (codeload.github.com)... 140.82.113.10\n",
            "Connecting to codeload.github.com (codeload.github.com)|140.82.113.10|:443... connected.\n",
            "HTTP request sent, awaiting response... 200 OK\n",
            "Length: unspecified [application/zip]\n",
            "Saving to: ‘v0.9.2.zip’\n",
            "\n",
            "v0.9.2.zip              [  <=>               ]   4.17M  15.5MB/s    in 0.3s    \n",
            "\n",
            "2022-08-31 05:34:36 (15.5 MB/s) - ‘v0.9.2.zip’ saved [4369852]\n",
            "\n",
            "Archive:  v0.9.2.zip\n",
            "5b5943c118b0ec5fb9cd8d20587de2b2d3966dfe\n",
            "   creating: fastText-0.9.2/\n",
            "   creating: fastText-0.9.2/.circleci/\n",
            "  inflating: fastText-0.9.2/.circleci/cmake_test.sh  \n",
            "  inflating: fastText-0.9.2/.circleci/config.yml  \n",
            "  inflating: fastText-0.9.2/.circleci/gcc_test.sh  \n",
            "  inflating: fastText-0.9.2/.circleci/pip_test.sh  \n",
            "  inflating: fastText-0.9.2/.circleci/pull_data.sh  \n",
            "  inflating: fastText-0.9.2/.circleci/python_test.sh  \n",
            "  inflating: fastText-0.9.2/.circleci/run_locally.sh  \n",
            "  inflating: fastText-0.9.2/.circleci/setup_circleimg.sh  \n",
            "  inflating: fastText-0.9.2/.circleci/setup_debian.sh  \n",
            "  inflating: fastText-0.9.2/.gitignore  \n",
            "  inflating: fastText-0.9.2/CMakeLists.txt  \n",
            "  inflating: fastText-0.9.2/CODE_OF_CONDUCT.md  \n",
            "  inflating: fastText-0.9.2/CONTRIBUTING.md  \n",
            "  inflating: fastText-0.9.2/LICENSE  \n",
            "  inflating: fastText-0.9.2/MANIFEST.in  \n",
            "  inflating: fastText-0.9.2/Makefile  \n",
            "  inflating: fastText-0.9.2/README.md  \n",
            "   creating: fastText-0.9.2/alignment/\n",
            "  inflating: fastText-0.9.2/alignment/README.md  \n",
            "  inflating: fastText-0.9.2/alignment/align.py  \n",
            "  inflating: fastText-0.9.2/alignment/eval.py  \n",
            "  inflating: fastText-0.9.2/alignment/example.sh  \n",
            "  inflating: fastText-0.9.2/alignment/unsup_align.py  \n",
            "  inflating: fastText-0.9.2/alignment/unsup_multialign.py  \n",
            "  inflating: fastText-0.9.2/alignment/utils.py  \n",
            "  inflating: fastText-0.9.2/classification-example.sh  \n",
            "  inflating: fastText-0.9.2/classification-results.sh  \n",
            "   creating: fastText-0.9.2/crawl/\n",
            "  inflating: fastText-0.9.2/crawl/README.md  \n",
            "  inflating: fastText-0.9.2/crawl/dedup.cc  \n",
            "  inflating: fastText-0.9.2/crawl/download_crawl.sh  \n",
            "  inflating: fastText-0.9.2/crawl/filter_dedup.sh  \n",
            "  inflating: fastText-0.9.2/crawl/filter_utf8.cc  \n",
            "  inflating: fastText-0.9.2/crawl/process_wet_file.sh  \n",
            "   creating: fastText-0.9.2/docs/\n",
            "  inflating: fastText-0.9.2/docs/aligned-vectors.md  \n",
            "  inflating: fastText-0.9.2/docs/api.md  \n",
            "  inflating: fastText-0.9.2/docs/autotune.md  \n",
            "  inflating: fastText-0.9.2/docs/cheatsheet.md  \n",
            "  inflating: fastText-0.9.2/docs/crawl-vectors.md  \n",
            "  inflating: fastText-0.9.2/docs/dataset.md  \n",
            "  inflating: fastText-0.9.2/docs/english-vectors.md  \n",
            "  inflating: fastText-0.9.2/docs/faqs.md  \n",
            "  inflating: fastText-0.9.2/docs/language-identification.md  \n",
            "  inflating: fastText-0.9.2/docs/options.md  \n",
            "  inflating: fastText-0.9.2/docs/pretrained-vectors.md  \n",
            "  inflating: fastText-0.9.2/docs/python-module.md  \n",
            "  inflating: fastText-0.9.2/docs/references.md  \n",
            "  inflating: fastText-0.9.2/docs/supervised-models.md  \n",
            "  inflating: fastText-0.9.2/docs/supervised-tutorial.md  \n",
            "  inflating: fastText-0.9.2/docs/support.md  \n",
            "  inflating: fastText-0.9.2/docs/unsupervised-tutorials.md  \n",
            "  inflating: fastText-0.9.2/docs/webassembly-module.md  \n",
            "  inflating: fastText-0.9.2/download_model.py  \n",
            "  inflating: fastText-0.9.2/eval.py  \n",
            "  inflating: fastText-0.9.2/fasttext.pc.in  \n",
            "  inflating: fastText-0.9.2/get-wikimedia.sh  \n",
            "   creating: fastText-0.9.2/python/\n",
            "  inflating: fastText-0.9.2/python/README.md  \n",
            "  inflating: fastText-0.9.2/python/README.rst  \n",
            "   creating: fastText-0.9.2/python/benchmarks/\n",
            "  inflating: fastText-0.9.2/python/benchmarks/README.rst  \n",
            "  inflating: fastText-0.9.2/python/benchmarks/get_word_vector.py  \n",
            "   creating: fastText-0.9.2/python/doc/\n",
            "   creating: fastText-0.9.2/python/doc/examples/\n",
            "  inflating: fastText-0.9.2/python/doc/examples/FastTextEmbeddingBag.py  \n",
            "  inflating: fastText-0.9.2/python/doc/examples/bin_to_vec.py  \n",
            "  inflating: fastText-0.9.2/python/doc/examples/compute_accuracy.py  \n",
            "  inflating: fastText-0.9.2/python/doc/examples/get_vocab.py  \n",
            "  inflating: fastText-0.9.2/python/doc/examples/train_supervised.py  \n",
            "  inflating: fastText-0.9.2/python/doc/examples/train_unsupervised.py  \n",
            "   creating: fastText-0.9.2/python/fasttext_module/\n",
            "   creating: fastText-0.9.2/python/fasttext_module/fasttext/\n",
            "  inflating: fastText-0.9.2/python/fasttext_module/fasttext/FastText.py  \n",
            "  inflating: fastText-0.9.2/python/fasttext_module/fasttext/__init__.py  \n",
            "   creating: fastText-0.9.2/python/fasttext_module/fasttext/pybind/\n",
            "  inflating: fastText-0.9.2/python/fasttext_module/fasttext/pybind/fasttext_pybind.cc  \n",
            "   creating: fastText-0.9.2/python/fasttext_module/fasttext/tests/\n",
            "  inflating: fastText-0.9.2/python/fasttext_module/fasttext/tests/__init__.py  \n",
            "  inflating: fastText-0.9.2/python/fasttext_module/fasttext/tests/test_configurations.py  \n",
            "  inflating: fastText-0.9.2/python/fasttext_module/fasttext/tests/test_script.py  \n",
            "   creating: fastText-0.9.2/python/fasttext_module/fasttext/util/\n",
            "  inflating: fastText-0.9.2/python/fasttext_module/fasttext/util/__init__.py  \n",
            "  inflating: fastText-0.9.2/python/fasttext_module/fasttext/util/util.py  \n",
            "  inflating: fastText-0.9.2/quantization-example.sh  \n",
            "  inflating: fastText-0.9.2/reduce_model.py  \n",
            "  inflating: fastText-0.9.2/runtests.py  \n",
            "   creating: fastText-0.9.2/scripts/\n",
            "   creating: fastText-0.9.2/scripts/kbcompletion/\n",
            "  inflating: fastText-0.9.2/scripts/kbcompletion/README.md  \n",
            "  inflating: fastText-0.9.2/scripts/kbcompletion/data.sh  \n",
            "  inflating: fastText-0.9.2/scripts/kbcompletion/eval.cpp  \n",
            "  inflating: fastText-0.9.2/scripts/kbcompletion/fb15k.sh  \n",
            "  inflating: fastText-0.9.2/scripts/kbcompletion/fb15k237.sh  \n",
            "  inflating: fastText-0.9.2/scripts/kbcompletion/svo.sh  \n",
            "  inflating: fastText-0.9.2/scripts/kbcompletion/wn18.sh  \n",
            "   creating: fastText-0.9.2/scripts/quantization/\n",
            "  inflating: fastText-0.9.2/scripts/quantization/quantization-results.sh  \n",
            " extracting: fastText-0.9.2/setup.cfg  \n",
            "  inflating: fastText-0.9.2/setup.py  \n",
            "   creating: fastText-0.9.2/src/\n",
            "  inflating: fastText-0.9.2/src/args.cc  \n",
            "  inflating: fastText-0.9.2/src/args.h  \n",
            "  inflating: fastText-0.9.2/src/autotune.cc  \n",
            "  inflating: fastText-0.9.2/src/autotune.h  \n",
            "  inflating: fastText-0.9.2/src/densematrix.cc  \n",
            "  inflating: fastText-0.9.2/src/densematrix.h  \n",
            "  inflating: fastText-0.9.2/src/dictionary.cc  \n",
            "  inflating: fastText-0.9.2/src/dictionary.h  \n",
            "  inflating: fastText-0.9.2/src/fasttext.cc  \n",
            "  inflating: fastText-0.9.2/src/fasttext.h  \n",
            "  inflating: fastText-0.9.2/src/loss.cc  \n",
            "  inflating: fastText-0.9.2/src/loss.h  \n",
            "  inflating: fastText-0.9.2/src/main.cc  \n",
            "  inflating: fastText-0.9.2/src/matrix.cc  \n",
            "  inflating: fastText-0.9.2/src/matrix.h  \n",
            "  inflating: fastText-0.9.2/src/meter.cc  \n",
            "  inflating: fastText-0.9.2/src/meter.h  \n",
            "  inflating: fastText-0.9.2/src/model.cc  \n",
            "  inflating: fastText-0.9.2/src/model.h  \n",
            "  inflating: fastText-0.9.2/src/productquantizer.cc  \n",
            "  inflating: fastText-0.9.2/src/productquantizer.h  \n",
            "  inflating: fastText-0.9.2/src/quantmatrix.cc  \n",
            "  inflating: fastText-0.9.2/src/quantmatrix.h  \n",
            "  inflating: fastText-0.9.2/src/real.h  \n",
            "  inflating: fastText-0.9.2/src/utils.cc  \n",
            "  inflating: fastText-0.9.2/src/utils.h  \n",
            "  inflating: fastText-0.9.2/src/vector.cc  \n",
            "  inflating: fastText-0.9.2/src/vector.h  \n",
            "   creating: fastText-0.9.2/tests/\n",
            "  inflating: fastText-0.9.2/tests/fetch_test_data.sh  \n",
            "   creating: fastText-0.9.2/webassembly/\n",
            "  inflating: fastText-0.9.2/webassembly/README.md  \n",
            "   creating: fastText-0.9.2/webassembly/doc/\n",
            "   creating: fastText-0.9.2/webassembly/doc/examples/\n",
            "  inflating: fastText-0.9.2/webassembly/doc/examples/misc.html  \n",
            "  inflating: fastText-0.9.2/webassembly/doc/examples/predict.html  \n",
            "  inflating: fastText-0.9.2/webassembly/doc/examples/train_supervised.html  \n",
            "  inflating: fastText-0.9.2/webassembly/doc/examples/train_unsupervised.html  \n",
            "  inflating: fastText-0.9.2/webassembly/fasttext.js  \n",
            "  inflating: fastText-0.9.2/webassembly/fasttext_wasm.cc  \n",
            "   creating: fastText-0.9.2/website/\n",
            "  inflating: fastText-0.9.2/website/README.md  \n",
            "   creating: fastText-0.9.2/website/blog/\n",
            "  inflating: fastText-0.9.2/website/blog/2016-08-18-blog-post.md  \n",
            "  inflating: fastText-0.9.2/website/blog/2017-05-02-blog-post.md  \n",
            "  inflating: fastText-0.9.2/website/blog/2017-10-02-blog-post.md  \n",
            "  inflating: fastText-0.9.2/website/blog/2019-06-25-blog-post.md  \n",
            "   creating: fastText-0.9.2/website/core/\n",
            "  inflating: fastText-0.9.2/website/core/Footer.js  \n",
            "  inflating: fastText-0.9.2/website/package.json  \n",
            "   creating: fastText-0.9.2/website/pages/\n",
            "   creating: fastText-0.9.2/website/pages/en/\n",
            "  inflating: fastText-0.9.2/website/pages/en/index.js  \n",
            "  inflating: fastText-0.9.2/website/sidebars.json  \n",
            "  inflating: fastText-0.9.2/website/siteConfig.js  \n",
            "   creating: fastText-0.9.2/website/static/\n",
            "   creating: fastText-0.9.2/website/static/docs/\n",
            "   creating: fastText-0.9.2/website/static/docs/en/\n",
            "   creating: fastText-0.9.2/website/static/docs/en/html/\n",
            " extracting: fastText-0.9.2/website/static/docs/en/html/.classfasttext_1_1QMatrix-members.html.i4eKqy  \n",
            "  inflating: fastText-0.9.2/website/static/docs/en/html/annotated.html  \n",
            "  inflating: fastText-0.9.2/website/static/docs/en/html/annotated_dup.js  \n",
            "  inflating: fastText-0.9.2/website/static/docs/en/html/args_8cc.html  \n",
            "  inflating: fastText-0.9.2/website/static/docs/en/html/args_8h.html  \n",
            "  inflating: fastText-0.9.2/website/static/docs/en/html/args_8h.js  \n",
            "  inflating: fastText-0.9.2/website/static/docs/en/html/args_8h_source.html  \n",
            " extracting: fastText-0.9.2/website/static/docs/en/html/bc_s.png  \n",
            "  inflating: fastText-0.9.2/website/static/docs/en/html/bdwn.png  \n",
            "  inflating: fastText-0.9.2/website/static/docs/en/html/classes.html  \n",
            "  inflating: fastText-0.9.2/website/static/docs/en/html/classfasttext_1_1Args-members.html  \n",
            "  inflating: fastText-0.9.2/website/static/docs/en/html/classfasttext_1_1Args.html  \n",
            "  inflating: fastText-0.9.2/website/static/docs/en/html/classfasttext_1_1Args.js  \n",
            "  inflating: fastText-0.9.2/website/static/docs/en/html/classfasttext_1_1Dictionary-members.html  \n",
            "  inflating: fastText-0.9.2/website/static/docs/en/html/classfasttext_1_1Dictionary.html  \n",
            "  inflating: fastText-0.9.2/website/static/docs/en/html/classfasttext_1_1Dictionary.js  \n",
            "  inflating: fastText-0.9.2/website/static/docs/en/html/classfasttext_1_1FastText-members.html  \n",
            "  inflating: fastText-0.9.2/website/static/docs/en/html/classfasttext_1_1FastText.html  \n",
            "  inflating: fastText-0.9.2/website/static/docs/en/html/classfasttext_1_1FastText.js  \n",
            "  inflating: fastText-0.9.2/website/static/docs/en/html/classfasttext_1_1Matrix-members.html  \n",
            "  inflating: fastText-0.9.2/website/static/docs/en/html/classfasttext_1_1Matrix.html  \n",
            "  inflating: fastText-0.9.2/website/static/docs/en/html/classfasttext_1_1Matrix.js  \n",
            "  inflating: fastText-0.9.2/website/static/docs/en/html/classfasttext_1_1Model-members.html  \n",
            "  inflating: fastText-0.9.2/website/static/docs/en/html/classfasttext_1_1Model.html  \n",
            "  inflating: fastText-0.9.2/website/static/docs/en/html/classfasttext_1_1Model.js  \n",
            "  inflating: fastText-0.9.2/website/static/docs/en/html/classfasttext_1_1ProductQuantizer-members.html  \n",
            "  inflating: fastText-0.9.2/website/static/docs/en/html/classfasttext_1_1ProductQuantizer.html  \n",
            "  inflating: fastText-0.9.2/website/static/docs/en/html/classfasttext_1_1ProductQuantizer.js  \n",
            "  inflating: fastText-0.9.2/website/static/docs/en/html/classfasttext_1_1QMatrix-members.html  \n",
            "  inflating: fastText-0.9.2/website/static/docs/en/html/classfasttext_1_1QMatrix.html  \n",
            "  inflating: fastText-0.9.2/website/static/docs/en/html/classfasttext_1_1QMatrix.js  \n",
            "  inflating: fastText-0.9.2/website/static/docs/en/html/classfasttext_1_1Vector-members.html  \n",
            "  inflating: fastText-0.9.2/website/static/docs/en/html/classfasttext_1_1Vector.html  \n",
            "  inflating: fastText-0.9.2/website/static/docs/en/html/classfasttext_1_1Vector.js  \n",
            "  inflating: fastText-0.9.2/website/static/docs/en/html/closed.png  \n",
            "  inflating: fastText-0.9.2/website/static/docs/en/html/dictionary_8cc.html  \n",
            "  inflating: fastText-0.9.2/website/static/docs/en/html/dictionary_8h.html  \n",
            "  inflating: fastText-0.9.2/website/static/docs/en/html/dictionary_8h.js  \n",
            "  inflating: fastText-0.9.2/website/static/docs/en/html/dictionary_8h_source.html  \n",
            "  inflating: fastText-0.9.2/website/static/docs/en/html/dir_68267d1309a1af8e8297ef4c3efbcdba.html  \n",
            "  inflating: fastText-0.9.2/website/static/docs/en/html/dir_68267d1309a1af8e8297ef4c3efbcdba.js  \n",
            " extracting: fastText-0.9.2/website/static/docs/en/html/doc.png  \n",
            "  inflating: fastText-0.9.2/website/static/docs/en/html/doxygen.css  \n",
            " extracting: fastText-0.9.2/website/static/docs/en/html/doxygen.png  \n",
            "  inflating: fastText-0.9.2/website/static/docs/en/html/dynsections.js  \n",
            "  inflating: fastText-0.9.2/website/static/docs/en/html/fasttext_8cc.html  \n",
            "  inflating: fastText-0.9.2/website/static/docs/en/html/fasttext_8h.html  \n",
            "  inflating: fastText-0.9.2/website/static/docs/en/html/fasttext_8h.js  \n",
            "  inflating: fastText-0.9.2/website/static/docs/en/html/fasttext_8h_source.html  \n",
            "  inflating: fastText-0.9.2/website/static/docs/en/html/favicon.png  \n",
            "  inflating: fastText-0.9.2/website/static/docs/en/html/files.html  \n",
            "  inflating: fastText-0.9.2/website/static/docs/en/html/files.js  \n",
            " extracting: fastText-0.9.2/website/static/docs/en/html/folderclosed.png  \n",
            " extracting: fastText-0.9.2/website/static/docs/en/html/folderopen.png  \n",
            "  inflating: fastText-0.9.2/website/static/docs/en/html/functions.html  \n",
            "  inflating: fastText-0.9.2/website/static/docs/en/html/functions_0x7e.html  \n",
            "  inflating: fastText-0.9.2/website/static/docs/en/html/functions_b.html  \n",
            "  inflating: fastText-0.9.2/website/static/docs/en/html/functions_c.html  \n",
            "  inflating: fastText-0.9.2/website/static/docs/en/html/functions_d.html  \n",
            "  inflating: fastText-0.9.2/website/static/docs/en/html/functions_dup.js  \n",
            "  inflating: fastText-0.9.2/website/static/docs/en/html/functions_e.html  \n",
            "  inflating: fastText-0.9.2/website/static/docs/en/html/functions_f.html  \n",
            "  inflating: fastText-0.9.2/website/static/docs/en/html/functions_func.html  \n",
            "  inflating: fastText-0.9.2/website/static/docs/en/html/functions_g.html  \n",
            "  inflating: fastText-0.9.2/website/static/docs/en/html/functions_h.html  \n",
            "  inflating: fastText-0.9.2/website/static/docs/en/html/functions_i.html  \n",
            "  inflating: fastText-0.9.2/website/static/docs/en/html/functions_k.html  \n",
            "  inflating: fastText-0.9.2/website/static/docs/en/html/functions_l.html  \n",
            "  inflating: fastText-0.9.2/website/static/docs/en/html/functions_m.html  \n",
            "  inflating: fastText-0.9.2/website/static/docs/en/html/functions_n.html  \n",
            "  inflating: fastText-0.9.2/website/static/docs/en/html/functions_o.html  \n",
            "  inflating: fastText-0.9.2/website/static/docs/en/html/functions_p.html  \n",
            "  inflating: fastText-0.9.2/website/static/docs/en/html/functions_q.html  \n",
            "  inflating: fastText-0.9.2/website/static/docs/en/html/functions_r.html  \n",
            "  inflating: fastText-0.9.2/website/static/docs/en/html/functions_s.html  \n",
            "  inflating: fastText-0.9.2/website/static/docs/en/html/functions_t.html  \n",
            "  inflating: fastText-0.9.2/website/static/docs/en/html/functions_u.html  \n",
            "  inflating: fastText-0.9.2/website/static/docs/en/html/functions_v.html  \n",
            "  inflating: fastText-0.9.2/website/static/docs/en/html/functions_vars.html  \n",
            "  inflating: fastText-0.9.2/website/static/docs/en/html/functions_w.html  \n",
            "  inflating: fastText-0.9.2/website/static/docs/en/html/functions_z.html  \n",
            "  inflating: fastText-0.9.2/website/static/docs/en/html/globals.html  \n",
            "  inflating: fastText-0.9.2/website/static/docs/en/html/globals_defs.html  \n",
            "  inflating: fastText-0.9.2/website/static/docs/en/html/globals_func.html  \n",
            "  inflating: fastText-0.9.2/website/static/docs/en/html/index.html  \n",
            "  inflating: fastText-0.9.2/website/static/docs/en/html/jquery.js  \n",
            "  inflating: fastText-0.9.2/website/static/docs/en/html/main_8cc.html  \n",
            "  inflating: fastText-0.9.2/website/static/docs/en/html/main_8cc.js  \n",
            "  inflating: fastText-0.9.2/website/static/docs/en/html/matrix_8cc.html  \n",
            "  inflating: fastText-0.9.2/website/static/docs/en/html/matrix_8h.html  \n",
            "  inflating: fastText-0.9.2/website/static/docs/en/html/matrix_8h_source.html  \n",
            "  inflating: fastText-0.9.2/website/static/docs/en/html/menu.js  \n",
            "  inflating: fastText-0.9.2/website/static/docs/en/html/menudata.js  \n",
            "  inflating: fastText-0.9.2/website/static/docs/en/html/model_8cc.html  \n",
            "  inflating: fastText-0.9.2/website/static/docs/en/html/model_8h.html  \n",
            "  inflating: fastText-0.9.2/website/static/docs/en/html/model_8h.js  \n",
            "  inflating: fastText-0.9.2/website/static/docs/en/html/model_8h_source.html  \n",
            "  inflating: fastText-0.9.2/website/static/docs/en/html/namespacefasttext.html  \n",
            "  inflating: fastText-0.9.2/website/static/docs/en/html/namespacefasttext.js  \n",
            "  inflating: fastText-0.9.2/website/static/docs/en/html/namespacefasttext_1_1utils.html  \n",
            "  inflating: fastText-0.9.2/website/static/docs/en/html/namespacemembers.html  \n",
            "  inflating: fastText-0.9.2/website/static/docs/en/html/namespacemembers_enum.html  \n",
            "  inflating: fastText-0.9.2/website/static/docs/en/html/namespacemembers_func.html  \n",
            "  inflating: fastText-0.9.2/website/static/docs/en/html/namespacemembers_type.html  \n",
            "  inflating: fastText-0.9.2/website/static/docs/en/html/namespaces.html  \n",
            "  inflating: fastText-0.9.2/website/static/docs/en/html/namespaces.js  \n",
            " extracting: fastText-0.9.2/website/static/docs/en/html/nav_f.png  \n",
            "  inflating: fastText-0.9.2/website/static/docs/en/html/nav_g.png  \n",
            "  inflating: fastText-0.9.2/website/static/docs/en/html/nav_h.png  \n",
            "  inflating: fastText-0.9.2/website/static/docs/en/html/navtree.css  \n",
            "  inflating: fastText-0.9.2/website/static/docs/en/html/navtree.js  \n",
            "  inflating: fastText-0.9.2/website/static/docs/en/html/navtreedata.js  \n",
            "  inflating: fastText-0.9.2/website/static/docs/en/html/navtreeindex0.js  \n",
            "  inflating: fastText-0.9.2/website/static/docs/en/html/navtreeindex1.js  \n",
            "  inflating: fastText-0.9.2/website/static/docs/en/html/open.png  \n",
            "  inflating: fastText-0.9.2/website/static/docs/en/html/productquantizer_8cc.html  \n",
            "  inflating: fastText-0.9.2/website/static/docs/en/html/productquantizer_8cc.js  \n",
            "  inflating: fastText-0.9.2/website/static/docs/en/html/productquantizer_8h.html  \n",
            "  inflating: fastText-0.9.2/website/static/docs/en/html/productquantizer_8h_source.html  \n",
            "  inflating: fastText-0.9.2/website/static/docs/en/html/qmatrix_8cc.html  \n",
            "  inflating: fastText-0.9.2/website/static/docs/en/html/qmatrix_8h.html  \n",
            "  inflating: fastText-0.9.2/website/static/docs/en/html/qmatrix_8h_source.html  \n",
            "  inflating: fastText-0.9.2/website/static/docs/en/html/real_8h.html  \n",
            "  inflating: fastText-0.9.2/website/static/docs/en/html/real_8h.js  \n",
            "  inflating: fastText-0.9.2/website/static/docs/en/html/real_8h_source.html  \n",
            "  inflating: fastText-0.9.2/website/static/docs/en/html/resize.js  \n",
            "   creating: fastText-0.9.2/website/static/docs/en/html/search/\n",
            " extracting: fastText-0.9.2/website/static/docs/en/html/search/.files_7.html.StRRNc  \n",
            " extracting: fastText-0.9.2/website/static/docs/en/html/search/.variables_a.html.1MGQ27  \n",
            "  inflating: fastText-0.9.2/website/static/docs/en/html/search/all_0.html  \n",
            "  inflating: fastText-0.9.2/website/static/docs/en/html/search/all_0.js  \n",
            "  inflating: fastText-0.9.2/website/static/docs/en/html/search/all_1.html  \n",
            "  inflating: fastText-0.9.2/website/static/docs/en/html/search/all_1.js  \n",
            "  inflating: fastText-0.9.2/website/static/docs/en/html/search/all_10.html  \n",
            "  inflating: fastText-0.9.2/website/static/docs/en/html/search/all_10.js  \n",
            "  inflating: fastText-0.9.2/website/static/docs/en/html/search/all_11.html  \n",
            "  inflating: fastText-0.9.2/website/static/docs/en/html/search/all_11.js  \n",
            "  inflating: fastText-0.9.2/website/static/docs/en/html/search/all_12.html  \n",
            "  inflating: fastText-0.9.2/website/static/docs/en/html/search/all_12.js  \n",
            "  inflating: fastText-0.9.2/website/static/docs/en/html/search/all_13.html  \n",
            "  inflating: fastText-0.9.2/website/static/docs/en/html/search/all_13.js  \n",
            "  inflating: fastText-0.9.2/website/static/docs/en/html/search/all_14.html  \n",
            "  inflating: fastText-0.9.2/website/static/docs/en/html/search/all_14.js  \n",
            "  inflating: fastText-0.9.2/website/static/docs/en/html/search/all_15.html  \n",
            "  inflating: fastText-0.9.2/website/static/docs/en/html/search/all_15.js  \n",
            "  inflating: fastText-0.9.2/website/static/docs/en/html/search/all_16.html  \n",
            "  inflating: fastText-0.9.2/website/static/docs/en/html/search/all_16.js  \n",
            "  inflating: fastText-0.9.2/website/static/docs/en/html/search/all_17.html  \n",
            "  inflating: fastText-0.9.2/website/static/docs/en/html/search/all_17.js  \n",
            "  inflating: fastText-0.9.2/website/static/docs/en/html/search/all_2.html  \n",
            "  inflating: fastText-0.9.2/website/static/docs/en/html/search/all_2.js  \n",
            "  inflating: fastText-0.9.2/website/static/docs/en/html/search/all_3.html  \n",
            "  inflating: fastText-0.9.2/website/static/docs/en/html/search/all_3.js  \n",
            "  inflating: fastText-0.9.2/website/static/docs/en/html/search/all_4.html  \n",
            "  inflating: fastText-0.9.2/website/static/docs/en/html/search/all_4.js  \n",
            "  inflating: fastText-0.9.2/website/static/docs/en/html/search/all_5.html  \n",
            "  inflating: fastText-0.9.2/website/static/docs/en/html/search/all_5.js  \n",
            "  inflating: fastText-0.9.2/website/static/docs/en/html/search/all_6.html  \n",
            "  inflating: fastText-0.9.2/website/static/docs/en/html/search/all_6.js  \n",
            "  inflating: fastText-0.9.2/website/static/docs/en/html/search/all_7.html  \n",
            "  inflating: fastText-0.9.2/website/static/docs/en/html/search/all_7.js  \n",
            "  inflating: fastText-0.9.2/website/static/docs/en/html/search/all_8.html  \n",
            "  inflating: fastText-0.9.2/website/static/docs/en/html/search/all_8.js  \n",
            "  inflating: fastText-0.9.2/website/static/docs/en/html/search/all_9.html  \n",
            "  inflating: fastText-0.9.2/website/static/docs/en/html/search/all_9.js  \n",
            "  inflating: fastText-0.9.2/website/static/docs/en/html/search/all_a.html  \n",
            "  inflating: fastText-0.9.2/website/static/docs/en/html/search/all_a.js  \n",
            "  inflating: fastText-0.9.2/website/static/docs/en/html/search/all_b.html  \n",
            "  inflating: fastText-0.9.2/website/static/docs/en/html/search/all_b.js  \n",
            "  inflating: fastText-0.9.2/website/static/docs/en/html/search/all_c.html  \n",
            "  inflating: fastText-0.9.2/website/static/docs/en/html/search/all_c.js  \n",
            "  inflating: fastText-0.9.2/website/static/docs/en/html/search/all_d.html  \n",
            "  inflating: fastText-0.9.2/website/static/docs/en/html/search/all_d.js  \n",
            "  inflating: fastText-0.9.2/website/static/docs/en/html/search/all_e.html  \n",
            "  inflating: fastText-0.9.2/website/static/docs/en/html/search/all_e.js  \n",
            "  inflating: fastText-0.9.2/website/static/docs/en/html/search/all_f.html  \n",
            "  inflating: fastText-0.9.2/website/static/docs/en/html/search/all_f.js  \n",
            "  inflating: fastText-0.9.2/website/static/docs/en/html/search/classes_0.html  \n",
            "  inflating: fastText-0.9.2/website/static/docs/en/html/search/classes_0.js  \n",
            "  inflating: fastText-0.9.2/website/static/docs/en/html/search/classes_1.html  \n",
            "  inflating: fastText-0.9.2/website/static/docs/en/html/search/classes_1.js  \n",
            "  inflating: fastText-0.9.2/website/static/docs/en/html/search/classes_2.html  \n",
            "  inflating: fastText-0.9.2/website/static/docs/en/html/search/classes_2.js  \n",
            "  inflating: fastText-0.9.2/website/static/docs/en/html/search/classes_3.html  \n",
            "  inflating: fastText-0.9.2/website/static/docs/en/html/search/classes_3.js  \n",
            "  inflating: fastText-0.9.2/website/static/docs/en/html/search/classes_4.html  \n",
            "  inflating: fastText-0.9.2/website/static/docs/en/html/search/classes_4.js  \n",
            "  inflating: fastText-0.9.2/website/static/docs/en/html/search/classes_5.html  \n",
            "  inflating: fastText-0.9.2/website/static/docs/en/html/search/classes_5.js  \n",
            "  inflating: fastText-0.9.2/website/static/docs/en/html/search/classes_6.html  \n",
            "  inflating: fastText-0.9.2/website/static/docs/en/html/search/classes_6.js  \n",
            "  inflating: fastText-0.9.2/website/static/docs/en/html/search/classes_7.html  \n",
            "  inflating: fastText-0.9.2/website/static/docs/en/html/search/classes_7.js  \n",
            "  inflating: fastText-0.9.2/website/static/docs/en/html/search/classes_8.html  \n",
            "  inflating: fastText-0.9.2/website/static/docs/en/html/search/classes_8.js  \n",
            " extracting: fastText-0.9.2/website/static/docs/en/html/search/close.png  \n",
            "  inflating: fastText-0.9.2/website/static/docs/en/html/search/defines_0.html  \n",
            "  inflating: fastText-0.9.2/website/static/docs/en/html/search/defines_0.js  \n",
            "  inflating: fastText-0.9.2/website/static/docs/en/html/search/defines_1.html  \n",
            "  inflating: fastText-0.9.2/website/static/docs/en/html/search/defines_1.js  \n",
            "  inflating: fastText-0.9.2/website/static/docs/en/html/search/defines_2.html  \n",
            "  inflating: fastText-0.9.2/website/static/docs/en/html/search/defines_2.js  \n",
            "  inflating: fastText-0.9.2/website/static/docs/en/html/search/defines_3.html  \n",
            "  inflating: fastText-0.9.2/website/static/docs/en/html/search/defines_3.js  \n",
            "  inflating: fastText-0.9.2/website/static/docs/en/html/search/enums_0.html  \n",
            "  inflating: fastText-0.9.2/website/static/docs/en/html/search/enums_0.js  \n",
            "  inflating: fastText-0.9.2/website/static/docs/en/html/search/enums_1.html  \n",
            "  inflating: fastText-0.9.2/website/static/docs/en/html/search/enums_1.js  \n",
            "  inflating: fastText-0.9.2/website/static/docs/en/html/search/enums_2.html  \n",
            "  inflating: fastText-0.9.2/website/static/docs/en/html/search/enums_2.js  \n",
            "  inflating: fastText-0.9.2/website/static/docs/en/html/search/enumvalues_0.html  \n",
            "  inflating: fastText-0.9.2/website/static/docs/en/html/search/enumvalues_0.js  \n",
            "  inflating: fastText-0.9.2/website/static/docs/en/html/search/enumvalues_1.html  \n",
            "  inflating: fastText-0.9.2/website/static/docs/en/html/search/enumvalues_1.js  \n",
            "  inflating: fastText-0.9.2/website/static/docs/en/html/search/enumvalues_2.html  \n",
            "  inflating: fastText-0.9.2/website/static/docs/en/html/search/enumvalues_2.js  \n",
            "  inflating: fastText-0.9.2/website/static/docs/en/html/search/enumvalues_3.html  \n",
            "  inflating: fastText-0.9.2/website/static/docs/en/html/search/enumvalues_3.js  \n",
            "  inflating: fastText-0.9.2/website/static/docs/en/html/search/enumvalues_4.html  \n",
            "  inflating: fastText-0.9.2/website/static/docs/en/html/search/enumvalues_4.js  \n",
            "  inflating: fastText-0.9.2/website/static/docs/en/html/search/enumvalues_5.html  \n",
            "  inflating: fastText-0.9.2/website/static/docs/en/html/search/enumvalues_5.js  \n",
            "  inflating: fastText-0.9.2/website/static/docs/en/html/search/files_0.html  \n",
            "  inflating: fastText-0.9.2/website/static/docs/en/html/search/files_0.js  \n",
            "  inflating: fastText-0.9.2/website/static/docs/en/html/search/files_1.html  \n",
            "  inflating: fastText-0.9.2/website/static/docs/en/html/search/files_1.js  \n",
            "  inflating: fastText-0.9.2/website/static/docs/en/html/search/files_2.html  \n",
            "  inflating: fastText-0.9.2/website/static/docs/en/html/search/files_2.js  \n",
            "  inflating: fastText-0.9.2/website/static/docs/en/html/search/files_3.html  \n",
            "  inflating: fastText-0.9.2/website/static/docs/en/html/search/files_3.js  \n",
            "  inflating: fastText-0.9.2/website/static/docs/en/html/search/files_4.html  \n",
            "  inflating: fastText-0.9.2/website/static/docs/en/html/search/files_4.js  \n",
            "  inflating: fastText-0.9.2/website/static/docs/en/html/search/files_5.html  \n",
            "  inflating: fastText-0.9.2/website/static/docs/en/html/search/files_5.js  \n",
            "  inflating: fastText-0.9.2/website/static/docs/en/html/search/files_6.html  \n",
            "  inflating: fastText-0.9.2/website/static/docs/en/html/search/files_6.js  \n",
            "  inflating: fastText-0.9.2/website/static/docs/en/html/search/files_7.html  \n",
            "  inflating: fastText-0.9.2/website/static/docs/en/html/search/files_7.js  \n",
            "  inflating: fastText-0.9.2/website/static/docs/en/html/search/files_8.html  \n",
            "  inflating: fastText-0.9.2/website/static/docs/en/html/search/files_8.js  \n",
            "  inflating: fastText-0.9.2/website/static/docs/en/html/search/functions_0.html  \n",
            "  inflating: fastText-0.9.2/website/static/docs/en/html/search/functions_0.js  \n",
            "  inflating: fastText-0.9.2/website/static/docs/en/html/search/functions_1.html  \n",
            "  inflating: fastText-0.9.2/website/static/docs/en/html/search/functions_1.js  \n",
            "  inflating: fastText-0.9.2/website/static/docs/en/html/search/functions_10.html  \n",
            "  inflating: fastText-0.9.2/website/static/docs/en/html/search/functions_10.js  \n",
            "  inflating: fastText-0.9.2/website/static/docs/en/html/search/functions_11.html  \n",
            "  inflating: fastText-0.9.2/website/static/docs/en/html/search/functions_11.js  \n",
            "  inflating: fastText-0.9.2/website/static/docs/en/html/search/functions_12.html  \n",
            "  inflating: fastText-0.9.2/website/static/docs/en/html/search/functions_12.js  \n",
            "  inflating: fastText-0.9.2/website/static/docs/en/html/search/functions_13.html  \n",
            "  inflating: fastText-0.9.2/website/static/docs/en/html/search/functions_13.js  \n",
            "  inflating: fastText-0.9.2/website/static/docs/en/html/search/functions_14.html  \n",
            "  inflating: fastText-0.9.2/website/static/docs/en/html/search/functions_14.js  \n",
            "  inflating: fastText-0.9.2/website/static/docs/en/html/search/functions_15.html  \n",
            "  inflating: fastText-0.9.2/website/static/docs/en/html/search/functions_15.js  \n",
            "  inflating: fastText-0.9.2/website/static/docs/en/html/search/functions_16.html  \n",
            "  inflating: fastText-0.9.2/website/static/docs/en/html/search/functions_16.js  \n",
            "  inflating: fastText-0.9.2/website/static/docs/en/html/search/functions_17.html  \n",
            "  inflating: fastText-0.9.2/website/static/docs/en/html/search/functions_17.js  \n",
            "  inflating: fastText-0.9.2/website/static/docs/en/html/search/functions_2.html  \n",
            "  inflating: fastText-0.9.2/website/static/docs/en/html/search/functions_2.js  \n",
            "  inflating: fastText-0.9.2/website/static/docs/en/html/search/functions_3.html  \n",
            "  inflating: fastText-0.9.2/website/static/docs/en/html/search/functions_3.js  \n",
            "  inflating: fastText-0.9.2/website/static/docs/en/html/search/functions_4.html  \n",
            "  inflating: fastText-0.9.2/website/static/docs/en/html/search/functions_4.js  \n",
            "  inflating: fastText-0.9.2/website/static/docs/en/html/search/functions_5.html  \n",
            "  inflating: fastText-0.9.2/website/static/docs/en/html/search/functions_5.js  \n",
            "  inflating: fastText-0.9.2/website/static/docs/en/html/search/functions_6.html  \n",
            "  inflating: fastText-0.9.2/website/static/docs/en/html/search/functions_6.js  \n",
            "  inflating: fastText-0.9.2/website/static/docs/en/html/search/functions_7.html  \n",
            "  inflating: fastText-0.9.2/website/static/docs/en/html/search/functions_7.js  \n",
            "  inflating: fastText-0.9.2/website/static/docs/en/html/search/functions_8.html  \n",
            "  inflating: fastText-0.9.2/website/static/docs/en/html/search/functions_8.js  \n",
            "  inflating: fastText-0.9.2/website/static/docs/en/html/search/functions_9.html  \n",
            "  inflating: fastText-0.9.2/website/static/docs/en/html/search/functions_9.js  \n",
            "  inflating: fastText-0.9.2/website/static/docs/en/html/search/functions_a.html  \n",
            "  inflating: fastText-0.9.2/website/static/docs/en/html/search/functions_a.js  \n",
            "  inflating: fastText-0.9.2/website/static/docs/en/html/search/functions_b.html  \n",
            "  inflating: fastText-0.9.2/website/static/docs/en/html/search/functions_b.js  \n",
            "  inflating: fastText-0.9.2/website/static/docs/en/html/search/functions_c.html  \n",
            "  inflating: fastText-0.9.2/website/static/docs/en/html/search/functions_c.js  \n",
            "  inflating: fastText-0.9.2/website/static/docs/en/html/search/functions_d.html  \n",
            "  inflating: fastText-0.9.2/website/static/docs/en/html/search/functions_d.js  \n",
            "  inflating: fastText-0.9.2/website/static/docs/en/html/search/functions_e.html  \n",
            "  inflating: fastText-0.9.2/website/static/docs/en/html/search/functions_e.js  \n",
            "  inflating: fastText-0.9.2/website/static/docs/en/html/search/functions_f.html  \n",
            "  inflating: fastText-0.9.2/website/static/docs/en/html/search/functions_f.js  \n",
            " extracting: fastText-0.9.2/website/static/docs/en/html/search/mag_sel.png  \n",
            "  inflating: fastText-0.9.2/website/static/docs/en/html/search/namespaces_0.html  \n",
            "  inflating: fastText-0.9.2/website/static/docs/en/html/search/namespaces_0.js  \n",
            "  inflating: fastText-0.9.2/website/static/docs/en/html/search/nomatches.html  \n",
            "  inflating: fastText-0.9.2/website/static/docs/en/html/search/search.css  \n",
            "  inflating: fastText-0.9.2/website/static/docs/en/html/search/search.js  \n",
            " extracting: fastText-0.9.2/website/static/docs/en/html/search/search_l.png  \n",
            "  inflating: fastText-0.9.2/website/static/docs/en/html/search/search_m.png  \n",
            " extracting: fastText-0.9.2/website/static/docs/en/html/search/search_r.png  \n",
            "  inflating: fastText-0.9.2/website/static/docs/en/html/search/searchdata.js  \n",
            "  inflating: fastText-0.9.2/website/static/docs/en/html/search/typedefs_0.html  \n",
            "  inflating: fastText-0.9.2/website/static/docs/en/html/search/typedefs_0.js  \n",
            "  inflating: fastText-0.9.2/website/static/docs/en/html/search/typedefs_1.html  \n",
            "  inflating: fastText-0.9.2/website/static/docs/en/html/search/typedefs_1.js  \n",
            "  inflating: fastText-0.9.2/website/static/docs/en/html/search/variables_0.html  \n",
            "  inflating: fastText-0.9.2/website/static/docs/en/html/search/variables_0.js  \n",
            "  inflating: fastText-0.9.2/website/static/docs/en/html/search/variables_1.html  \n",
            "  inflating: fastText-0.9.2/website/static/docs/en/html/search/variables_1.js  \n",
            "  inflating: fastText-0.9.2/website/static/docs/en/html/search/variables_10.html  \n",
            "  inflating: fastText-0.9.2/website/static/docs/en/html/search/variables_10.js  \n",
            "  inflating: fastText-0.9.2/website/static/docs/en/html/search/variables_11.html  \n",
            "  inflating: fastText-0.9.2/website/static/docs/en/html/search/variables_11.js  \n",
            "  inflating: fastText-0.9.2/website/static/docs/en/html/search/variables_12.html  \n",
            "  inflating: fastText-0.9.2/website/static/docs/en/html/search/variables_12.js  \n",
            "  inflating: fastText-0.9.2/website/static/docs/en/html/search/variables_13.html  \n",
            "  inflating: fastText-0.9.2/website/static/docs/en/html/search/variables_13.js  \n",
            "  inflating: fastText-0.9.2/website/static/docs/en/html/search/variables_2.html  \n",
            "  inflating: fastText-0.9.2/website/static/docs/en/html/search/variables_2.js  \n",
            "  inflating: fastText-0.9.2/website/static/docs/en/html/search/variables_3.html  \n",
            "  inflating: fastText-0.9.2/website/static/docs/en/html/search/variables_3.js  \n",
            "  inflating: fastText-0.9.2/website/static/docs/en/html/search/variables_4.html  \n",
            "  inflating: fastText-0.9.2/website/static/docs/en/html/search/variables_4.js  \n",
            "  inflating: fastText-0.9.2/website/static/docs/en/html/search/variables_5.html  \n",
            "  inflating: fastText-0.9.2/website/static/docs/en/html/search/variables_5.js  \n",
            "  inflating: fastText-0.9.2/website/static/docs/en/html/search/variables_6.html  \n",
            "  inflating: fastText-0.9.2/website/static/docs/en/html/search/variables_6.js  \n",
            "  inflating: fastText-0.9.2/website/static/docs/en/html/search/variables_7.html  \n",
            "  inflating: fastText-0.9.2/website/static/docs/en/html/search/variables_7.js  \n",
            "  inflating: fastText-0.9.2/website/static/docs/en/html/search/variables_8.html  \n",
            "  inflating: fastText-0.9.2/website/static/docs/en/html/search/variables_8.js  \n",
            "  inflating: fastText-0.9.2/website/static/docs/en/html/search/variables_9.html  \n",
            "  inflating: fastText-0.9.2/website/static/docs/en/html/search/variables_9.js  \n",
            "  inflating: fastText-0.9.2/website/static/docs/en/html/search/variables_a.html  \n",
            "  inflating: fastText-0.9.2/website/static/docs/en/html/search/variables_a.js  \n",
            "  inflating: fastText-0.9.2/website/static/docs/en/html/search/variables_b.html  \n",
            "  inflating: fastText-0.9.2/website/static/docs/en/html/search/variables_b.js  \n",
            "  inflating: fastText-0.9.2/website/static/docs/en/html/search/variables_c.html  \n",
            "  inflating: fastText-0.9.2/website/static/docs/en/html/search/variables_c.js  \n",
            "  inflating: fastText-0.9.2/website/static/docs/en/html/search/variables_d.html  \n",
            "  inflating: fastText-0.9.2/website/static/docs/en/html/search/variables_d.js  \n",
            "  inflating: fastText-0.9.2/website/static/docs/en/html/search/variables_e.html  \n",
            "  inflating: fastText-0.9.2/website/static/docs/en/html/search/variables_e.js  \n",
            "  inflating: fastText-0.9.2/website/static/docs/en/html/search/variables_f.html  \n",
            "  inflating: fastText-0.9.2/website/static/docs/en/html/search/variables_f.js  \n",
            "  inflating: fastText-0.9.2/website/static/docs/en/html/splitbar.png  \n",
            "  inflating: fastText-0.9.2/website/static/docs/en/html/structfasttext_1_1Node-members.html  \n",
            "  inflating: fastText-0.9.2/website/static/docs/en/html/structfasttext_1_1Node.html  \n",
            "  inflating: fastText-0.9.2/website/static/docs/en/html/structfasttext_1_1Node.js  \n",
            "  inflating: fastText-0.9.2/website/static/docs/en/html/structfasttext_1_1entry-members.html  \n",
            "  inflating: fastText-0.9.2/website/static/docs/en/html/structfasttext_1_1entry.html  \n",
            "  inflating: fastText-0.9.2/website/static/docs/en/html/structfasttext_1_1entry.js  \n",
            " extracting: fastText-0.9.2/website/static/docs/en/html/sync_off.png  \n",
            " extracting: fastText-0.9.2/website/static/docs/en/html/sync_on.png  \n",
            " extracting: fastText-0.9.2/website/static/docs/en/html/tab_a.png  \n",
            " extracting: fastText-0.9.2/website/static/docs/en/html/tab_b.png  \n",
            " extracting: fastText-0.9.2/website/static/docs/en/html/tab_h.png  \n",
            " extracting: fastText-0.9.2/website/static/docs/en/html/tab_s.png  \n",
            "  inflating: fastText-0.9.2/website/static/docs/en/html/tabs.css  \n",
            "  inflating: fastText-0.9.2/website/static/docs/en/html/utils_8cc.html  \n",
            "  inflating: fastText-0.9.2/website/static/docs/en/html/utils_8cc.js  \n",
            "  inflating: fastText-0.9.2/website/static/docs/en/html/utils_8h.html  \n",
            "  inflating: fastText-0.9.2/website/static/docs/en/html/utils_8h.js  \n",
            "  inflating: fastText-0.9.2/website/static/docs/en/html/utils_8h_source.html  \n",
            "  inflating: fastText-0.9.2/website/static/docs/en/html/vector_8cc.html  \n",
            "  inflating: fastText-0.9.2/website/static/docs/en/html/vector_8cc.js  \n",
            "  inflating: fastText-0.9.2/website/static/docs/en/html/vector_8h.html  \n",
            "  inflating: fastText-0.9.2/website/static/docs/en/html/vector_8h.js  \n",
            "  inflating: fastText-0.9.2/website/static/docs/en/html/vector_8h_source.html  \n",
            "  inflating: fastText-0.9.2/website/static/fasttext.css  \n",
            "   creating: fastText-0.9.2/website/static/img/\n",
            "   creating: fastText-0.9.2/website/static/img/authors/\n",
            "  inflating: fastText-0.9.2/website/static/img/authors/armand_joulin.jpg  \n",
            "  inflating: fastText-0.9.2/website/static/img/authors/christian_puhrsch.png  \n",
            "  inflating: fastText-0.9.2/website/static/img/authors/edouard_grave.jpeg  \n",
            "  inflating: fastText-0.9.2/website/static/img/authors/piotr_bojanowski.jpg  \n",
            "  inflating: fastText-0.9.2/website/static/img/authors/tomas_mikolov.jpg  \n",
            "   creating: fastText-0.9.2/website/static/img/blog/\n",
            "  inflating: fastText-0.9.2/website/static/img/blog/2016-08-18-blog-post-img1.png  \n",
            "  inflating: fastText-0.9.2/website/static/img/blog/2016-08-18-blog-post-img2.png  \n",
            "  inflating: fastText-0.9.2/website/static/img/blog/2017-05-02-blog-post-img1.jpg  \n",
            "  inflating: fastText-0.9.2/website/static/img/blog/2017-05-02-blog-post-img2.jpg  \n",
            "  inflating: fastText-0.9.2/website/static/img/blog/2017-10-02-blog-post-img1.png  \n",
            "  inflating: fastText-0.9.2/website/static/img/cbo_vs_skipgram.png  \n",
            "  inflating: fastText-0.9.2/website/static/img/fasttext-icon-api.png  \n",
            "  inflating: fastText-0.9.2/website/static/img/fasttext-icon-bg-web.png  \n",
            "  inflating: fastText-0.9.2/website/static/img/fasttext-icon-color-square.png  \n",
            "  inflating: fastText-0.9.2/website/static/img/fasttext-icon-color-web.png  \n",
            "  inflating: fastText-0.9.2/website/static/img/fasttext-icon-faq.png  \n",
            "  inflating: fastText-0.9.2/website/static/img/fasttext-icon-tutorial.png  \n",
            "  inflating: fastText-0.9.2/website/static/img/fasttext-icon-white-web.png  \n",
            "  inflating: fastText-0.9.2/website/static/img/fasttext-logo-color-web.png  \n",
            "  inflating: fastText-0.9.2/website/static/img/fasttext-logo-white-web.png  \n",
            "  inflating: fastText-0.9.2/website/static/img/logo-color.png  \n",
            "  inflating: fastText-0.9.2/website/static/img/model-black.png  \n",
            "  inflating: fastText-0.9.2/website/static/img/model-blue.png  \n",
            "  inflating: fastText-0.9.2/website/static/img/model-red.png  \n",
            "  inflating: fastText-0.9.2/website/static/img/ogimage.png  \n",
            "  inflating: fastText-0.9.2/website/static/img/oss_logo.png  \n",
            "  inflating: fastText-0.9.2/website/static/tabber.js  \n",
            "  inflating: fastText-0.9.2/wikifil.pl  \n",
            "  inflating: fastText-0.9.2/word-vector-example.sh  \n",
            "/content/fastText-0.9.2\n",
            "Looking in indexes: https://pypi.org/simple, https://us-python.pkg.dev/colab-wheels/public/simple/\n",
            "Processing /content/fastText-0.9.2\n",
            "\u001b[33m  DEPRECATION: A future pip version will change local packages to be built in-place without first copying to a temporary directory. We recommend you use --use-feature=in-tree-build to test your packages with this new behavior before it becomes the default.\n",
            "   pip 21.3 will remove support for this functionality. You can find discussion regarding this at https://github.com/pypa/pip/issues/7555.\u001b[0m\n",
            "Collecting pybind11>=2.2\n",
            "  Using cached pybind11-2.10.0-py3-none-any.whl (213 kB)\n",
            "Requirement already satisfied: setuptools>=0.7.0 in /usr/local/lib/python3.7/dist-packages (from fasttext==0.9.2) (57.4.0)\n",
            "Requirement already satisfied: numpy in /usr/local/lib/python3.7/dist-packages (from fasttext==0.9.2) (1.21.6)\n",
            "Building wheels for collected packages: fasttext\n",
            "  Building wheel for fasttext (setup.py) ... \u001b[?25l\u001b[?25hdone\n",
            "  Created wheel for fasttext: filename=fasttext-0.9.2-cp37-cp37m-linux_x86_64.whl size=3164904 sha256=2acba8a25596fcfc41d16425b4cb8bf034bfd1bb19d5f28f268da1cbd4f3e6d5\n",
            "  Stored in directory: /root/.cache/pip/wheels/87/b3/c9/4ae793bec22dc8570ea6defb4ebb24d699f12b8c954db5f44f\n",
            "Successfully built fasttext\n",
            "Installing collected packages: pybind11, fasttext\n",
            "Successfully installed fasttext-0.9.2 pybind11-2.10.0\n"
          ]
        }
      ],
      "source": [
        "# Install and import fastText\n",
        "!wget https://github.com/facebookresearch/fastText/archive/v0.9.2.zip\n",
        "!unzip v0.9.2.zip\n",
        "\n",
        "%cd fastText-0.9.2\n",
        "\n",
        "!pip install .\n",
        "import fasttext as ft"
      ]
    },
    {
      "cell_type": "code",
      "execution_count": 2,
      "metadata": {
        "colab": {
          "base_uri": "https://localhost:8080/",
          "height": 52
        },
        "id": "MaxPHXzMMU8K",
        "outputId": "436ddeb7-d7de-4f75-c439-4ff74e3b36c1"
      },
      "outputs": [
        {
          "output_type": "stream",
          "name": "stdout",
          "text": [
            "/content\n"
          ]
        },
        {
          "output_type": "execute_result",
          "data": {
            "text/plain": [
              "'/content'"
            ],
            "application/vnd.google.colaboratory.intrinsic+json": {
              "type": "string"
            }
          },
          "metadata": {},
          "execution_count": 2
        }
      ],
      "source": [
        "%cd /content\n",
        "%pwd"
      ]
    },
    {
      "cell_type": "code",
      "execution_count": 3,
      "metadata": {
        "colab": {
          "base_uri": "https://localhost:8080/"
        },
        "id": "kDgnyEzoz-8v",
        "outputId": "116ccf0c-100e-49c6-87fd-81bb305ee175"
      },
      "outputs": [
        {
          "output_type": "stream",
          "name": "stdout",
          "text": [
            "Looking in indexes: https://pypi.org/simple, https://us-python.pkg.dev/colab-wheels/public/simple/\n",
            "Collecting parse\n",
            "  Downloading parse-1.19.0.tar.gz (30 kB)\n",
            "Building wheels for collected packages: parse\n",
            "  Building wheel for parse (setup.py) ... \u001b[?25l\u001b[?25hdone\n",
            "  Created wheel for parse: filename=parse-1.19.0-py3-none-any.whl size=24591 sha256=eba0ba67537c2f888df485096d087eeef815b5332fe287a11475271cfbe221b1\n",
            "  Stored in directory: /root/.cache/pip/wheels/9c/aa/cc/f2228050ccb40f22144b073f15a2c84f11204f29fc0dce028e\n",
            "Successfully built parse\n",
            "Installing collected packages: parse\n",
            "Successfully installed parse-1.19.0\n"
          ]
        }
      ],
      "source": [
        "# Install the parse module\n",
        "!pip install parse"
      ]
    },
    {
      "cell_type": "code",
      "execution_count": 4,
      "metadata": {
        "colab": {
          "base_uri": "https://localhost:8080/"
        },
        "id": "sxT7mdWuMrc6",
        "outputId": "a86d9fd9-468f-4778-d37a-0779e16b77fb"
      },
      "outputs": [
        {
          "output_type": "stream",
          "name": "stdout",
          "text": [
            "Looking in indexes: https://pypi.org/simple, https://us-python.pkg.dev/colab-wheels/public/simple/\n",
            "Collecting wget\n",
            "  Downloading wget-3.2.zip (10 kB)\n",
            "Building wheels for collected packages: wget\n",
            "  Building wheel for wget (setup.py) ... \u001b[?25l\u001b[?25hdone\n",
            "  Created wheel for wget: filename=wget-3.2-py3-none-any.whl size=9675 sha256=2603a3a02545708a219d89de9754e1c3714312779fe50bf6b0c4a71fab4cdb4b\n",
            "  Stored in directory: /root/.cache/pip/wheels/a1/b6/7c/0e63e34eb06634181c63adacca38b79ff8f35c37e3c13e3c02\n",
            "Successfully built wget\n",
            "Installing collected packages: wget\n",
            "Successfully installed wget-3.2\n"
          ]
        }
      ],
      "source": [
        "!pip install wget"
      ]
    },
    {
      "cell_type": "code",
      "execution_count": 17,
      "metadata": {
        "id": "1-fv3etLz-8x"
      },
      "outputs": [],
      "source": [
        "# Import necessary libraries\n",
        "import parse\n",
        "import fasttext as ft\n",
        "import numpy as np\n",
        "from sklearn.metrics import f1_score\n",
        "from sklearn.metrics import confusion_matrix\n",
        "import matplotlib.pyplot as plt\n",
        "import time\n",
        "import wget\n",
        "import zipfile\n",
        "import pandas as pd\n",
        "from sklearn.metrics import classification_report"
      ]
    },
    {
      "cell_type": "code",
      "execution_count": 10,
      "metadata": {
        "id": "zkYh1SMuz-8y"
      },
      "outputs": [],
      "source": [
        "# Upload the data to google collab and define paths to them\n",
        "# (click on the Folder on the right of the window, and click on the file icon (\"Upload to session storage\")\n",
        "train = \"/content/sled_categorization_TRAINSMALL_PREPROCESSED.txt\"\n",
        "\n",
        "test = \"/content/sled_categorization_TEST_PREPROCESSED.txt\"\n",
        "\n",
        "dev = \"/content/sled_categorization_DEV_PREPROCESSED.txt\""
      ]
    },
    {
      "cell_type": "code",
      "execution_count": 6,
      "metadata": {
        "colab": {
          "base_uri": "https://localhost:8080/"
        },
        "id": "KZFOMYx-z-89",
        "outputId": "113331f7-70b1-4e58-ebc8-30de1cbba2b7"
      },
      "outputs": [
        {
          "output_type": "stream",
          "name": "stdout",
          "text": [
            "Downloading started\n",
            "Downloading Completed\n"
          ]
        }
      ],
      "source": [
        "# Download and unzip a file with the Slovene embeddings\n",
        "print('Downloading started')\n",
        "\n",
        "#Defining the zip file URL\n",
        "url = \"https://www.clarin.si/repository/xmlui/bitstream/handle/11356/1204/embed.sl-token.ft.sg.vec.zip\"\n",
        "\n",
        "# Downloading the file by sending the request to the URL\n",
        "embs = wget.download(url)\n",
        "print('Downloading Completed')\n",
        "\n",
        "# extracting the zip file contents\n",
        "zipfile= zipfile.ZipFile(embs)\n",
        "zipfile.extractall('data/')"
      ]
    },
    {
      "cell_type": "code",
      "execution_count": 11,
      "metadata": {
        "id": "i6RcGQyRz-80"
      },
      "outputs": [],
      "source": [
        "# Parse the file to separate labels from text\n",
        "def parse_file(path: str):\n",
        "    \"\"\"Reads fasttext formatted file and returns labels, texts.\"\"\"\n",
        "    with open(path, \"r\") as f:\n",
        "        content = f.readlines()\n",
        "    pattern = \"{label} {text}\\n\"\n",
        "    p = parse.compile(pattern)\n",
        "\n",
        "    labels, texts = list(), list()\n",
        "    for line in content:\n",
        "        rez = p.parse(line)\n",
        "        if rez is not None:\n",
        "            labels.append(rez[\"label\"])\n",
        "            texts.append(rez[\"text\"])\n",
        "        else:\n",
        "            print(\"error parsing line \", line)\n",
        "    return labels, texts"
      ]
    },
    {
      "cell_type": "code",
      "execution_count": 12,
      "metadata": {
        "colab": {
          "base_uri": "https://localhost:8080/"
        },
        "id": "32cOUBaAz-81",
        "outputId": "2fa93daa-8b6a-4cf5-aaa2-6167d6e5abcf"
      },
      "outputs": [
        {
          "output_type": "execute_result",
          "data": {
            "text/plain": [
              "['na tolminskem se je dopoldne zgodila prometna nesreča v kateri je umrl 43-letni voznik osebnega avtomobila po tem ko je zapeljal v 100 metrov globoko grapo  nesreča se je zgodila ob 916 uri po prvih ugotovitvah policistov je domačin peljal iz tolmina proti vasi zadlaz - žabče kjer je v neposredni bližini ene od tamkajšnjih stanovanjskih hiš zapeljal levo z vozišča globoko približno 100 metrov v grapo  poleg policistov iz tolmina in nove gorice ter novogoriške gorske policijske enote so na kraju nesreče posredovali tudi gasilci pripadniki gorske reševalne službe in reševalci iz tolmina v nadaljevanju je bila ugotovljena in potrjena identiteta voznika in sicer je za posledicami telesnih poškodb v prometni nesreči podlegel 43-letni voznik so sporočili iz policijske uprave nova gorica zdravnica je odredila sanitarno obdukcijo ki jo bodo opravili na inštitutu za sodno medicino v ljubljani o nesreči so obvestili tudi preiskovalno sodnico in državno tožilstvo v novi gorici',\n",
              " 'na cesti zadlaz-žabče se je zgodila prometna nesreča v kateri je umrl 43-letni voznik osebnega avtomobila po prvih ugotovitvah je v neposredni bližini ene od tamkajšnjih stanovanjskih hiš zapeljal levo z vozišča približno 100 metrov globoko v grapo  ob 916 so novogoriške policiste obvestili o prometni nesreči s smrtnim izidom na cesti zadlaz-žabče v kateri je bil udeležen 43-letni voznik osebnega avtomobila z območja upravne enote tolmin  po prvih ugotovitvah je voznik peljal iz tolmina proti omenjeni vasi kjer je v neposredni bližini ene od tamkajšnjih stanovanjskih hiš zapeljal levo z vozišča približno 100 metrov globoko v grapo in pri tem utrpel tako hude poškodbe da je umrl  poleg policistov pp tolmin postaje prometne policije nova gorica in gorske policijske enote pu nova gorica so na kraju nesreče posredovali tudi gasilci pripadniki gorske reševalne službe in reševalci nmp zd tolmin zdravnica je odredila sanitarno obdukcijo ki jo bodo opravili na inštitutu za sodno medicino v ljubljani policija je o nesreči obvestila tudi pristojne pravosodne organe preiskovalno sodnico okrožnega sodišča in državno tožilstvo v novi gorici)',\n",
              " 'v sredo ob 1321 je bila novogoriška policija obveščena o sumu kaznivega dejanja hude telesne poškodbe na območju naselja dornberk kjer sta se v zasebnih prostorih fizično sprla dva moška stara 34 in 41 let takoj po obvestilu so bili na kraj napoteni policisti in kriminalisti ki so ugotovili da sta bila v sporu oba moška huje telesno poškodovana pri čemer je 34-letnik v sporu utrpel tudi vbodno rano z nožem drugi udeleženec spora pa je utrpel poškodbe obraza kasneje so oba moška reševalci odpeljali na nadaljnje zdravljenje v šempetrsko bolnišnico  policija je glede omenjenega primera obvestila tudi preiskovalnega sodnika okrožnega sodišča in državno tožilstvo v novi gorici zoper oba udeleženca bo po zaključku preiskave podana kazenska ovadba zaradi utemeljenega suma storitve kaznivega dejanja hude telesne poškodbe']"
            ]
          },
          "metadata": {},
          "execution_count": 12
        }
      ],
      "source": [
        "# Create a list of texts and labels from the train file\n",
        "train_labels, train_texts = parse_file(train)\n",
        "\n",
        "# Inspect the results\n",
        "train_texts[:3]"
      ]
    },
    {
      "cell_type": "code",
      "execution_count": 13,
      "metadata": {
        "colab": {
          "base_uri": "https://localhost:8080/"
        },
        "id": "z64Gj62Fz-82",
        "outputId": "db199f93-7ff2-4f12-8705-ee1f22b526db"
      },
      "outputs": [
        {
          "output_type": "execute_result",
          "data": {
            "text/plain": [
              "['__label__gospodarstvo',\n",
              " '__label__izobrazevanje',\n",
              " '__label__politika',\n",
              " '__label__zabava',\n",
              " '__label__okolje',\n",
              " '__label__vreme',\n",
              " '__label__prosticas',\n",
              " '__label__zdravje',\n",
              " '__label__kultura',\n",
              " '__label__crnakronika',\n",
              " '__label__sport',\n",
              " '__label__znanost',\n",
              " '__label__druzba']"
            ]
          },
          "metadata": {},
          "execution_count": 13
        }
      ],
      "source": [
        "# Create a list of labels - by creating a set, we get only unique labels from the list of all labels,\n",
        "# then we transform the set back to a list\n",
        "\n",
        "LABELS = list(set(train_labels))\n",
        "\n",
        "LABELS"
      ]
    },
    {
      "cell_type": "code",
      "execution_count": 14,
      "metadata": {
        "id": "GrJMvfAKz-83"
      },
      "outputs": [],
      "source": [
        "def prediction_to_label(prediction):\n",
        "    \"\"\"Transforms predictions as returned by fasttext into pure labels.\"\"\"\n",
        "    return np.array(prediction[0])[:, 0]\n",
        "\n",
        "# Create a function to evaluate the results (it calculates the scores and creates a confusion matrix)\n",
        "def plot_cm():\n",
        "    \"\"\"\n",
        "    Plots confusion matrix for prediction on the test set.\n",
        "    Takes the predictions, named as y_pred, true values, named as y_true,\n",
        "    and labels, named as LABELS.\n",
        "    \"\"\"\n",
        "    # Plot the confusion matrix:\n",
        "    cm = confusion_matrix(y_true, y_pred, labels=LABELS)\n",
        "    plt.figure(figsize=(9, 9))\n",
        "    plt.imshow(cm, cmap=\"Oranges\")\n",
        "    for (i, j), z in np.ndenumerate(cm):\n",
        "        plt.text(j, i, '{:d}'.format(z), ha='center', va='center')\n",
        "    classNames = LABELS\n",
        "    plt.ylabel('True label')\n",
        "    plt.xlabel('Predicted label')\n",
        "    tick_marks = np.arange(len(classNames))\n",
        "    plt.xticks(tick_marks, classNames, rotation=90)\n",
        "    plt.yticks(tick_marks, classNames)\n",
        "\n",
        "    plt.tight_layout()\n",
        "    fig1 = plt.gcf()\n",
        "    plt.show()\n",
        "    plt.draw()\n",
        "\n",
        "    # Calculate micro and macro F1 scores\n",
        "    microF1 = f1_score(y_true, y_pred, labels=LABELS, average =\"micro\")\n",
        "    macroF1 = f1_score(y_true, y_pred, labels=LABELS, average =\"macro\")\n",
        "\n",
        "    print(f\"Micro F1: {microF1:0.4}, Macro F1: {macroF1:0.4}\")\n",
        "\n",
        "    return microF1, macroF1"
      ]
    },
    {
      "cell_type": "markdown",
      "source": [
        "## Hyperparameter search"
      ],
      "metadata": {
        "id": "wZnOV9elfqci"
      }
    },
    {
      "cell_type": "code",
      "execution_count": null,
      "metadata": {
        "id": "LtARWOgGz-8-"
      },
      "outputs": [],
      "source": [
        "# Create a list with results\n",
        "results = []"
      ]
    },
    {
      "cell_type": "code",
      "execution_count": null,
      "metadata": {
        "colab": {
          "base_uri": "https://localhost:8080/",
          "height": 796
        },
        "id": "AXJcdawKEdF3",
        "outputId": "096008a6-4131-4eee-d474-32aa342345bc"
      },
      "outputs": [
        {
          "output_type": "stream",
          "name": "stdout",
          "text": [
            "Training started for epoch_num 300.\n",
            "Training finished. Testing started.\n",
            "Training took 13.11 minutes.\n"
          ]
        },
        {
          "output_type": "display_data",
          "data": {
            "text/plain": [
              "<Figure size 648x648 with 1 Axes>"
            ],
            "image/png": "[encoded data removed]"
          },
          "metadata": {}
        },
        {
          "output_type": "stream",
          "name": "stdout",
          "text": [
            "Micro F1: 0.8438, Macro F1: 0.8435\n",
            "Testing took 0.04 minutes.\n",
            "\n",
            "\n"
          ]
        },
        {
          "output_type": "display_data",
          "data": {
            "text/plain": [
              "<Figure size 432x288 with 0 Axes>"
            ]
          },
          "metadata": {}
        }
      ],
      "source": [
        "# Define which epochs we want to try\n",
        "#exp_range = [10, 50, 100, 150]\n",
        "# Additional experiments\n",
        "#exp_range = [100, 200, 400, 600]\n",
        "exp_range = [300]\n",
        "\n",
        "for i in exp_range:\n",
        "    print(f\"Training started for epoch_num {i}.\")\n",
        "\n",
        "    training_start_time = time.time()\n",
        "\n",
        "    model = ft.train_supervised(input=train,\n",
        "                                epoch = i,\n",
        "                                verbose = 2,\n",
        "                                pretrainedVectors = \"data/embed.sl-token.ft.sg.vec\"\n",
        "                                            )\n",
        "\n",
        "    print(f\"Training finished. Testing started.\")\n",
        "    print(f\"Training took {round((time.time() - training_start_time)/60,2)} minutes.\")\n",
        "\n",
        "    testing_start_time = time.time()\n",
        "    # Parse the dev files so that labels and texts are separated\n",
        "    y_true, y_texts = parse_file(dev)\n",
        "\n",
        "    # Evaluate the model on dev data\n",
        "    y_pred = model.predict(y_texts)\n",
        "    y_pred = prediction_to_label(y_pred)\n",
        "\n",
        "    # Plot the confusion matrix:\n",
        "    m, M = plot_cm()\n",
        "    \n",
        "    rezdict = dict(\n",
        "        microF1=m,\n",
        "        macroF1=M,\n",
        "        epoch_num = i,\n",
        "    )\n",
        "    results.append(rezdict)\n",
        "\n",
        "    print(f\"Testing took {round((time.time() - testing_start_time)/60,2)} minutes.\\n\\n\")"
      ]
    },
    {
      "cell_type": "code",
      "execution_count": null,
      "metadata": {
        "id": "AUN3qajPEmZA",
        "colab": {
          "base_uri": "https://localhost:8080/"
        },
        "outputId": "61e2ce81-0c11-44da-8988-f8a20079b34f"
      },
      "outputs": [
        {
          "output_type": "execute_result",
          "data": {
            "text/plain": [
              "[{'microF1': 0.8269230769230769,\n",
              "  'macroF1': 0.827504253159148,\n",
              "  'epoch_num': 100},\n",
              " {'microF1': 0.8361538461538461,\n",
              "  'macroF1': 0.8359924186539833,\n",
              "  'epoch_num': 200},\n",
              " {'microF1': 0.8461538461538461,\n",
              "  'macroF1': 0.8457218138384108,\n",
              "  'epoch_num': 400},\n",
              " {'microF1': 0.8469230769230769,\n",
              "  'macroF1': 0.8463928042575369,\n",
              "  'epoch_num': 600},\n",
              " {'microF1': 0.8438461538461539,\n",
              "  'macroF1': 0.843512844635172,\n",
              "  'epoch_num': 300}]"
            ]
          },
          "metadata": {},
          "execution_count": 21
        }
      ],
      "source": [
        "results"
      ]
    },
    {
      "cell_type": "markdown",
      "source": [
        "As we can see, the scores rise until the epoch 400, afterwards they remain around 0.85. For testing, I will use 400 epochs."
      ],
      "metadata": {
        "id": "VE92rrPvhjG7"
      }
    },
    {
      "cell_type": "code",
      "source": [
        "# Reorder the list\n",
        "ordered_results = results\n",
        "myorder = [0, 1, 4, 2, 3]\n",
        "ordered_results = [results[i] for i in myorder]\n",
        "ordered_results"
      ],
      "metadata": {
        "colab": {
          "base_uri": "https://localhost:8080/"
        },
        "id": "Ai16OuoKhzjj",
        "outputId": "1e0afd2c-3eac-4868-d0e2-2dd95c26d5f4"
      },
      "execution_count": null,
      "outputs": [
        {
          "output_type": "execute_result",
          "data": {
            "text/plain": [
              "[{'microF1': 0.8269230769230769,\n",
              "  'macroF1': 0.827504253159148,\n",
              "  'epoch_num': 100},\n",
              " {'microF1': 0.8361538461538461,\n",
              "  'macroF1': 0.8359924186539833,\n",
              "  'epoch_num': 200},\n",
              " {'microF1': 0.8438461538461539,\n",
              "  'macroF1': 0.843512844635172,\n",
              "  'epoch_num': 300},\n",
              " {'microF1': 0.8461538461538461,\n",
              "  'macroF1': 0.8457218138384108,\n",
              "  'epoch_num': 400},\n",
              " {'microF1': 0.8469230769230769,\n",
              "  'macroF1': 0.8463928042575369,\n",
              "  'epoch_num': 600}]"
            ]
          },
          "metadata": {},
          "execution_count": 23
        }
      ]
    },
    {
      "cell_type": "code",
      "execution_count": null,
      "metadata": {
        "id": "H1kFY8z9El0I",
        "colab": {
          "base_uri": "https://localhost:8080/",
          "height": 307
        },
        "outputId": "7ea03db0-5c6e-4544-974f-96230451c722"
      },
      "outputs": [
        {
          "output_type": "display_data",
          "data": {
            "text/plain": [
              "<Figure size 600x300 with 1 Axes>"
            ],
            "image/png": "[encoded data removed]"
          },
          "metadata": {}
        }
      ],
      "source": [
        "# Analyse the results of experiments\n",
        "import matplotlib.pyplot as plt\n",
        "from matplotlib.pyplot import figure\n",
        "\n",
        "plt.style.use(\"ggplot\")\n",
        "\n",
        "# make data\n",
        "\n",
        "x = []\n",
        "mi = []\n",
        "ma = []\n",
        "\n",
        "for i in ordered_results:\n",
        "    x.append(i['epoch_num'])\n",
        "    mi.append(i['microF1'])\n",
        "    ma.append(i[\"macroF1\"])\n",
        "\n",
        "# plot\n",
        "plt.figure(figsize=(6,3), dpi=100)\n",
        "\n",
        "plt.plot(x, mi, label=\"Micro F1\")\n",
        "plt.plot(x, ma, label=\"Macro F1\")\n",
        "\n",
        "plt.xticks(x)\n",
        "\n",
        "plt.xlabel('Epoch')\n",
        "plt.ylabel('F1 Score')\n",
        "plt.legend(loc=\"lower right\")\n",
        "\n",
        "plt.tight_layout()\n",
        "\n",
        "#plt.savefig(Epoch-number-hyperparameter-search.png\")\n",
        "plt.show()\n"
      ]
    },
    {
      "cell_type": "code",
      "execution_count": null,
      "metadata": {
        "id": "vir7hbtDEo4w"
      },
      "outputs": [],
      "source": [
        "# Save results of the hyperparameter search as a JSON file\n",
        "import json\n",
        "\n",
        "with open(\"SLED-with-embeddings-hyperparameter-search-results.json\",\"w\") as file:\n",
        "  json.dump(ordered_results, file)"
      ]
    },
    {
      "cell_type": "markdown",
      "source": [
        "## Training the model and testing it on the test set"
      ],
      "metadata": {
        "id": "RMYexbhwfkqS"
      }
    },
    {
      "cell_type": "code",
      "execution_count": 18,
      "metadata": {
        "id": "y0hfkaQDEsKA",
        "colab": {
          "base_uri": "https://localhost:8080/",
          "height": 1000
        },
        "outputId": "331bd57b-512f-4f1f-aa69-08a896d44006"
      },
      "outputs": [
        {
          "output_type": "stream",
          "name": "stdout",
          "text": [
            "Training started.\n",
            "Training finished. Testing started.\n",
            "Training took 15.73 minutes.\n"
          ]
        },
        {
          "output_type": "display_data",
          "data": {
            "text/plain": [
              "<Figure size 648x648 with 1 Axes>"
            ],
            "image/png": "[encoded data removed]"
          },
          "metadata": {
            "needs_background": "light"
          }
        },
        {
          "output_type": "stream",
          "name": "stdout",
          "text": [
            "Micro F1: 0.8492, Macro F1: 0.8487\n",
            "                        precision    recall  f1-score   support\n",
            "\n",
            " __label__gospodarstvo       0.84      0.80      0.82       100\n",
            "__label__izobrazevanje       0.92      0.82      0.87       100\n",
            "     __label__politika       0.78      0.91      0.84       100\n",
            "       __label__zabava       0.89      0.85      0.87       100\n",
            "       __label__okolje       0.78      0.87      0.82       100\n",
            "        __label__vreme       0.98      0.97      0.97       100\n",
            "    __label__prosticas       0.67      0.66      0.67       100\n",
            "      __label__zdravje       0.88      0.85      0.86       100\n",
            "      __label__kultura       0.82      0.92      0.87       100\n",
            "  __label__crnakronika       0.92      0.91      0.91       100\n",
            "        __label__sport       0.92      0.97      0.94       100\n",
            "      __label__znanost       0.85      0.75      0.80       100\n",
            "       __label__druzba       0.80      0.76      0.78       100\n",
            "\n",
            "              accuracy                           0.85      1300\n",
            "             macro avg       0.85      0.85      0.85      1300\n",
            "          weighted avg       0.85      0.85      0.85      1300\n",
            "\n",
            "Testing took 0.02 minutes.\n",
            "\n",
            "\n"
          ]
        },
        {
          "output_type": "display_data",
          "data": {
            "text/plain": [
              "<Figure size 432x288 with 0 Axes>"
            ]
          },
          "metadata": {}
        }
      ],
      "source": [
        "test_results = []\n",
        "\n",
        "for i in [400]:\n",
        "    print(f\"Training started.\")\n",
        "\n",
        "    training_start_time = time.time()\n",
        "\n",
        "    model = ft.train_supervised(input=train,\n",
        "                                epoch = 400,\n",
        "                                verbose = 2,\n",
        "                                pretrainedVectors = \"data/embed.sl-token.ft.sg.vec\")\n",
        "\n",
        "    print(f\"Training finished. Testing started.\")\n",
        "    print(f\"Training took {round((time.time() - training_start_time)/60,2)} minutes.\")\n",
        "\n",
        "    testing_start_time = time.time()\n",
        "    # Parse the test files so that labels and texts are separated\n",
        "    y_true, y_texts = parse_file(test)\n",
        "\n",
        "    # Test the model on test data\n",
        "    y_pred = model.predict(y_texts)\n",
        "    y_pred = prediction_to_label(y_pred)\n",
        "\n",
        "    # Plot the confusion matrix:\n",
        "    m, M = plot_cm()\n",
        "    \n",
        "    rezdict = dict(\n",
        "        microF1=m,\n",
        "        macroF1=M,\n",
        "        epoch_num = i,\n",
        "        y_true = {\"y_true\": y_true, \"y_texts\": y_texts},\n",
        "        y_pred = y_pred,\n",
        "    )\n",
        "    test_results.append(rezdict)\n",
        "\n",
        "        # Add classification report\n",
        "    print(classification_report(y_true, y_pred, labels=LABELS))\n",
        "\n",
        "    print(f\"Testing took {round((time.time() - testing_start_time)/60,2)} minutes.\\n\\n\")"
      ]
    },
    {
      "cell_type": "code",
      "source": [
        "# Inspect results in a dataframe format\n",
        "\n",
        "df = pd.DataFrame(test_results)\n",
        "\n",
        "df"
      ],
      "metadata": {
        "id": "G9s9u_jk62fB",
        "colab": {
          "base_uri": "https://localhost:8080/",
          "height": 142
        },
        "outputId": "80bd5a49-2566-45b8-e2f9-1e45d7ee1f9f"
      },
      "execution_count": 19,
      "outputs": [
        {
          "output_type": "execute_result",
          "data": {
            "text/plain": [
              "    microF1  macroF1  epoch_num  \\\n",
              "0  0.849231  0.84872        400   \n",
              "\n",
              "                                              y_true  \\\n",
              "0  {'y_true': ['__label__crnakronika', '__label__...   \n",
              "\n",
              "                                              y_pred  \n",
              "0  [__label__crnakronika, __label__crnakronika, _...  "
            ],
            "text/html": [
              "\n",
              "  <div id=\"df-af56b845-1fcc-4d43-8a55-1f4da5798900\">\n",
              "    <div class=\"colab-df-container\">\n",
              "      <div>\n",
              "<style scoped>\n",
              "    .dataframe tbody tr th:only-of-type {\n",
              "        vertical-align: middle;\n",
              "    }\n",
              "\n",
              "    .dataframe tbody tr th {\n",
              "        vertical-align: top;\n",
              "    }\n",
              "\n",
              "    .dataframe thead th {\n",
              "        text-align: right;\n",
              "    }\n",
              "</style>\n",
              "<table border=\"1\" class=\"dataframe\">\n",
              "  <thead>\n",
              "    <tr style=\"text-align: right;\">\n",
              "      <th></th>\n",
              "      <th>microF1</th>\n",
              "      <th>macroF1</th>\n",
              "      <th>epoch_num</th>\n",
              "      <th>y_true</th>\n",
              "      <th>y_pred</th>\n",
              "    </tr>\n",
              "  </thead>\n",
              "  <tbody>\n",
              "    <tr>\n",
              "      <th>0</th>\n",
              "      <td>0.849231</td>\n",
              "      <td>0.84872</td>\n",
              "      <td>400</td>\n",
              "      <td>{'y_true': ['__label__crnakronika', '__label__...</td>\n",
              "      <td>[__label__crnakronika, __label__crnakronika, _...</td>\n",
              "    </tr>\n",
              "  </tbody>\n",
              "</table>\n",
              "</div>\n",
              "      <button class=\"colab-df-convert\" onclick=\"convertToInteractive('df-af56b845-1fcc-4d43-8a55-1f4da5798900')\"\n",
              "              title=\"Convert this dataframe to an interactive table.\"\n",
              "              style=\"display:none;\">\n",
              "        \n",
              "  <svg xmlns=\"http://www.w3.org/2000/svg\" height=\"24px\"viewBox=\"0 0 24 24\"\n",
              "       width=\"24px\">\n",
              "    <path d=\"M0 0h24v24H0V0z\" fill=\"none\"/>\n",
              "    <path d=\"M18.56 5.44l.94 2.06.94-2.06 2.06-.94-2.06-.94-.94-2.06-.94 2.06-2.06.94zm-11 1L8.5 8.5l.94-2.06 2.06-.94-2.06-.94L8.5 2.5l-.94 2.06-2.06.94zm10 10l.94 2.06.94-2.06 2.06-.94-2.06-.94-.94-2.06-.94 2.06-2.06.94z\"/><path d=\"M17.41 7.96l-1.37-1.37c-.4-.4-.92-.59-1.43-.59-.52 0-1.04.2-1.43.59L10.3 9.45l-7.72 7.72c-.78.78-.78 2.05 0 2.83L4 21.41c.39.39.9.59 1.41.59.51 0 1.02-.2 1.41-.59l7.78-7.78 2.81-2.81c.8-.78.8-2.07 0-2.86zM5.41 20L4 18.59l7.72-7.72 1.47 1.35L5.41 20z\"/>\n",
              "  </svg>\n",
              "      </button>\n",
              "      \n",
              "  <style>\n",
              "    .colab-df-container {\n",
              "      display:flex;\n",
              "      flex-wrap:wrap;\n",
              "      gap: 12px;\n",
              "    }\n",
              "\n",
              "    .colab-df-convert {\n",
              "      background-color: #E8F0FE;\n",
              "      border: none;\n",
              "      border-radius: 50%;\n",
              "      cursor: pointer;\n",
              "      display: none;\n",
              "      fill: #1967D2;\n",
              "      height: 32px;\n",
              "      padding: 0 0 0 0;\n",
              "      width: 32px;\n",
              "    }\n",
              "\n",
              "    .colab-df-convert:hover {\n",
              "      background-color: #E2EBFA;\n",
              "      box-shadow: 0px 1px 2px rgba(60, 64, 67, 0.3), 0px 1px 3px 1px rgba(60, 64, 67, 0.15);\n",
              "      fill: #174EA6;\n",
              "    }\n",
              "\n",
              "    [theme=dark] .colab-df-convert {\n",
              "      background-color: #3B4455;\n",
              "      fill: #D2E3FC;\n",
              "    }\n",
              "\n",
              "    [theme=dark] .colab-df-convert:hover {\n",
              "      background-color: #434B5C;\n",
              "      box-shadow: 0px 1px 3px 1px rgba(0, 0, 0, 0.15);\n",
              "      filter: drop-shadow(0px 1px 2px rgba(0, 0, 0, 0.3));\n",
              "      fill: #FFFFFF;\n",
              "    }\n",
              "  </style>\n",
              "\n",
              "      <script>\n",
              "        const buttonEl =\n",
              "          document.querySelector('#df-af56b845-1fcc-4d43-8a55-1f4da5798900 button.colab-df-convert');\n",
              "        buttonEl.style.display =\n",
              "          google.colab.kernel.accessAllowed ? 'block' : 'none';\n",
              "\n",
              "        async function convertToInteractive(key) {\n",
              "          const element = document.querySelector('#df-af56b845-1fcc-4d43-8a55-1f4da5798900');\n",
              "          const dataTable =\n",
              "            await google.colab.kernel.invokeFunction('convertToInteractive',\n",
              "                                                     [key], {});\n",
              "          if (!dataTable) return;\n",
              "\n",
              "          const docLinkHtml = 'Like what you see? Visit the ' +\n",
              "            '<a target=\"_blank\" href=https://colab.research.google.com/notebooks/data_table.ipynb>data table notebook</a>'\n",
              "            + ' to learn more about interactive tables.';\n",
              "          element.innerHTML = '';\n",
              "          dataTable['output_type'] = 'display_data';\n",
              "          await google.colab.output.renderOutput(dataTable, element);\n",
              "          const docLink = document.createElement('div');\n",
              "          docLink.innerHTML = docLinkHtml;\n",
              "          element.appendChild(docLink);\n",
              "        }\n",
              "      </script>\n",
              "    </div>\n",
              "  </div>\n",
              "  "
            ]
          },
          "metadata": {},
          "execution_count": 19
        }
      ]
    },
    {
      "cell_type": "code",
      "execution_count": 20,
      "metadata": {
        "id": "MXu8EX1TExgQ"
      },
      "outputs": [],
      "source": [
        "# Save results as csv file\n",
        "df.to_csv(\"SLED-results-on-test-with-embeddings.csv\", sep = \"\\t\")"
      ]
    },
    {
      "cell_type": "code",
      "source": [
        "# Save the model\n",
        "model.save_model(\"FastText-model-trainsmall-embeddings.bin\")"
      ],
      "metadata": {
        "id": "ZTqPdAjqiiZX"
      },
      "execution_count": 22,
      "outputs": []
    },
    {
      "cell_type": "code",
      "source": [
        "# Save it to Wandb\n",
        "!pip install wandb\n",
        "import wandb\n",
        "\n",
        "# Login to wandb\n",
        "wandb.login()"
      ],
      "metadata": {
        "colab": {
          "base_uri": "https://localhost:8080/",
          "height": 1000
        },
        "id": "vWnV-7pXiogG",
        "outputId": "4538cae6-6796-4868-f281-11b179ee9d80"
      },
      "execution_count": 23,
      "outputs": [
        {
          "output_type": "stream",
          "name": "stdout",
          "text": [
            "Looking in indexes: https://pypi.org/simple, https://us-python.pkg.dev/colab-wheels/public/simple/\n",
            "Collecting wandb\n",
            "  Downloading wandb-0.13.2-py2.py3-none-any.whl (1.8 MB)\n",
            "\u001b[K     |████████████████████████████████| 1.8 MB 5.5 MB/s \n",
            "\u001b[?25hRequirement already satisfied: protobuf<4.0dev,>=3.12.0 in /usr/local/lib/python3.7/dist-packages (from wandb) (3.17.3)\n",
            "Requirement already satisfied: PyYAML in /usr/local/lib/python3.7/dist-packages (from wandb) (6.0)\n",
            "Collecting setproctitle\n",
            "  Downloading setproctitle-1.3.2-cp37-cp37m-manylinux_2_5_x86_64.manylinux1_x86_64.manylinux_2_17_x86_64.manylinux2014_x86_64.whl (30 kB)\n",
            "Requirement already satisfied: setuptools in /usr/local/lib/python3.7/dist-packages (from wandb) (57.4.0)\n",
            "Collecting shortuuid>=0.5.0\n",
            "  Downloading shortuuid-1.0.9-py3-none-any.whl (9.4 kB)\n",
            "Requirement already satisfied: psutil>=5.0.0 in /usr/local/lib/python3.7/dist-packages (from wandb) (5.4.8)\n",
            "Requirement already satisfied: promise<3,>=2.0 in /usr/local/lib/python3.7/dist-packages (from wandb) (2.3)\n",
            "Requirement already satisfied: requests<3,>=2.0.0 in /usr/local/lib/python3.7/dist-packages (from wandb) (2.23.0)\n",
            "Collecting pathtools\n",
            "  Downloading pathtools-0.1.2.tar.gz (11 kB)\n",
            "Collecting docker-pycreds>=0.4.0\n",
            "  Downloading docker_pycreds-0.4.0-py2.py3-none-any.whl (9.0 kB)\n",
            "Collecting sentry-sdk>=1.0.0\n",
            "  Downloading sentry_sdk-1.9.5-py2.py3-none-any.whl (157 kB)\n",
            "\u001b[K     |████████████████████████████████| 157 kB 45.1 MB/s \n",
            "\u001b[?25hCollecting GitPython>=1.0.0\n",
            "  Downloading GitPython-3.1.27-py3-none-any.whl (181 kB)\n",
            "\u001b[K     |████████████████████████████████| 181 kB 46.9 MB/s \n",
            "\u001b[?25hRequirement already satisfied: Click!=8.0.0,>=7.0 in /usr/local/lib/python3.7/dist-packages (from wandb) (7.1.2)\n",
            "Requirement already satisfied: six>=1.13.0 in /usr/local/lib/python3.7/dist-packages (from wandb) (1.15.0)\n",
            "Requirement already satisfied: typing-extensions>=3.7.4.3 in /usr/local/lib/python3.7/dist-packages (from GitPython>=1.0.0->wandb) (4.1.1)\n",
            "Collecting gitdb<5,>=4.0.1\n",
            "  Downloading gitdb-4.0.9-py3-none-any.whl (63 kB)\n",
            "\u001b[K     |████████████████████████████████| 63 kB 1.7 MB/s \n",
            "\u001b[?25hCollecting smmap<6,>=3.0.1\n",
            "  Downloading smmap-5.0.0-py3-none-any.whl (24 kB)\n",
            "Requirement already satisfied: urllib3!=1.25.0,!=1.25.1,<1.26,>=1.21.1 in /usr/local/lib/python3.7/dist-packages (from requests<3,>=2.0.0->wandb) (1.24.3)\n",
            "Requirement already satisfied: chardet<4,>=3.0.2 in /usr/local/lib/python3.7/dist-packages (from requests<3,>=2.0.0->wandb) (3.0.4)\n",
            "Requirement already satisfied: idna<3,>=2.5 in /usr/local/lib/python3.7/dist-packages (from requests<3,>=2.0.0->wandb) (2.10)\n",
            "Requirement already satisfied: certifi>=2017.4.17 in /usr/local/lib/python3.7/dist-packages (from requests<3,>=2.0.0->wandb) (2022.6.15)\n",
            "Collecting sentry-sdk>=1.0.0\n",
            "  Downloading sentry_sdk-1.9.4-py2.py3-none-any.whl (157 kB)\n",
            "\u001b[K     |████████████████████████████████| 157 kB 54.7 MB/s \n",
            "\u001b[?25h  Downloading sentry_sdk-1.9.3-py2.py3-none-any.whl (157 kB)\n",
            "\u001b[K     |████████████████████████████████| 157 kB 48.6 MB/s \n",
            "\u001b[?25h  Downloading sentry_sdk-1.9.2-py2.py3-none-any.whl (157 kB)\n",
            "\u001b[K     |████████████████████████████████| 157 kB 45.8 MB/s \n",
            "\u001b[?25h  Downloading sentry_sdk-1.9.1-py2.py3-none-any.whl (157 kB)\n",
            "\u001b[K     |████████████████████████████████| 157 kB 44.1 MB/s \n",
            "\u001b[?25h  Downloading sentry_sdk-1.9.0-py2.py3-none-any.whl (156 kB)\n",
            "\u001b[K     |████████████████████████████████| 156 kB 35.3 MB/s \n",
            "\u001b[?25hBuilding wheels for collected packages: pathtools\n",
            "  Building wheel for pathtools (setup.py) ... \u001b[?25l\u001b[?25hdone\n",
            "  Created wheel for pathtools: filename=pathtools-0.1.2-py3-none-any.whl size=8806 sha256=a8e0e518998f0e3a6e5ae23042782ed38d2a66309e6482b6da512afd047210e6\n",
            "  Stored in directory: /root/.cache/pip/wheels/3e/31/09/fa59cef12cdcfecc627b3d24273699f390e71828921b2cbba2\n",
            "Successfully built pathtools\n",
            "Installing collected packages: smmap, gitdb, shortuuid, setproctitle, sentry-sdk, pathtools, GitPython, docker-pycreds, wandb\n",
            "Successfully installed GitPython-3.1.27 docker-pycreds-0.4.0 gitdb-4.0.9 pathtools-0.1.2 sentry-sdk-1.9.0 setproctitle-1.3.2 shortuuid-1.0.9 smmap-5.0.0 wandb-0.13.2\n"
          ]
        },
        {
          "output_type": "display_data",
          "data": {
            "text/plain": [
              "<IPython.core.display.Javascript object>"
            ],
            "application/javascript": [
              "\n",
              "        window._wandbApiKey = new Promise((resolve, reject) => {\n",
              "            function loadScript(url) {\n",
              "            return new Promise(function(resolve, reject) {\n",
              "                let newScript = document.createElement(\"script\");\n",
              "                newScript.onerror = reject;\n",
              "                newScript.onload = resolve;\n",
              "                document.body.appendChild(newScript);\n",
              "                newScript.src = url;\n",
              "            });\n",
              "            }\n",
              "            loadScript(\"https://cdn.jsdelivr.net/npm/postmate/build/postmate.min.js\").then(() => {\n",
              "            const iframe = document.createElement('iframe')\n",
              "            iframe.style.cssText = \"width:0;height:0;border:none\"\n",
              "            document.body.appendChild(iframe)\n",
              "            const handshake = new Postmate({\n",
              "                container: iframe,\n",
              "                url: 'https://wandb.ai/authorize'\n",
              "            });\n",
              "            const timeout = setTimeout(() => reject(\"Couldn't auto authenticate\"), 5000)\n",
              "            handshake.then(function(child) {\n",
              "                child.on('authorize', data => {\n",
              "                    clearTimeout(timeout)\n",
              "                    resolve(data)\n",
              "                });\n",
              "            });\n",
              "            })\n",
              "        });\n",
              "    "
            ]
          },
          "metadata": {}
        },
        {
          "output_type": "stream",
          "name": "stderr",
          "text": [
            "\u001b[34m\u001b[1mwandb\u001b[0m: Logging into wandb.ai. (Learn how to deploy a W&B server locally: https://wandb.me/wandb-server)\n",
            "\u001b[34m\u001b[1mwandb\u001b[0m: You can find your API key in your browser here: https://wandb.ai/authorize\n",
            "wandb: Paste an API key from your profile and hit enter, or press ctrl+c to quit: "
          ]
        },
        {
          "name": "stdout",
          "output_type": "stream",
          "text": [
            "··········\n"
          ]
        },
        {
          "output_type": "stream",
          "name": "stderr",
          "text": [
            "\u001b[34m\u001b[1mwandb\u001b[0m: Appending key for api.wandb.ai to your netrc file: /root/.netrc\n"
          ]
        },
        {
          "output_type": "execute_result",
          "data": {
            "text/plain": [
              "True"
            ]
          },
          "metadata": {},
          "execution_count": 23
        }
      ]
    },
    {
      "cell_type": "code",
      "source": [
        "# Save the trained model to Wandb\n",
        "run = wandb.init(project=\"SLED-categorization\", name=\"saving-trainsmall-embeddings-model\")\n",
        "trained_model_artifact = wandb.Artifact(\"SLED-categorization-trainsmall-embeddings-model\", type=\"model\", description=\"a fastText model trained on the 'trainsmall' SLED dataset, trained with the pre-trained embeddings.\")\n",
        "trained_model_artifact.add_dir(\"/content/model\")\n",
        "run.log_artifact(trained_model_artifact)"
      ],
      "metadata": {
        "colab": {
          "base_uri": "https://localhost:8080/",
          "height": 121
        },
        "id": "N6U3KBqoirzd",
        "outputId": "f1dbde66-3550-440f-bdca-20ade93e114f"
      },
      "execution_count": 24,
      "outputs": [
        {
          "output_type": "stream",
          "name": "stderr",
          "text": [
            "\u001b[34m\u001b[1mwandb\u001b[0m: Currently logged in as: \u001b[33mtajak\u001b[0m. Use \u001b[1m`wandb login --relogin`\u001b[0m to force relogin\n"
          ]
        },
        {
          "output_type": "display_data",
          "data": {
            "text/plain": [
              "<IPython.core.display.HTML object>"
            ],
            "text/html": [
              "Tracking run with wandb version 0.13.2"
            ]
          },
          "metadata": {}
        },
        {
          "output_type": "display_data",
          "data": {
            "text/plain": [
              "<IPython.core.display.HTML object>"
            ],
            "text/html": [
              "Run data is saved locally in <code>/content/wandb/run-20220831_064127-1rqeiz30</code>"
            ]
          },
          "metadata": {}
        },
        {
          "output_type": "display_data",
          "data": {
            "text/plain": [
              "<IPython.core.display.HTML object>"
            ],
            "text/html": [
              "Syncing run <strong><a href=\"https://wandb.ai/tajak/SLED-categorization/runs/1rqeiz30\" target=\"_blank\">saving-trainsmall-embeddings-model</a></strong> to <a href=\"https://wandb.ai/tajak/SLED-categorization\" target=\"_blank\">Weights & Biases</a> (<a href=\"https://wandb.me/run\" target=\"_blank\">docs</a>)<br/>"
            ]
          },
          "metadata": {}
        },
        {
          "output_type": "stream",
          "name": "stderr",
          "text": [
            "\u001b[34m\u001b[1mwandb\u001b[0m: Adding directory to artifact (/content/model)... Done. 10.4s\n"
          ]
        },
        {
          "output_type": "execute_result",
          "data": {
            "text/plain": [
              "<wandb.sdk.wandb_artifacts.Artifact at 0x7f0c57b0d950>"
            ]
          },
          "metadata": {},
          "execution_count": 24
        }
      ]
    }
  ],
  "metadata": {
    "colab": {
      "name": "2_train_a_FastText_model-with-embeddings.ipynb",
      "provenance": []
    },
    "kernelspec": {
      "display_name": "Python 3.9.6 64-bit",
      "language": "python",
      "name": "python3"
    },
    "language_info": {
      "codemirror_mode": {
        "name": "ipython",
        "version": 3
      },
      "file_extension": ".py",
      "mimetype": "text/x-python",
      "name": "python",
      "nbconvert_exporter": "python",
      "pygments_lexer": "ipython3",
      "version": "3.9.6"
    },
    "vscode": {
      "interpreter": {
        "hash": "0555c586899327de5ef52b99d3d9e7099ad5c798fa5f7641c78f37c465123c9b"
      }
    }
  },
  "nbformat": 4,
  "nbformat_minor": 0
}