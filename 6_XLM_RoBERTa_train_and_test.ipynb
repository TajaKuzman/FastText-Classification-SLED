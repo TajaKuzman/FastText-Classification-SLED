{
  "metadata": {
    "kernelspec": {
      "language": "python",
      "display_name": "Python 3",
      "name": "python3"
    },
    "language_info": {
      "name": "python",
      "version": "3.7.12",
      "mimetype": "text/x-python",
      "codemirror_mode": {
        "name": "ipython",
        "version": 3
      },
      "pygments_lexer": "ipython3",
      "nbconvert_exporter": "python",
      "file_extension": ".py"
    },
    "colab": {
      "provenance": []
    },
    "accelerator": "GPU",
    "gpuClass": "standard"
  },
  "nbformat_minor": 0,
  "nbformat": 4,
  "cells": [
    {
      "cell_type": "markdown",
      "source": [
        "Import all necessary libraries and install everything you need for training:"
      ],
      "metadata": {
        "id": "GYw1-rIQG48f"
      }
    },
    {
      "cell_type": "markdown",
      "source": [
        "Before starting, click on the \"RAM\" and \"Disk\" information on the top right part of the page and click \"Change runtime type\" > Choose \"GPU\" as \"Hardware accelerator\"."
      ],
      "metadata": {
        "id": "Bf0Oql_1HOtk"
      }
    },
    {
      "cell_type": "code",
      "source": [
        "# install the libraries necessary for data wrangling, prediction and result analysis\n",
        "import json\n",
        "import numpy as np\n",
        "import pandas as pd\n",
        "import logging\n",
        "import matplotlib.pyplot as plt\n",
        "from sklearn import metrics\n",
        "from sklearn.metrics import classification_report, confusion_matrix, f1_score,precision_score, recall_score\n",
        "import torch\n",
        "from numba import cuda\n",
        "from sklearn.model_selection import train_test_split\n",
        "from sklearn.dummy import DummyClassifier\n",
        "import time\n",
        "from sklearn.metrics import classification_report"
      ],
      "metadata": {
        "id": "lTXoWplYG48h",
        "execution": {
          "iopub.status.busy": "2022-09-05T07:57:33.415946Z",
          "iopub.execute_input": "2022-09-05T07:57:33.416935Z",
          "iopub.status.idle": "2022-09-05T07:57:37.132774Z",
          "shell.execute_reply.started": "2022-09-05T07:57:33.416315Z",
          "shell.execute_reply": "2022-09-05T07:57:37.131235Z"
        },
        "trusted": true
      },
      "execution_count": 1,
      "outputs": []
    },
    {
      "cell_type": "code",
      "source": [
        "# Install transformers\n",
        "# (this needs to be done on Colab each time you start the session)\n",
        "!pip install -q transformers\n",
        "\n",
        "# Install the simpletransformers\n",
        "!pip install -q simpletransformers\n",
        "from simpletransformers.classification import ClassificationModel"
      ],
      "metadata": {
        "id": "zZqgErWfG48i",
        "execution": {
          "iopub.status.busy": "2022-09-05T07:57:43.475116Z",
          "iopub.execute_input": "2022-09-05T07:57:43.475761Z",
          "iopub.status.idle": "2022-09-05T07:58:32.889534Z",
          "shell.execute_reply.started": "2022-09-05T07:57:43.475731Z",
          "shell.execute_reply": "2022-09-05T07:58:32.888146Z"
        },
        "trusted": true
      },
      "execution_count": null,
      "outputs": []
    },
    {
      "cell_type": "code",
      "source": [
        "# Install wandb\n",
        "!pip install -q wandb\n",
        "\n",
        "import wandb\n",
        "\n",
        "# Login to wandb\n",
        "wandb.login()"
      ],
      "metadata": {
        "id": "FvvJgvBKG48i",
        "execution": {
          "iopub.status.busy": "2022-09-05T08:03:41.926287Z",
          "iopub.execute_input": "2022-09-05T08:03:41.926659Z",
          "iopub.status.idle": "2022-09-05T08:04:11.164283Z",
          "shell.execute_reply.started": "2022-09-05T08:03:41.926614Z",
          "shell.execute_reply": "2022-09-05T08:04:11.162920Z"
        },
        "trusted": true
      },
      "execution_count": null,
      "outputs": []
    },
    {
      "cell_type": "markdown",
      "source": [
        "### Import the data"
      ],
      "metadata": {
        "id": "2WjS5ZNZG48k"
      }
    },
    {
      "cell_type": "code",
      "source": [
        "Colab_path = \"/content\"\n",
        "\n",
        "train_df = pd.read_csv(f\"{Colab_path}/SLED-for-Transformers-train.csv\", sep=\"\\t\", index_col=0)\n",
        "dev_df = pd.read_csv(f\"{Colab_path}/SLED-for-Transformers-dev.csv\", sep=\"\\t\", index_col = 0)\n",
        "test_df = pd.read_csv(f\"{Colab_path}/SLED-for-Transformers-test.csv\", sep=\"\\t\", index_col = 0)\n",
        "\n",
        "print(\"Train shape: {}, Dev shape: {}, Test shape: {}.\".format(train_df.shape, dev_df.shape, test_df.shape))"
      ],
      "metadata": {
        "id": "bnkXFivrG48k",
        "outputId": "2d66a33c-7bb7-4086-fbba-7bf9a7466699",
        "execution": {
          "iopub.status.busy": "2022-09-05T09:53:00.038558Z",
          "iopub.execute_input": "2022-09-05T09:53:00.039041Z",
          "iopub.status.idle": "2022-09-05T09:53:00.620137Z",
          "shell.execute_reply.started": "2022-09-05T09:53:00.039004Z",
          "shell.execute_reply": "2022-09-05T09:53:00.618570Z"
        },
        "trusted": true,
        "colab": {
          "base_uri": "https://localhost:8080/"
        }
      },
      "execution_count": 7,
      "outputs": [
        {
          "output_type": "stream",
          "name": "stdout",
          "text": [
            "Train shape: (9990, 2), Dev shape: (1296, 2), Test shape: (1299, 2).\n"
          ]
        }
      ]
    },
    {
      "cell_type": "code",
      "source": [
        "train_df.head()"
      ],
      "metadata": {
        "id": "vmt2VPzoG48k",
        "outputId": "35f2a1ae-840a-410b-c2af-26db83644bad",
        "execution": {
          "iopub.status.busy": "2022-09-05T08:04:19.564500Z",
          "iopub.execute_input": "2022-09-05T08:04:19.565070Z",
          "iopub.status.idle": "2022-09-05T08:04:19.588998Z",
          "shell.execute_reply.started": "2022-09-05T08:04:19.565011Z",
          "shell.execute_reply": "2022-09-05T08:04:19.587760Z"
        },
        "trusted": true,
        "colab": {
          "base_uri": "https://localhost:8080/",
          "height": 206
        }
      },
      "execution_count": 8,
      "outputs": [
        {
          "output_type": "execute_result",
          "data": {
            "text/plain": [
              "                                                text       labels\n",
              "0  na tolminskem se je dopoldne zgodila prometna ...  crnakronika\n",
              "1  na cesti zadlaz-žabče se je zgodila prometna n...  crnakronika\n",
              "2  v sredo ob 1321 je bila novogoriška policija o...  crnakronika\n",
              "3  malo po 16 uri je v svetem duhu na ostrem vrhu...  crnakronika\n",
              "4  v eksploziji pirotehnike je bil v soboto popol...  crnakronika"
            ],
            "text/html": [
              "\n",
              "  <div id=\"df-7b9c4ddd-06dc-40fd-a99d-1cb55bb1cb25\">\n",
              "    <div class=\"colab-df-container\">\n",
              "      <div>\n",
              "<style scoped>\n",
              "    .dataframe tbody tr th:only-of-type {\n",
              "        vertical-align: middle;\n",
              "    }\n",
              "\n",
              "    .dataframe tbody tr th {\n",
              "        vertical-align: top;\n",
              "    }\n",
              "\n",
              "    .dataframe thead th {\n",
              "        text-align: right;\n",
              "    }\n",
              "</style>\n",
              "<table border=\"1\" class=\"dataframe\">\n",
              "  <thead>\n",
              "    <tr style=\"text-align: right;\">\n",
              "      <th></th>\n",
              "      <th>text</th>\n",
              "      <th>labels</th>\n",
              "    </tr>\n",
              "  </thead>\n",
              "  <tbody>\n",
              "    <tr>\n",
              "      <th>0</th>\n",
              "      <td>na tolminskem se je dopoldne zgodila prometna ...</td>\n",
              "      <td>crnakronika</td>\n",
              "    </tr>\n",
              "    <tr>\n",
              "      <th>1</th>\n",
              "      <td>na cesti zadlaz-žabče se je zgodila prometna n...</td>\n",
              "      <td>crnakronika</td>\n",
              "    </tr>\n",
              "    <tr>\n",
              "      <th>2</th>\n",
              "      <td>v sredo ob 1321 je bila novogoriška policija o...</td>\n",
              "      <td>crnakronika</td>\n",
              "    </tr>\n",
              "    <tr>\n",
              "      <th>3</th>\n",
              "      <td>malo po 16 uri je v svetem duhu na ostrem vrhu...</td>\n",
              "      <td>crnakronika</td>\n",
              "    </tr>\n",
              "    <tr>\n",
              "      <th>4</th>\n",
              "      <td>v eksploziji pirotehnike je bil v soboto popol...</td>\n",
              "      <td>crnakronika</td>\n",
              "    </tr>\n",
              "  </tbody>\n",
              "</table>\n",
              "</div>\n",
              "      <button class=\"colab-df-convert\" onclick=\"convertToInteractive('df-7b9c4ddd-06dc-40fd-a99d-1cb55bb1cb25')\"\n",
              "              title=\"Convert this dataframe to an interactive table.\"\n",
              "              style=\"display:none;\">\n",
              "        \n",
              "  <svg xmlns=\"http://www.w3.org/2000/svg\" height=\"24px\"viewBox=\"0 0 24 24\"\n",
              "       width=\"24px\">\n",
              "    <path d=\"M0 0h24v24H0V0z\" fill=\"none\"/>\n",
              "    <path d=\"M18.56 5.44l.94 2.06.94-2.06 2.06-.94-2.06-.94-.94-2.06-.94 2.06-2.06.94zm-11 1L8.5 8.5l.94-2.06 2.06-.94-2.06-.94L8.5 2.5l-.94 2.06-2.06.94zm10 10l.94 2.06.94-2.06 2.06-.94-2.06-.94-.94-2.06-.94 2.06-2.06.94z\"/><path d=\"M17.41 7.96l-1.37-1.37c-.4-.4-.92-.59-1.43-.59-.52 0-1.04.2-1.43.59L10.3 9.45l-7.72 7.72c-.78.78-.78 2.05 0 2.83L4 21.41c.39.39.9.59 1.41.59.51 0 1.02-.2 1.41-.59l7.78-7.78 2.81-2.81c.8-.78.8-2.07 0-2.86zM5.41 20L4 18.59l7.72-7.72 1.47 1.35L5.41 20z\"/>\n",
              "  </svg>\n",
              "      </button>\n",
              "      \n",
              "  <style>\n",
              "    .colab-df-container {\n",
              "      display:flex;\n",
              "      flex-wrap:wrap;\n",
              "      gap: 12px;\n",
              "    }\n",
              "\n",
              "    .colab-df-convert {\n",
              "      background-color: #E8F0FE;\n",
              "      border: none;\n",
              "      border-radius: 50%;\n",
              "      cursor: pointer;\n",
              "      display: none;\n",
              "      fill: #1967D2;\n",
              "      height: 32px;\n",
              "      padding: 0 0 0 0;\n",
              "      width: 32px;\n",
              "    }\n",
              "\n",
              "    .colab-df-convert:hover {\n",
              "      background-color: #E2EBFA;\n",
              "      box-shadow: 0px 1px 2px rgba(60, 64, 67, 0.3), 0px 1px 3px 1px rgba(60, 64, 67, 0.15);\n",
              "      fill: #174EA6;\n",
              "    }\n",
              "\n",
              "    [theme=dark] .colab-df-convert {\n",
              "      background-color: #3B4455;\n",
              "      fill: #D2E3FC;\n",
              "    }\n",
              "\n",
              "    [theme=dark] .colab-df-convert:hover {\n",
              "      background-color: #434B5C;\n",
              "      box-shadow: 0px 1px 3px 1px rgba(0, 0, 0, 0.15);\n",
              "      filter: drop-shadow(0px 1px 2px rgba(0, 0, 0, 0.3));\n",
              "      fill: #FFFFFF;\n",
              "    }\n",
              "  </style>\n",
              "\n",
              "      <script>\n",
              "        const buttonEl =\n",
              "          document.querySelector('#df-7b9c4ddd-06dc-40fd-a99d-1cb55bb1cb25 button.colab-df-convert');\n",
              "        buttonEl.style.display =\n",
              "          google.colab.kernel.accessAllowed ? 'block' : 'none';\n",
              "\n",
              "        async function convertToInteractive(key) {\n",
              "          const element = document.querySelector('#df-7b9c4ddd-06dc-40fd-a99d-1cb55bb1cb25');\n",
              "          const dataTable =\n",
              "            await google.colab.kernel.invokeFunction('convertToInteractive',\n",
              "                                                     [key], {});\n",
              "          if (!dataTable) return;\n",
              "\n",
              "          const docLinkHtml = 'Like what you see? Visit the ' +\n",
              "            '<a target=\"_blank\" href=https://colab.research.google.com/notebooks/data_table.ipynb>data table notebook</a>'\n",
              "            + ' to learn more about interactive tables.';\n",
              "          element.innerHTML = '';\n",
              "          dataTable['output_type'] = 'display_data';\n",
              "          await google.colab.output.renderOutput(dataTable, element);\n",
              "          const docLink = document.createElement('div');\n",
              "          docLink.innerHTML = docLinkHtml;\n",
              "          element.appendChild(docLink);\n",
              "        }\n",
              "      </script>\n",
              "    </div>\n",
              "  </div>\n",
              "  "
            ]
          },
          "metadata": {},
          "execution_count": 8
        }
      ]
    },
    {
      "cell_type": "markdown",
      "source": [
        "## Training and saving"
      ],
      "metadata": {
        "id": "HJzQ5uQcG48k"
      }
    },
    {
      "cell_type": "markdown",
      "source": [
        "We will use the multilingual XLM-RoBERTa model\n",
        "https://huggingface.co/xlm-roberta-base"
      ],
      "metadata": {
        "id": "oh9j3bUIG48l"
      }
    },
    {
      "cell_type": "code",
      "source": [
        "import os\n",
        "os.environ[\"TOKENIZERS_PARALLELISM\"] = \"false\""
      ],
      "metadata": {
        "id": "IpPQuSt4G48l",
        "execution": {
          "iopub.status.busy": "2022-09-05T08:04:22.386499Z",
          "iopub.execute_input": "2022-09-05T08:04:22.387196Z",
          "iopub.status.idle": "2022-09-05T08:04:22.395319Z",
          "shell.execute_reply.started": "2022-09-05T08:04:22.387137Z",
          "shell.execute_reply": "2022-09-05T08:04:22.393655Z"
        },
        "trusted": true
      },
      "execution_count": 5,
      "outputs": []
    },
    {
      "cell_type": "code",
      "source": [
        "# Create a list of labels\n",
        "LABELS = train_df.labels.unique().tolist()\n",
        "LABELS"
      ],
      "metadata": {
        "id": "CsA2-xYyG48l",
        "outputId": "acb72e08-ffd7-470a-f49b-e07f612c7188",
        "execution": {
          "iopub.status.busy": "2022-09-05T08:04:24.601717Z",
          "iopub.execute_input": "2022-09-05T08:04:24.602183Z",
          "iopub.status.idle": "2022-09-05T08:04:24.616393Z",
          "shell.execute_reply.started": "2022-09-05T08:04:24.602148Z",
          "shell.execute_reply": "2022-09-05T08:04:24.614706Z"
        },
        "trusted": true,
        "colab": {
          "base_uri": "https://localhost:8080/"
        }
      },
      "execution_count": 9,
      "outputs": [
        {
          "output_type": "execute_result",
          "data": {
            "text/plain": [
              "['crnakronika',\n",
              " 'druzba',\n",
              " 'gospodarstvo',\n",
              " 'izobrazevanje',\n",
              " 'kultura',\n",
              " 'okolje',\n",
              " 'politika',\n",
              " 'prosticas',\n",
              " 'sport',\n",
              " 'vreme',\n",
              " 'zabava',\n",
              " 'zdravje',\n",
              " 'znanost']"
            ]
          },
          "metadata": {},
          "execution_count": 9
        }
      ]
    },
    {
      "cell_type": "code",
      "source": [
        "# Initialize Wandb\n",
        "wandb.init(project=\"SLED-categorization\", entity=\"tajak\", name=\"XLM-RoBERTa-hyperparameter-search\")"
      ],
      "metadata": {
        "id": "2Uk3QBetG48l",
        "execution": {
          "iopub.status.busy": "2022-09-05T08:04:27.929564Z",
          "iopub.execute_input": "2022-09-05T08:04:27.929992Z",
          "iopub.status.idle": "2022-09-05T08:04:35.653262Z",
          "shell.execute_reply.started": "2022-09-05T08:04:27.929963Z",
          "shell.execute_reply": "2022-09-05T08:04:35.651734Z"
        },
        "trusted": true
      },
      "execution_count": null,
      "outputs": []
    },
    {
      "cell_type": "code",
      "source": [
        "# Calculate how many steps will each epoch have\n",
        "# Num steps in epoch = training samples / batch size\n",
        "steps_per_epoch = int(9990/8)\n",
        "steps_per_epoch"
      ],
      "metadata": {
        "id": "w5dNhA4hG48m",
        "outputId": "a9261b1a-b6f1-4e86-fd6f-a1988f95a50a",
        "execution": {
          "iopub.status.busy": "2022-09-05T08:04:35.659781Z",
          "iopub.execute_input": "2022-09-05T08:04:35.662783Z",
          "iopub.status.idle": "2022-09-05T08:04:35.677658Z",
          "shell.execute_reply.started": "2022-09-05T08:04:35.662734Z",
          "shell.execute_reply": "2022-09-05T08:04:35.675971Z"
        },
        "trusted": true,
        "colab": {
          "base_uri": "https://localhost:8080/"
        }
      },
      "execution_count": 10,
      "outputs": [
        {
          "output_type": "execute_result",
          "data": {
            "text/plain": [
              "1248"
            ]
          },
          "metadata": {},
          "execution_count": 10
        }
      ]
    },
    {
      "cell_type": "markdown",
      "source": [
        "### Hyperparameter search"
      ],
      "metadata": {
        "id": "D2gsrgCQIImz"
      }
    },
    {
      "cell_type": "markdown",
      "source": [
        "I evaluated per every 10th epoch - per 12480  steps. I first trained the model while evaluating it to find the optimal number of epochs and then trained it again and saved it."
      ],
      "metadata": {
        "execution": {
          "iopub.execute_input": "2022-07-29T06:59:27.044920Z",
          "iopub.status.busy": "2022-07-29T06:59:27.044530Z",
          "iopub.status.idle": "2022-07-29T06:59:27.051272Z",
          "shell.execute_reply": "2022-07-29T06:59:27.050401Z",
          "shell.execute_reply.started": "2022-07-29T06:59:27.044871Z"
        },
        "id": "oBUMVyTBG48m",
        "trusted": true
      }
    },
    {
      "cell_type": "code",
      "source": [
        "# Create a TransformerModel\n",
        "roberta_base_model = ClassificationModel(\n",
        "        \"xlmroberta\", \"xlm-roberta-base\",\n",
        "        num_labels=len(LABELS),\n",
        "        use_cuda=True,\n",
        "        args= {\n",
        "            \"overwrite_output_dir\": True,\n",
        "            \"num_train_epochs\": 30,\n",
        "            \"train_batch_size\":8,\n",
        "            \"learning_rate\": 1e-5,\n",
        "            # Use these parameters if you want to evaluate during training\n",
        "            \"evaluate_during_training\": True,\n",
        "            \"evaluate_during_training_steps\": steps_per_epoch*10,\n",
        "            \"evaluate_during_training_verbose\": True,\n",
        "            \"use_cached_eval_features\": True,\n",
        "            'reprocess_input_data': True,\n",
        "            \"labels_list\": LABELS,\n",
        "            \"no_cache\": True,\n",
        "            # Disable no_save: True if you want to save the model\n",
        "            \"no_save\": True,\n",
        "            \"max_seq_length\": 512,\n",
        "            \"save_steps\": -1,\n",
        "            # Only the trained model will be saved - to prevent filling all of the space\n",
        "            \"save_model_every_epoch\":False,\n",
        "            \"wandb_project\": 'SLED-categorization',\n",
        "            \"silent\": True,\n",
        "            }\n",
        "        )"
      ],
      "metadata": {
        "execution": {
          "iopub.execute_input": "2022-08-23T11:14:46.044012Z",
          "iopub.status.busy": "2022-08-23T11:14:46.043127Z",
          "iopub.status.idle": "2022-08-23T11:15:42.456646Z",
          "shell.execute_reply": "2022-08-23T11:15:42.455651Z",
          "shell.execute_reply.started": "2022-08-23T11:14:46.043973Z"
        },
        "id": "bCz4gGWzG48m",
        "trusted": true
      },
      "execution_count": null,
      "outputs": []
    },
    {
      "cell_type": "code",
      "source": [
        "# Train the model\n",
        "training_start_time = time.time()\n",
        "roberta_base_model.train_model(train_df, eval_df = dev_df)\n",
        "\n",
        "print(f\"Training and evaluation took {round((time.time() - training_start_time)/60,2)} minutes.\")"
      ],
      "metadata": {
        "execution": {
          "iopub.execute_input": "2022-08-23T11:16:20.475361Z",
          "iopub.status.busy": "2022-08-23T11:16:20.474372Z",
          "iopub.status.idle": "2022-08-23T11:35:47.348058Z",
          "shell.execute_reply": "2022-08-23T11:35:47.346990Z",
          "shell.execute_reply.started": "2022-08-23T11:16:20.475323Z"
        },
        "id": "isOQFWADG48m",
        "trusted": true
      },
      "execution_count": null,
      "outputs": []
    },
    {
      "cell_type": "markdown",
      "source": [
        "Based on evaluation during training, the optimum epoch is between 2 and 6 epochs."
      ],
      "metadata": {
        "id": "XApAjnsUG48m"
      }
    },
    {
      "cell_type": "code",
      "source": [
        "previous_results = []"
      ],
      "metadata": {
        "id": "FfJuYvsRCXta",
        "execution": {
          "iopub.status.busy": "2022-09-05T08:04:54.339590Z",
          "iopub.execute_input": "2022-09-05T08:04:54.340178Z",
          "iopub.status.idle": "2022-09-05T08:04:54.356400Z",
          "shell.execute_reply.started": "2022-09-05T08:04:54.340116Z",
          "shell.execute_reply": "2022-09-05T08:04:54.355162Z"
        },
        "trusted": true
      },
      "execution_count": 10,
      "outputs": []
    },
    {
      "cell_type": "code",
      "source": [
        "def testing(test_df, test_name, epoch):\n",
        "    \"\"\"\n",
        "    This function takes the test dataset and applies the trained model on it to infer predictions.\n",
        "    It also prints and saves a confusion matrix, calculates the F1 scores and saves the results in a list of results.\n",
        "\n",
        "    Args:\n",
        "    - test_df (pandas DataFrame)\n",
        "    - test_name\n",
        "    - epoch: num_train_epochs\n",
        "    \"\"\"\n",
        "    # Get the true labels\n",
        "    y_true = test_df.labels\n",
        "\n",
        "    model = roberta_base_model\n",
        "    \n",
        "    # Calculate the model's predictions on test\n",
        "    def make_prediction(input_string):\n",
        "        return model.predict([input_string])[0][0]\n",
        "\n",
        "    y_pred = test_df.text.apply(make_prediction)\n",
        "\n",
        "    # Calculate the scores\n",
        "    macro = f1_score(y_true, y_pred, labels=LABELS, average=\"macro\")\n",
        "    micro = f1_score(y_true, y_pred, labels=LABELS,  average=\"micro\")\n",
        "    print(f\"Macro f1: {macro:0.3}, Micro f1: {micro:0.3}\")\n",
        "\n",
        "    # Plot the confusion matrix:\n",
        "    cm = confusion_matrix(y_true, y_pred, labels=LABELS)\n",
        "    plt.figure(figsize=(9, 9))\n",
        "    plt.imshow(cm, cmap=\"Oranges\")\n",
        "    for (i, j), z in np.ndenumerate(cm):\n",
        "        plt.text(j, i, '{:d}'.format(z), ha='center', va='center')\n",
        "    classNames = LABELS\n",
        "    plt.ylabel('True label')\n",
        "    plt.xlabel('Predicted label')\n",
        "    tick_marks = np.arange(len(classNames))\n",
        "    plt.xticks(tick_marks, classNames, rotation=90)\n",
        "    plt.yticks(tick_marks, classNames)\n",
        "    plt.title(f\"{test_name}\")\n",
        "\n",
        "    plt.tight_layout()\n",
        "    fig1 = plt.gcf()\n",
        "    plt.show()\n",
        "    plt.draw()\n",
        "    fig1.savefig(f\"Confusion-matrix-{test_name}.png\",dpi=100)\n",
        "\n",
        "    # Add classification report\n",
        "    print(classification_report(y_true, y_pred, labels = LABELS))\n",
        "\n",
        "    # Save the results:\n",
        "    rezdict = {\n",
        "        \"experiment\": test_name,\n",
        "        \"num_train_epochs\": epoch,\n",
        "        \"train_batch_size\":8,\n",
        "        \"learning_rate\": 1e-5,\n",
        "        \"microF1\": micro,\n",
        "        \"macroF1\": macro,\n",
        "        \"y_true\": y_true.to_dict(),\n",
        "        \"y_pred\": y_pred.to_dict(),\n",
        "        }\n",
        "    previous_results.append(rezdict)\n",
        "\n",
        "    #Save intermediate results (just in case)\n",
        "    backup = []\n",
        "    backup.append(rezdict)\n",
        "    with open(f\"backup-results-{test_name}.json\", \"w\") as backup_file:\n",
        "        json.dump(backup,backup_file, indent= \"\")"
      ],
      "metadata": {
        "id": "wu3i2hUYG48m",
        "execution": {
          "iopub.status.busy": "2022-09-05T09:53:32.306547Z",
          "iopub.execute_input": "2022-09-05T09:53:32.307115Z",
          "iopub.status.idle": "2022-09-05T09:53:32.331250Z",
          "shell.execute_reply.started": "2022-09-05T09:53:32.307065Z",
          "shell.execute_reply": "2022-09-05T09:53:32.329468Z"
        },
        "trusted": true
      },
      "execution_count": 13,
      "outputs": []
    },
    {
      "cell_type": "code",
      "source": [
        "# Train the model for various epochs to find the optimum number\n",
        "#epochs = [2, 4, 6]\n",
        "epochs = [6, 8]\n",
        "\n",
        "for epoch in epochs:\n",
        "    roberta_base_model = ClassificationModel(\n",
        "                \"xlmroberta\", \"xlm-roberta-base\",\n",
        "                num_labels=len(LABELS),\n",
        "                use_cuda=True,\n",
        "                args= {\n",
        "                    \"overwrite_output_dir\": True,\n",
        "                    \"num_train_epochs\": epoch,\n",
        "                    \"train_batch_size\":8,\n",
        "                    \"learning_rate\": 1e-5,\n",
        "                    \"labels_list\": LABELS,\n",
        "                    # The following parameters (no_cache, no_save) are commented out if I want to save the model\n",
        "                    \"no_cache\": True,\n",
        "                    # Disable no_save: True if you want to save the model\n",
        "                    \"no_save\": True,\n",
        "                    \"max_seq_length\": 512,\n",
        "                    \"save_steps\": -1,\n",
        "                    # Only the trained model will be saved - to prevent filling all of the space\n",
        "                    \"save_model_every_epoch\":False,\n",
        "                    \"wandb_project\": 'SLED-categorization',\n",
        "                    \"silent\": True,\n",
        "                    }\n",
        "                )\n",
        "\n",
        "    # Train the model\n",
        "    roberta_base_model.train_model(train_df)\n",
        "    \n",
        "    # Test the model on dev_df\n",
        "    testing(dev_df, f\"SLED-trainsmall-XLM-RoBERTa-dev-epoch-search:{epoch}\", epoch)"
      ],
      "metadata": {
        "id": "Xqhyr3fRG48n",
        "execution": {
          "iopub.status.busy": "2022-09-02T09:39:14.128718Z",
          "iopub.execute_input": "2022-09-02T09:39:14.129212Z",
          "iopub.status.idle": "2022-09-02T13:09:39.215510Z",
          "shell.execute_reply.started": "2022-09-02T09:39:14.129172Z",
          "shell.execute_reply": "2022-09-02T13:09:39.214290Z"
        },
        "trusted": true
      },
      "execution_count": null,
      "outputs": []
    },
    {
      "cell_type": "markdown",
      "source": [
        "Optimum number of epochs was revealed to be 6."
      ],
      "metadata": {
        "id": "igKmu89GG48n"
      }
    },
    {
      "cell_type": "code",
      "source": [
        "# Compare the results by creating a dataframe from the previous_results dictionary:\n",
        "results_df = pd.DataFrame(previous_results)\n",
        "\n",
        "results_df"
      ],
      "metadata": {
        "id": "W4eE9BU1G48n",
        "execution": {
          "iopub.status.busy": "2022-09-02T13:22:29.345471Z",
          "iopub.execute_input": "2022-09-02T13:22:29.346124Z",
          "iopub.status.idle": "2022-09-02T13:22:29.376833Z",
          "shell.execute_reply.started": "2022-09-02T13:22:29.346064Z",
          "shell.execute_reply": "2022-09-02T13:22:29.375903Z"
        },
        "trusted": true
      },
      "execution_count": null,
      "outputs": []
    },
    {
      "cell_type": "code",
      "source": [
        "# Save the file with updated results.\n",
        "with open(\"SLED-XLM-RoBERTa-trainsmall-hyperparameter-search-Results.json\", \"w\") as results_file:\n",
        "    json.dump(previous_results,results_file, indent= \"\")"
      ],
      "metadata": {
        "id": "RrGQ_xkcG48n",
        "execution": {
          "iopub.status.busy": "2022-09-02T13:22:58.712661Z",
          "iopub.execute_input": "2022-09-02T13:22:58.713687Z",
          "iopub.status.idle": "2022-09-02T13:22:58.734658Z",
          "shell.execute_reply.started": "2022-09-02T13:22:58.713647Z",
          "shell.execute_reply": "2022-09-02T13:22:58.733654Z"
        },
        "trusted": true
      },
      "execution_count": null,
      "outputs": []
    },
    {
      "cell_type": "code",
      "source": [
        "# Create a TransformerModel\n",
        "roberta_base_model = ClassificationModel(\n",
        "        \"xlmroberta\", \"xlm-roberta-base\",\n",
        "        num_labels=len(LABELS),\n",
        "        use_cuda=True,\n",
        "        args= {\n",
        "            \"overwrite_output_dir\": True,\n",
        "            \"num_train_epochs\": 6,\n",
        "            \"train_batch_size\":8,\n",
        "            \"learning_rate\": 1e-5,\n",
        "            \"labels_list\": LABELS,\n",
        "            # The following parameters are commented out because I want to save the model\n",
        "            #\"no_cache\": True,\n",
        "            # Disable no_save: True if you want to save the model\n",
        "            #\"no_save\": True,\n",
        "            \"max_seq_length\": 512,\n",
        "            \"save_steps\": -1,\n",
        "            # Only the trained model will be saved - to prevent filling all of the space\n",
        "            \"save_model_every_epoch\":False,\n",
        "            \"wandb_project\": 'SLED-categorization',\n",
        "            \"silent\": True,\n",
        "            }\n",
        "        )"
      ],
      "metadata": {
        "id": "kL5xMuUJG48o",
        "execution": {
          "iopub.status.busy": "2022-09-05T08:05:19.414511Z",
          "iopub.execute_input": "2022-09-05T08:05:19.414918Z",
          "iopub.status.idle": "2022-09-05T08:07:10.190302Z",
          "shell.execute_reply.started": "2022-09-05T08:05:19.414888Z",
          "shell.execute_reply": "2022-09-05T08:07:10.188764Z"
        },
        "trusted": true
      },
      "execution_count": null,
      "outputs": []
    },
    {
      "cell_type": "code",
      "source": [
        "# Train the model\n",
        "roberta_base_model.train_model(train_df)"
      ],
      "metadata": {
        "id": "ct5DPfhZG48o",
        "execution": {
          "iopub.status.busy": "2022-09-05T08:09:01.324332Z",
          "iopub.execute_input": "2022-09-05T08:09:01.325281Z",
          "iopub.status.idle": "2022-09-05T09:11:50.554022Z",
          "shell.execute_reply.started": "2022-09-05T08:09:01.325218Z",
          "shell.execute_reply": "2022-09-05T09:11:50.551309Z"
        },
        "trusted": true
      },
      "execution_count": null,
      "outputs": []
    },
    {
      "cell_type": "code",
      "source": [
        "# Save the trained model to Wandb\n",
        "run = wandb.init(project=\"SLED-categorization\", entity=\"tajak\", name=\"saving-trained-model\")\n",
        "trained_model_artifact = wandb.Artifact(\"SLED-XLM-RoBERTa-trainsmall-classifier\", type=\"model\", description=\"a XLM-RoBERTa model fine-tuned on the SLED trainsmall dataset.\")\n",
        "trained_model_artifact.add_dir(\"/kaggle/working/outputs\")\n",
        "run.log_artifact(trained_model_artifact)"
      ],
      "metadata": {
        "id": "LGmsh6oFG48o",
        "execution": {
          "iopub.status.busy": "2022-09-05T09:16:25.760807Z",
          "iopub.execute_input": "2022-09-05T09:16:25.761322Z",
          "iopub.status.idle": "2022-09-05T09:16:57.355355Z",
          "shell.execute_reply.started": "2022-09-05T09:16:25.761276Z",
          "shell.execute_reply": "2022-09-05T09:16:57.353868Z"
        },
        "trusted": true
      },
      "execution_count": null,
      "outputs": []
    },
    {
      "cell_type": "markdown",
      "source": [
        "## Testing the model"
      ],
      "metadata": {
        "id": "61QrWZfcH9If"
      }
    },
    {
      "cell_type": "code",
      "source": [
        "# Download the saved model\n",
        "\n",
        "# Initialize Wandb\n",
        "run = wandb.init(project=\"SLED-categorization\", entity=\"tajak\", name=\"testing-trained-model\")\n",
        "\n",
        "# Load the saved model\n",
        "artifact = run.use_artifact('tajak/SLED-categorization/SLED-XLM-RoBERTa-trainsmall-classifier:v0', type='model')\n",
        "artifact_dir = artifact.download()\n",
        "\n",
        "# Loading a local save\n",
        "roberta_base_model = ClassificationModel(\n",
        "    \"xlmroberta\", artifact_dir)"
      ],
      "metadata": {
        "colab": {
          "base_uri": "https://localhost:8080/",
          "height": 162
        },
        "id": "_FNiWbTJIjDI",
        "outputId": "170c02b4-3042-44f3-812d-493e16627f1d"
      },
      "execution_count": 6,
      "outputs": [
        {
          "output_type": "stream",
          "name": "stderr",
          "text": [
            "\u001b[34m\u001b[1mwandb\u001b[0m: Currently logged in as: \u001b[33mtajak\u001b[0m. Use \u001b[1m`wandb login --relogin`\u001b[0m to force relogin\n"
          ]
        },
        {
          "output_type": "display_data",
          "data": {
            "text/plain": [
              "<IPython.core.display.HTML object>"
            ],
            "text/html": [
              "Tracking run with wandb version 0.13.2"
            ]
          },
          "metadata": {}
        },
        {
          "output_type": "display_data",
          "data": {
            "text/plain": [
              "<IPython.core.display.HTML object>"
            ],
            "text/html": [
              "Run data is saved locally in <code>/content/wandb/run-20220905_101803-2txmnv71</code>"
            ]
          },
          "metadata": {}
        },
        {
          "output_type": "display_data",
          "data": {
            "text/plain": [
              "<IPython.core.display.HTML object>"
            ],
            "text/html": [
              "Syncing run <strong><a href=\"https://wandb.ai/tajak/SLED-categorization/runs/2txmnv71\" target=\"_blank\">testing-trained-model</a></strong> to <a href=\"https://wandb.ai/tajak/SLED-categorization\" target=\"_blank\">Weights & Biases</a> (<a href=\"https://wandb.me/run\" target=\"_blank\">docs</a>)<br/>"
            ]
          },
          "metadata": {}
        },
        {
          "output_type": "stream",
          "name": "stderr",
          "text": [
            "\u001b[34m\u001b[1mwandb\u001b[0m: Downloading large artifact SLED-XLM-RoBERTa-trainsmall-classifier:v0, 1081.89MB. 8 files... Done. 0:0:11.7\n",
            "/usr/local/lib/python3.7/dist-packages/simpletransformers/classification/classification_model.py:476: UserWarning: use_multiprocessing automatically disabled as xlmroberta fails when using multiprocessing for feature conversion.\n",
            "  f\"use_multiprocessing automatically disabled as {model_type}\"\n"
          ]
        }
      ]
    },
    {
      "cell_type": "code",
      "source": [
        "# Create a list to save results into\n",
        "previous_results = []"
      ],
      "metadata": {
        "execution": {
          "iopub.status.busy": "2022-09-05T09:53:43.849069Z",
          "iopub.execute_input": "2022-09-05T09:53:43.849527Z",
          "iopub.status.idle": "2022-09-05T09:53:43.859811Z",
          "shell.execute_reply.started": "2022-09-05T09:53:43.849494Z",
          "shell.execute_reply": "2022-09-05T09:53:43.857424Z"
        },
        "trusted": true,
        "id": "Wq3PyZ_GH9If"
      },
      "execution_count": 11,
      "outputs": []
    },
    {
      "cell_type": "code",
      "source": [
        "# Test the model on the test split\n",
        "testing(test_df, \"XLM-RoBERTa-test\", 6)"
      ],
      "metadata": {
        "execution": {
          "iopub.status.busy": "2022-09-05T09:53:47.661260Z",
          "iopub.execute_input": "2022-09-05T09:53:47.661658Z"
        },
        "trusted": true,
        "colab": {
          "base_uri": "https://localhost:8080/",
          "height": 1000
        },
        "id": "H7QB5WrVH9If",
        "outputId": "2f70e1a1-06fc-489f-bd1d-9cfe30790e13"
      },
      "execution_count": 14,
      "outputs": [
        {
          "output_type": "stream",
          "name": "stdout",
          "text": [
            "Macro f1: 0.905, Micro f1: 0.906\n"
          ]
        },
        {
          "output_type": "display_data",
          "data": {
            "text/plain": [
              "<Figure size 648x648 with 1 Axes>"
            ],
            "image/png": "[encoded data removed]"
          },
          "metadata": {
            "needs_background": "light"
          }
        },
        {
          "output_type": "stream",
          "name": "stdout",
          "text": [
            "               precision    recall  f1-score   support\n",
            "\n",
            "  crnakronika       0.97      0.95      0.96       100\n",
            "       druzba       0.88      0.93      0.90       100\n",
            " gospodarstvo       0.88      0.88      0.88       100\n",
            "izobrazevanje       0.88      0.89      0.89       100\n",
            "      kultura       0.94      0.94      0.94       100\n",
            "       okolje       0.86      0.91      0.88        99\n",
            "     politika       0.96      0.98      0.97       100\n",
            "    prosticas       0.76      0.68      0.72       100\n",
            "        sport       0.96      0.97      0.97       100\n",
            "        vreme       0.98      0.97      0.97       100\n",
            "       zabava       0.93      0.94      0.94       100\n",
            "      zdravje       0.91      0.88      0.89       100\n",
            "      znanost       0.86      0.86      0.86       100\n",
            "\n",
            "     accuracy                           0.91      1299\n",
            "    macro avg       0.91      0.91      0.91      1299\n",
            " weighted avg       0.91      0.91      0.91      1299\n",
            "\n"
          ]
        },
        {
          "output_type": "display_data",
          "data": {
            "text/plain": [
              "<Figure size 432x288 with 0 Axes>"
            ]
          },
          "metadata": {}
        }
      ]
    },
    {
      "cell_type": "code",
      "source": [
        "results_df = pd.DataFrame(previous_results)\n",
        "\n",
        "results_df"
      ],
      "metadata": {
        "colab": {
          "base_uri": "https://localhost:8080/",
          "height": 142
        },
        "id": "HpTiWStuH9If",
        "outputId": "52856e37-43cf-458a-eb49-af332731b887"
      },
      "execution_count": 15,
      "outputs": [
        {
          "output_type": "execute_result",
          "data": {
            "text/plain": [
              "         experiment  num_train_epochs  train_batch_size  learning_rate  \\\n",
              "0  XLM-RoBERTa-test                 6                 8        0.00001   \n",
              "\n",
              "    microF1   macroF1                                             y_true  \\\n",
              "0  0.906082  0.905314  {0: 'crnakronika', 1: 'crnakronika', 2: 'crnak...   \n",
              "\n",
              "                                              y_pred  \n",
              "0  {0: 'crnakronika', 1: 'crnakronika', 2: 'crnak...  "
            ],
            "text/html": [
              "\n",
              "  <div id=\"df-8bd92472-c84c-4656-9ee2-525391d42894\">\n",
              "    <div class=\"colab-df-container\">\n",
              "      <div>\n",
              "<style scoped>\n",
              "    .dataframe tbody tr th:only-of-type {\n",
              "        vertical-align: middle;\n",
              "    }\n",
              "\n",
              "    .dataframe tbody tr th {\n",
              "        vertical-align: top;\n",
              "    }\n",
              "\n",
              "    .dataframe thead th {\n",
              "        text-align: right;\n",
              "    }\n",
              "</style>\n",
              "<table border=\"1\" class=\"dataframe\">\n",
              "  <thead>\n",
              "    <tr style=\"text-align: right;\">\n",
              "      <th></th>\n",
              "      <th>experiment</th>\n",
              "      <th>num_train_epochs</th>\n",
              "      <th>train_batch_size</th>\n",
              "      <th>learning_rate</th>\n",
              "      <th>microF1</th>\n",
              "      <th>macroF1</th>\n",
              "      <th>y_true</th>\n",
              "      <th>y_pred</th>\n",
              "    </tr>\n",
              "  </thead>\n",
              "  <tbody>\n",
              "    <tr>\n",
              "      <th>0</th>\n",
              "      <td>XLM-RoBERTa-test</td>\n",
              "      <td>6</td>\n",
              "      <td>8</td>\n",
              "      <td>0.00001</td>\n",
              "      <td>0.906082</td>\n",
              "      <td>0.905314</td>\n",
              "      <td>{0: 'crnakronika', 1: 'crnakronika', 2: 'crnak...</td>\n",
              "      <td>{0: 'crnakronika', 1: 'crnakronika', 2: 'crnak...</td>\n",
              "    </tr>\n",
              "  </tbody>\n",
              "</table>\n",
              "</div>\n",
              "      <button class=\"colab-df-convert\" onclick=\"convertToInteractive('df-8bd92472-c84c-4656-9ee2-525391d42894')\"\n",
              "              title=\"Convert this dataframe to an interactive table.\"\n",
              "              style=\"display:none;\">\n",
              "        \n",
              "  <svg xmlns=\"http://www.w3.org/2000/svg\" height=\"24px\"viewBox=\"0 0 24 24\"\n",
              "       width=\"24px\">\n",
              "    <path d=\"M0 0h24v24H0V0z\" fill=\"none\"/>\n",
              "    <path d=\"M18.56 5.44l.94 2.06.94-2.06 2.06-.94-2.06-.94-.94-2.06-.94 2.06-2.06.94zm-11 1L8.5 8.5l.94-2.06 2.06-.94-2.06-.94L8.5 2.5l-.94 2.06-2.06.94zm10 10l.94 2.06.94-2.06 2.06-.94-2.06-.94-.94-2.06-.94 2.06-2.06.94z\"/><path d=\"M17.41 7.96l-1.37-1.37c-.4-.4-.92-.59-1.43-.59-.52 0-1.04.2-1.43.59L10.3 9.45l-7.72 7.72c-.78.78-.78 2.05 0 2.83L4 21.41c.39.39.9.59 1.41.59.51 0 1.02-.2 1.41-.59l7.78-7.78 2.81-2.81c.8-.78.8-2.07 0-2.86zM5.41 20L4 18.59l7.72-7.72 1.47 1.35L5.41 20z\"/>\n",
              "  </svg>\n",
              "      </button>\n",
              "      \n",
              "  <style>\n",
              "    .colab-df-container {\n",
              "      display:flex;\n",
              "      flex-wrap:wrap;\n",
              "      gap: 12px;\n",
              "    }\n",
              "\n",
              "    .colab-df-convert {\n",
              "      background-color: #E8F0FE;\n",
              "      border: none;\n",
              "      border-radius: 50%;\n",
              "      cursor: pointer;\n",
              "      display: none;\n",
              "      fill: #1967D2;\n",
              "      height: 32px;\n",
              "      padding: 0 0 0 0;\n",
              "      width: 32px;\n",
              "    }\n",
              "\n",
              "    .colab-df-convert:hover {\n",
              "      background-color: #E2EBFA;\n",
              "      box-shadow: 0px 1px 2px rgba(60, 64, 67, 0.3), 0px 1px 3px 1px rgba(60, 64, 67, 0.15);\n",
              "      fill: #174EA6;\n",
              "    }\n",
              "\n",
              "    [theme=dark] .colab-df-convert {\n",
              "      background-color: #3B4455;\n",
              "      fill: #D2E3FC;\n",
              "    }\n",
              "\n",
              "    [theme=dark] .colab-df-convert:hover {\n",
              "      background-color: #434B5C;\n",
              "      box-shadow: 0px 1px 3px 1px rgba(0, 0, 0, 0.15);\n",
              "      filter: drop-shadow(0px 1px 2px rgba(0, 0, 0, 0.3));\n",
              "      fill: #FFFFFF;\n",
              "    }\n",
              "  </style>\n",
              "\n",
              "      <script>\n",
              "        const buttonEl =\n",
              "          document.querySelector('#df-8bd92472-c84c-4656-9ee2-525391d42894 button.colab-df-convert');\n",
              "        buttonEl.style.display =\n",
              "          google.colab.kernel.accessAllowed ? 'block' : 'none';\n",
              "\n",
              "        async function convertToInteractive(key) {\n",
              "          const element = document.querySelector('#df-8bd92472-c84c-4656-9ee2-525391d42894');\n",
              "          const dataTable =\n",
              "            await google.colab.kernel.invokeFunction('convertToInteractive',\n",
              "                                                     [key], {});\n",
              "          if (!dataTable) return;\n",
              "\n",
              "          const docLinkHtml = 'Like what you see? Visit the ' +\n",
              "            '<a target=\"_blank\" href=https://colab.research.google.com/notebooks/data_table.ipynb>data table notebook</a>'\n",
              "            + ' to learn more about interactive tables.';\n",
              "          element.innerHTML = '';\n",
              "          dataTable['output_type'] = 'display_data';\n",
              "          await google.colab.output.renderOutput(dataTable, element);\n",
              "          const docLink = document.createElement('div');\n",
              "          docLink.innerHTML = docLinkHtml;\n",
              "          element.appendChild(docLink);\n",
              "        }\n",
              "      </script>\n",
              "    </div>\n",
              "  </div>\n",
              "  "
            ]
          },
          "metadata": {},
          "execution_count": 15
        }
      ]
    },
    {
      "cell_type": "code",
      "source": [
        "# Save the results\n",
        "with open(\"XLM-RoBERTa-SLED-trainsmall-experiments-Results.json\", \"w\") as results_file:\n",
        "    json.dump(previous_results,results_file, indent= \"\")"
      ],
      "metadata": {
        "id": "97BZsC3dH9If"
      },
      "execution_count": 16,
      "outputs": []
    }
  ]
}