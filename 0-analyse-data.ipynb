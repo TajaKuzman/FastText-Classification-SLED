{
 "cells": [
  {
   "cell_type": "code",
   "execution_count": 2,
   "metadata": {},
   "outputs": [],
   "source": [
    "# Import necessary libraries\n",
    "import pandas as pd\n",
    "import parse"
   ]
  },
  {
   "cell_type": "code",
   "execution_count": 1,
   "metadata": {},
   "outputs": [],
   "source": [
    "# Define paths to data\n",
    "train = \"data/sled_categorization_TRAINSMALL_PREPROCESSED.txt\"\n",
    "\n",
    "train_large = \"data/sled_categorization_TRAINLARGE_PREPROCESSED.txt\"\n",
    "\n",
    "test = \"data/sled_categorization_TEST_PREPROCESSED.txt\"\n",
    "\n",
    "dev = \"data/sled_categorization_DEV_PREPROCESSED.txt\""
   ]
  },
  {
   "cell_type": "code",
   "execution_count": 3,
   "metadata": {},
   "outputs": [],
   "source": [
    "# Parse the file to create a dataframe from them\n",
    "def parse_file(path: str):\n",
    "    \"\"\"Reads fasttext formatted file and returns labels, texts.\"\"\"\n",
    "    with open(path, \"r\") as f:\n",
    "        content = f.readlines()\n",
    "    pattern = \"{label} {text}\\n\"\n",
    "    p = parse.compile(pattern)\n",
    "\n",
    "    labels, texts = list(), list()\n",
    "    for line in content:\n",
    "        rez = p.parse(line)\n",
    "        if rez is not None:\n",
    "            labels.append(rez[\"label\"])\n",
    "            texts.append(rez[\"text\"])\n",
    "        else:\n",
    "            print(\"error parsing line \", line)\n",
    "    dataframe = pd.DataFrame({\"label\": labels, \"text\": texts})\n",
    "    return dataframe"
   ]
  },
  {
   "cell_type": "code",
   "execution_count": 4,
   "metadata": {},
   "outputs": [
    {
     "data": {
      "text/html": [
       "<div>\n",
       "<style scoped>\n",
       "    .dataframe tbody tr th:only-of-type {\n",
       "        vertical-align: middle;\n",
       "    }\n",
       "\n",
       "    .dataframe tbody tr th {\n",
       "        vertical-align: top;\n",
       "    }\n",
       "\n",
       "    .dataframe thead th {\n",
       "        text-align: right;\n",
       "    }\n",
       "</style>\n",
       "<table border=\"1\" class=\"dataframe\">\n",
       "  <thead>\n",
       "    <tr style=\"text-align: right;\">\n",
       "      <th></th>\n",
       "      <th>label</th>\n",
       "      <th>text</th>\n",
       "    </tr>\n",
       "  </thead>\n",
       "  <tbody>\n",
       "    <tr>\n",
       "      <th>0</th>\n",
       "      <td>__label__crnakronika</td>\n",
       "      <td>vožnja na vrtiljaku v zabaviščnem parku v fran...</td>\n",
       "    </tr>\n",
       "    <tr>\n",
       "      <th>1</th>\n",
       "      <td>__label__crnakronika</td>\n",
       "      <td>na tolminskem se je dopoldne zgodila prometna ...</td>\n",
       "    </tr>\n",
       "    <tr>\n",
       "      <th>2</th>\n",
       "      <td>__label__crnakronika</td>\n",
       "      <td>na cesti zadlaz-žabče se je zgodila prometna n...</td>\n",
       "    </tr>\n",
       "    <tr>\n",
       "      <th>3</th>\n",
       "      <td>__label__crnakronika</td>\n",
       "      <td>eksplozija plina v stanovanjski zgradbi v mest...</td>\n",
       "    </tr>\n",
       "    <tr>\n",
       "      <th>4</th>\n",
       "      <td>__label__crnakronika</td>\n",
       "      <td>z 2 januarjem ni več dovoljena uporaba piroteh...</td>\n",
       "    </tr>\n",
       "    <tr>\n",
       "      <th>...</th>\n",
       "      <td>...</td>\n",
       "      <td>...</td>\n",
       "    </tr>\n",
       "    <tr>\n",
       "      <th>36027</th>\n",
       "      <td>__label__znanost</td>\n",
       "      <td>kitajska je do zdaj izvedla pet uspešnih odpra...</td>\n",
       "    </tr>\n",
       "    <tr>\n",
       "      <th>36028</th>\n",
       "      <td>__label__znanost</td>\n",
       "      <td>da sta mikro- in nanoplastika povsod okoli nas...</td>\n",
       "    </tr>\n",
       "    <tr>\n",
       "      <th>36029</th>\n",
       "      <td>__label__znanost</td>\n",
       "      <td>kaj je novega v nasinem programu vrnitve člove...</td>\n",
       "    </tr>\n",
       "    <tr>\n",
       "      <th>36030</th>\n",
       "      <td>__label__znanost</td>\n",
       "      <td>znanstveni dosežek je podprla tudi whitney cas...</td>\n",
       "    </tr>\n",
       "    <tr>\n",
       "      <th>36031</th>\n",
       "      <td>__label__znanost</td>\n",
       "      <td>vsi smo zadovoljni da je bil zakon po več leti...</td>\n",
       "    </tr>\n",
       "  </tbody>\n",
       "</table>\n",
       "<p>36032 rows × 2 columns</p>\n",
       "</div>"
      ],
      "text/plain": [
       "                      label                                               text\n",
       "0      __label__crnakronika  vožnja na vrtiljaku v zabaviščnem parku v fran...\n",
       "1      __label__crnakronika  na tolminskem se je dopoldne zgodila prometna ...\n",
       "2      __label__crnakronika  na cesti zadlaz-žabče se je zgodila prometna n...\n",
       "3      __label__crnakronika  eksplozija plina v stanovanjski zgradbi v mest...\n",
       "4      __label__crnakronika  z 2 januarjem ni več dovoljena uporaba piroteh...\n",
       "...                     ...                                                ...\n",
       "36027      __label__znanost  kitajska je do zdaj izvedla pet uspešnih odpra...\n",
       "36028      __label__znanost  da sta mikro- in nanoplastika povsod okoli nas...\n",
       "36029      __label__znanost  kaj je novega v nasinem programu vrnitve člove...\n",
       "36030      __label__znanost  znanstveni dosežek je podprla tudi whitney cas...\n",
       "36031      __label__znanost  vsi smo zadovoljni da je bil zakon po več leti...\n",
       "\n",
       "[36032 rows x 2 columns]"
      ]
     },
     "execution_count": 4,
     "metadata": {},
     "output_type": "execute_result"
    }
   ],
   "source": [
    "train_large_df = parse_file(train_large)\n",
    "\n",
    "train_large_df"
   ]
  },
  {
   "cell_type": "code",
   "execution_count": 5,
   "metadata": {},
   "outputs": [
    {
     "data": {
      "text/plain": [
       "__label__crnakronika      2800\n",
       "__label__druzba           2800\n",
       "__label__gospodarstvo     2800\n",
       "__label__kultura          2800\n",
       "__label__politika         2800\n",
       "__label__prosticas        2800\n",
       "__label__sport            2800\n",
       "__label__vreme            2800\n",
       "__label__zabava           2800\n",
       "__label__zdravje          2800\n",
       "__label__znanost          2800\n",
       "__label__okolje           2696\n",
       "__label__izobrazevanje    2536\n",
       "Name: label, dtype: int64"
      ]
     },
     "execution_count": 5,
     "metadata": {},
     "output_type": "execute_result"
    }
   ],
   "source": [
    "train_large_df.label.value_counts()"
   ]
  },
  {
   "cell_type": "code",
   "execution_count": 5,
   "metadata": {},
   "outputs": [
    {
     "data": {
      "text/html": [
       "<div>\n",
       "<style scoped>\n",
       "    .dataframe tbody tr th:only-of-type {\n",
       "        vertical-align: middle;\n",
       "    }\n",
       "\n",
       "    .dataframe tbody tr th {\n",
       "        vertical-align: top;\n",
       "    }\n",
       "\n",
       "    .dataframe thead th {\n",
       "        text-align: right;\n",
       "    }\n",
       "</style>\n",
       "<table border=\"1\" class=\"dataframe\">\n",
       "  <thead>\n",
       "    <tr style=\"text-align: right;\">\n",
       "      <th></th>\n",
       "      <th>label</th>\n",
       "      <th>text</th>\n",
       "    </tr>\n",
       "  </thead>\n",
       "  <tbody>\n",
       "    <tr>\n",
       "      <th>0</th>\n",
       "      <td>__label__crnakronika</td>\n",
       "      <td>na tolminskem se je dopoldne zgodila prometna ...</td>\n",
       "    </tr>\n",
       "    <tr>\n",
       "      <th>1</th>\n",
       "      <td>__label__crnakronika</td>\n",
       "      <td>na cesti zadlaz-žabče se je zgodila prometna n...</td>\n",
       "    </tr>\n",
       "    <tr>\n",
       "      <th>2</th>\n",
       "      <td>__label__crnakronika</td>\n",
       "      <td>v sredo ob 1321 je bila novogoriška policija o...</td>\n",
       "    </tr>\n",
       "    <tr>\n",
       "      <th>3</th>\n",
       "      <td>__label__crnakronika</td>\n",
       "      <td>malo po 16 uri je v svetem duhu na ostrem vrhu...</td>\n",
       "    </tr>\n",
       "    <tr>\n",
       "      <th>4</th>\n",
       "      <td>__label__crnakronika</td>\n",
       "      <td>v eksploziji pirotehnike je bil v soboto popol...</td>\n",
       "    </tr>\n",
       "    <tr>\n",
       "      <th>...</th>\n",
       "      <td>...</td>\n",
       "      <td>...</td>\n",
       "    </tr>\n",
       "    <tr>\n",
       "      <th>9998</th>\n",
       "      <td>__label__znanost</td>\n",
       "      <td>12 julij na ta dan bodo vesoljske agencije obj...</td>\n",
       "    </tr>\n",
       "    <tr>\n",
       "      <th>9999</th>\n",
       "      <td>__label__znanost</td>\n",
       "      <td>kitajska je do zdaj izvedla pet uspešnih odpra...</td>\n",
       "    </tr>\n",
       "    <tr>\n",
       "      <th>10000</th>\n",
       "      <td>__label__znanost</td>\n",
       "      <td>da sta mikro- in nanoplastika povsod okoli nas...</td>\n",
       "    </tr>\n",
       "    <tr>\n",
       "      <th>10001</th>\n",
       "      <td>__label__znanost</td>\n",
       "      <td>znanstveni dosežek je podprla tudi whitney cas...</td>\n",
       "    </tr>\n",
       "    <tr>\n",
       "      <th>10002</th>\n",
       "      <td>__label__znanost</td>\n",
       "      <td>vsi smo zadovoljni da je bil zakon po več leti...</td>\n",
       "    </tr>\n",
       "  </tbody>\n",
       "</table>\n",
       "<p>10003 rows × 2 columns</p>\n",
       "</div>"
      ],
      "text/plain": [
       "                      label                                               text\n",
       "0      __label__crnakronika  na tolminskem se je dopoldne zgodila prometna ...\n",
       "1      __label__crnakronika  na cesti zadlaz-žabče se je zgodila prometna n...\n",
       "2      __label__crnakronika  v sredo ob 1321 je bila novogoriška policija o...\n",
       "3      __label__crnakronika  malo po 16 uri je v svetem duhu na ostrem vrhu...\n",
       "4      __label__crnakronika  v eksploziji pirotehnike je bil v soboto popol...\n",
       "...                     ...                                                ...\n",
       "9998       __label__znanost  12 julij na ta dan bodo vesoljske agencije obj...\n",
       "9999       __label__znanost  kitajska je do zdaj izvedla pet uspešnih odpra...\n",
       "10000      __label__znanost  da sta mikro- in nanoplastika povsod okoli nas...\n",
       "10001      __label__znanost  znanstveni dosežek je podprla tudi whitney cas...\n",
       "10002      __label__znanost  vsi smo zadovoljni da je bil zakon po več leti...\n",
       "\n",
       "[10003 rows x 2 columns]"
      ]
     },
     "execution_count": 5,
     "metadata": {},
     "output_type": "execute_result"
    }
   ],
   "source": [
    "train_df = parse_file(train)\n",
    "train_df"
   ]
  },
  {
   "cell_type": "code",
   "execution_count": 7,
   "metadata": {},
   "outputs": [
    {
     "data": {
      "text/html": [
       "<div>\n",
       "<style scoped>\n",
       "    .dataframe tbody tr th:only-of-type {\n",
       "        vertical-align: middle;\n",
       "    }\n",
       "\n",
       "    .dataframe tbody tr th {\n",
       "        vertical-align: top;\n",
       "    }\n",
       "\n",
       "    .dataframe thead th {\n",
       "        text-align: right;\n",
       "    }\n",
       "</style>\n",
       "<table border=\"1\" class=\"dataframe\">\n",
       "  <thead>\n",
       "    <tr style=\"text-align: right;\">\n",
       "      <th></th>\n",
       "      <th>label</th>\n",
       "      <th>text</th>\n",
       "      <th>split</th>\n",
       "    </tr>\n",
       "  </thead>\n",
       "  <tbody>\n",
       "    <tr>\n",
       "      <th>0</th>\n",
       "      <td>__label__crnakronika</td>\n",
       "      <td>na tolminskem se je dopoldne zgodila prometna ...</td>\n",
       "      <td>train</td>\n",
       "    </tr>\n",
       "    <tr>\n",
       "      <th>1</th>\n",
       "      <td>__label__crnakronika</td>\n",
       "      <td>na cesti zadlaz-žabče se je zgodila prometna n...</td>\n",
       "      <td>train</td>\n",
       "    </tr>\n",
       "    <tr>\n",
       "      <th>2</th>\n",
       "      <td>__label__crnakronika</td>\n",
       "      <td>v sredo ob 1321 je bila novogoriška policija o...</td>\n",
       "      <td>train</td>\n",
       "    </tr>\n",
       "    <tr>\n",
       "      <th>3</th>\n",
       "      <td>__label__crnakronika</td>\n",
       "      <td>malo po 16 uri je v svetem duhu na ostrem vrhu...</td>\n",
       "      <td>train</td>\n",
       "    </tr>\n",
       "    <tr>\n",
       "      <th>4</th>\n",
       "      <td>__label__crnakronika</td>\n",
       "      <td>v eksploziji pirotehnike je bil v soboto popol...</td>\n",
       "      <td>train</td>\n",
       "    </tr>\n",
       "  </tbody>\n",
       "</table>\n",
       "</div>"
      ],
      "text/plain": [
       "                  label                                               text  \\\n",
       "0  __label__crnakronika  na tolminskem se je dopoldne zgodila prometna ...   \n",
       "1  __label__crnakronika  na cesti zadlaz-žabče se je zgodila prometna n...   \n",
       "2  __label__crnakronika  v sredo ob 1321 je bila novogoriška policija o...   \n",
       "3  __label__crnakronika  malo po 16 uri je v svetem duhu na ostrem vrhu...   \n",
       "4  __label__crnakronika  v eksploziji pirotehnike je bil v soboto popol...   \n",
       "\n",
       "   split  \n",
       "0  train  \n",
       "1  train  \n",
       "2  train  \n",
       "3  train  \n",
       "4  train  "
      ]
     },
     "execution_count": 7,
     "metadata": {},
     "output_type": "execute_result"
    }
   ],
   "source": [
    "train_df[\"split\"] = \"train\"\n",
    "\n",
    "train_df.head()"
   ]
  },
  {
   "cell_type": "code",
   "execution_count": 8,
   "metadata": {},
   "outputs": [],
   "source": [
    "test_df = parse_file(test)\n",
    "test_df[\"split\"] = \"test\"\n",
    "dev_df = parse_file(dev)\n",
    "dev_df[\"split\"] = \"dev\""
   ]
  },
  {
   "cell_type": "code",
   "execution_count": 12,
   "metadata": {},
   "outputs": [
    {
     "data": {
      "text/plain": [
       "(1300, 3)"
      ]
     },
     "execution_count": 12,
     "metadata": {},
     "output_type": "execute_result"
    }
   ],
   "source": [
    "test_df.shape"
   ]
  },
  {
   "cell_type": "code",
   "execution_count": 11,
   "metadata": {},
   "outputs": [
    {
     "data": {
      "text/plain": [
       "(11303, 3)"
      ]
     },
     "execution_count": 11,
     "metadata": {},
     "output_type": "execute_result"
    }
   ],
   "source": [
    "# Merge the dataframes\n",
    "temp = pd.concat((train_df, test_df))\n",
    "temp.shape"
   ]
  },
  {
   "cell_type": "code",
   "execution_count": 13,
   "metadata": {},
   "outputs": [
    {
     "data": {
      "text/plain": [
       "(12603, 3)"
      ]
     },
     "execution_count": 13,
     "metadata": {},
     "output_type": "execute_result"
    }
   ],
   "source": [
    "df = pd.concat((temp, dev_df))\n",
    "df.shape"
   ]
  },
  {
   "cell_type": "code",
   "execution_count": 15,
   "metadata": {},
   "outputs": [
    {
     "data": {
      "text/html": [
       "<div>\n",
       "<style scoped>\n",
       "    .dataframe tbody tr th:only-of-type {\n",
       "        vertical-align: middle;\n",
       "    }\n",
       "\n",
       "    .dataframe tbody tr th {\n",
       "        vertical-align: top;\n",
       "    }\n",
       "\n",
       "    .dataframe thead th {\n",
       "        text-align: right;\n",
       "    }\n",
       "</style>\n",
       "<table border=\"1\" class=\"dataframe\">\n",
       "  <thead>\n",
       "    <tr style=\"text-align: right;\">\n",
       "      <th></th>\n",
       "      <th>label</th>\n",
       "      <th>text</th>\n",
       "      <th>split</th>\n",
       "    </tr>\n",
       "  </thead>\n",
       "  <tbody>\n",
       "    <tr>\n",
       "      <th>count</th>\n",
       "      <td>12603</td>\n",
       "      <td>12603</td>\n",
       "      <td>12603</td>\n",
       "    </tr>\n",
       "    <tr>\n",
       "      <th>unique</th>\n",
       "      <td>13</td>\n",
       "      <td>12585</td>\n",
       "      <td>3</td>\n",
       "    </tr>\n",
       "    <tr>\n",
       "      <th>top</th>\n",
       "      <td>__label__crnakronika</td>\n",
       "      <td>v silovitem neurju ki je v soboto prizadelo fr...</td>\n",
       "      <td>train</td>\n",
       "    </tr>\n",
       "    <tr>\n",
       "      <th>freq</th>\n",
       "      <td>1000</td>\n",
       "      <td>2</td>\n",
       "      <td>10003</td>\n",
       "    </tr>\n",
       "  </tbody>\n",
       "</table>\n",
       "</div>"
      ],
      "text/plain": [
       "                       label  \\\n",
       "count                  12603   \n",
       "unique                    13   \n",
       "top     __label__crnakronika   \n",
       "freq                    1000   \n",
       "\n",
       "                                                     text  split  \n",
       "count                                               12603  12603  \n",
       "unique                                              12585      3  \n",
       "top     v silovitem neurju ki je v soboto prizadelo fr...  train  \n",
       "freq                                                    2  10003  "
      ]
     },
     "execution_count": 15,
     "metadata": {},
     "output_type": "execute_result"
    }
   ],
   "source": [
    "df.describe(include=\"all\")"
   ]
  },
  {
   "cell_type": "code",
   "execution_count": 16,
   "metadata": {},
   "outputs": [
    {
     "data": {
      "text/plain": [
       "train    10003\n",
       "test      1300\n",
       "dev       1300\n",
       "Name: split, dtype: int64"
      ]
     },
     "execution_count": 16,
     "metadata": {},
     "output_type": "execute_result"
    }
   ],
   "source": [
    "# Analyze no. of texts in each split\n",
    "df.split.value_counts()"
   ]
  },
  {
   "cell_type": "code",
   "execution_count": 17,
   "metadata": {},
   "outputs": [
    {
     "data": {
      "text/plain": [
       "__label__crnakronika      1000\n",
       "__label__druzba           1000\n",
       "__label__gospodarstvo     1000\n",
       "__label__kultura          1000\n",
       "__label__politika         1000\n",
       "__label__sport            1000\n",
       "__label__zabava           1000\n",
       "__label__zdravje          1000\n",
       "__label__znanost           953\n",
       "__label__vreme             926\n",
       "__label__prosticas         918\n",
       "__label__okolje            911\n",
       "__label__izobrazevanje     895\n",
       "Name: label, dtype: int64"
      ]
     },
     "execution_count": 17,
     "metadata": {},
     "output_type": "execute_result"
    }
   ],
   "source": [
    "# Analyze label distribution\n",
    "df.label.value_counts()"
   ]
  },
  {
   "cell_type": "code",
   "execution_count": 18,
   "metadata": {},
   "outputs": [
    {
     "data": {
      "text/plain": [
       "__label__crnakronika      0.079346\n",
       "__label__druzba           0.079346\n",
       "__label__gospodarstvo     0.079346\n",
       "__label__kultura          0.079346\n",
       "__label__politika         0.079346\n",
       "__label__sport            0.079346\n",
       "__label__zabava           0.079346\n",
       "__label__zdravje          0.079346\n",
       "__label__znanost          0.075617\n",
       "__label__vreme            0.073475\n",
       "__label__prosticas        0.072840\n",
       "__label__okolje           0.072284\n",
       "__label__izobrazevanje    0.071015\n",
       "Name: label, dtype: float64"
      ]
     },
     "execution_count": 18,
     "metadata": {},
     "output_type": "execute_result"
    }
   ],
   "source": [
    "df.label.value_counts(normalize=\"True\")"
   ]
  }
 ],
 "metadata": {
  "kernelspec": {
   "display_name": "Python 3.10.2 64-bit",
   "language": "python",
   "name": "python3"
  },
  "language_info": {
   "codemirror_mode": {
    "name": "ipython",
    "version": 3
   },
   "file_extension": ".py",
   "mimetype": "text/x-python",
   "name": "python",
   "nbconvert_exporter": "python",
   "pygments_lexer": "ipython3",
   "version": "3.10.2"
  },
  "orig_nbformat": 4,
  "vscode": {
   "interpreter": {
    "hash": "4054637ba3b142bc5aa565ef637e29d85952330aa10ad5bd25955ba00ae91bfa"
   }
  }
 },
 "nbformat": 4,
 "nbformat_minor": 2
}
